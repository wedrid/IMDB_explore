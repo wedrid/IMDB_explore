{
 "cells": [
  {
   "cell_type": "code",
   "execution_count": 3,
   "id": "80f9973d",
   "metadata": {},
   "outputs": [],
   "source": [
    "import pandas as pd\n",
    "import networkx as nx\n",
    "from tqdm.notebook import tqdm\n",
    "import numpy as np\n",
    "import random\n",
    "import time"
   ]
  },
  {
   "cell_type": "code",
   "execution_count": 2,
   "id": "605a3508",
   "metadata": {},
   "outputs": [],
   "source": [
    "def initDF():\n",
    "    # INIT\n",
    "    dff = pd.read_csv('imdb_dataset.tsv', sep='\\t', header=None, dtype=str)\n",
    "    edges = dff.to_records(index=False)\n",
    "    dff[2] = dff[1].str.extract(r'(\\(\\d{4})', expand=True)#.str.replace(\"(\", \"\").fillna(0).astype(int) #FIXME fillna is pretty ugly rn\n",
    "    dff[2] = dff[2].str.replace(\"(\", \"\", regex=False).fillna(0).astype(int)\n",
    "    dff = dff.rename(columns={0: \"actor\", 1: \"movie\", 2: \"year\"})\n",
    "    dff.loc[dff['movie'] == 'Re']\n",
    "    dff['movie'] = dff['movie'].replace(['Re'],'Re ')\n",
    "    dff['movie'] = dff['movie'].replace(['Regen'], 'Regen ')\n",
    "    return dff\n",
    "    "
   ]
  },
  {
   "cell_type": "code",
   "execution_count": 3,
   "id": "5dddaf9a",
   "metadata": {},
   "outputs": [
    {
     "name": "stdout",
     "output_type": "stream",
     "text": [
      "Number of nodes after adding actors_f is 2364796\n",
      "Number of nodes after adding movies_f is 3110737\n"
     ]
    }
   ],
   "source": [
    "def generateIMDBGraph(in_df):\n",
    "    '''\n",
    "    Generates bipartite (0 is actor, 1 is movie) graph of which nodes are \n",
    "    movies and actors, and an edge is present if an actor participated in a movie\n",
    "    Arguments: \n",
    "        in_df: dataframe of which columns are (index, actor, movie)\n",
    "    Returns: \n",
    "        Tuple: \n",
    "            - graph: graph in which nodes are numerical (and not string)\n",
    "            - original_graph: graph in which the nodes are a string\n",
    "            - actor_nodes_f: the list of indices representing the nodes that are of type actor\n",
    "            - movies_nodes_f: the list of indices representing the nodes that are of type movie\n",
    "            - actors_f: list of actors (strings)\n",
    "            - movies_f: list of movies (string)\n",
    "            \n",
    "    '''\n",
    "    in_df = pd.read_csv('imdb_dataset.tsv', sep='\\t', header=None, dtype=str)\n",
    "    edges = in_df.to_records(index=False)\n",
    "    in_df[2] = in_df[1].str.extract(r'(\\(\\d{4})', expand=True)#.str.replace(\"(\", \"\").fillna(0).astype(int) #FIXME fillna is pretty ugly rn\n",
    "    in_df[2] = in_df[2].str.replace(\"(\", \"\", regex=False).fillna(0).astype(int)\n",
    "    in_df = in_df.rename(columns={0: \"actor\", 1: \"movie\", 2: \"year\"})\n",
    "    in_df.loc[in_df['movie'] == 'Re']\n",
    "    in_df['movie'] = in_df['movie'].replace(['Re'],'Re ')\n",
    "    in_df['movie'] = in_df['movie'].replace(['Regen'], 'Regen ')\n",
    "    actors_f = in_df.actor.unique()\n",
    "    movies_f = in_df.movie.unique()\n",
    "    movies_dict = in_df.drop(columns='actor').drop_duplicates().set_index('movie').to_dict('index')\n",
    "    movies_tuples_list = [(k, v) for k, v in movies_dict.items()] #ugly but convenient for what networkx expects\n",
    "    original_graph = nx.Graph()\n",
    "    original_graph.add_nodes_from(actors_f, bipartite = 0) #attribute bipartite following documentation recommendations. In this case 0 is actors_f, 1 is movies_f\n",
    "    print(f\"Number of nodes after adding actors_f is {original_graph.number_of_nodes()}\")\n",
    "    original_graph.add_nodes_from(movies_tuples_list, bipartite = 1)\n",
    "    print(f\"Number of nodes after adding movies_f is {original_graph.number_of_nodes()}\") \n",
    "    original_graph.add_edges_from(edges)\n",
    "    graph = nx.convert_node_labels_to_integers(original_graph, label_attribute='original_name')\n",
    "    actor_nodes_f = {n for n, d in graph.nodes(data=True) if d[\"bipartite\"] == 0}\n",
    "    movies_nodes_f = set(graph) - actor_nodes_f\n",
    "    return (graph, original_graph, actor_nodes_f, movies_nodes_f, actors_f, movies_f)\n",
    "\n",
    "df = pd.read_csv('imdb_dataset.tsv', sep='\\t', header=None, dtype=str)\n",
    "G, oriGinal, actor_nodes, movies_nodes, actors_f, movies_f = generateIMDBGraph(df)\n"
   ]
  },
  {
   "cell_type": "code",
   "execution_count": 2,
   "id": "74d5f880",
   "metadata": {},
   "outputs": [
    {
     "name": "stdout",
     "output_type": "stream",
     "text": [
      "0    object\n",
      "1    object\n",
      "dtype: object\n"
     ]
    }
   ],
   "source": [
    "#df = pd.read_csv('imdb_dataset.tsv', sep='\\t', header=None, dtype=str)\n",
    "#print(df.dtypes)"
   ]
  },
  {
   "cell_type": "code",
   "execution_count": 3,
   "id": "b6ba9444",
   "metadata": {},
   "outputs": [],
   "source": [
    "edges = df.to_records(index=False)"
   ]
  },
  {
   "cell_type": "code",
   "execution_count": 4,
   "id": "4393754e",
   "metadata": {},
   "outputs": [],
   "source": [
    "df[2] = df[1].str.extract(r'(\\(\\d{4})', expand=True)#.str.replace(\"(\", \"\").fillna(0).astype(int) #FIXME fillna is pretty ugly rn\n",
    "df[2] = df[2].str.replace(\"(\", \"\", regex=False).fillna(0).astype(int)\n"
   ]
  },
  {
   "cell_type": "code",
   "execution_count": null,
   "id": "51493f50",
   "metadata": {},
   "outputs": [],
   "source": []
  },
  {
   "cell_type": "code",
   "execution_count": 5,
   "id": "b9b8ce11",
   "metadata": {},
   "outputs": [],
   "source": [
    "#https://pandas.pydata.org/docs/reference/api/pandas.Series.str.extract.html\n",
    "# I think the simple regex is sufficient\n",
    "df = df.rename(columns={0: \"actor\", 1: \"movie\", 2: \"year\"})"
   ]
  },
  {
   "cell_type": "code",
   "execution_count": 6,
   "id": "de325c06",
   "metadata": {},
   "outputs": [
    {
     "name": "stdout",
     "output_type": "stream",
     "text": [
      "Empty DataFrame\n",
      "Columns: [actor, movie, year]\n",
      "Index: []\n"
     ]
    }
   ],
   "source": [
    "print(df[df['year'].isnull()])"
   ]
  },
  {
   "cell_type": "code",
   "execution_count": 7,
   "id": "e4f66a40",
   "metadata": {},
   "outputs": [
    {
     "data": {
      "text/html": [
       "<div>\n",
       "<style scoped>\n",
       "    .dataframe tbody tr th:only-of-type {\n",
       "        vertical-align: middle;\n",
       "    }\n",
       "\n",
       "    .dataframe tbody tr th {\n",
       "        vertical-align: top;\n",
       "    }\n",
       "\n",
       "    .dataframe thead th {\n",
       "        text-align: right;\n",
       "    }\n",
       "</style>\n",
       "<table border=\"1\" class=\"dataframe\">\n",
       "  <thead>\n",
       "    <tr style=\"text-align: right;\">\n",
       "      <th></th>\n",
       "      <th>actor</th>\n",
       "      <th>movie</th>\n",
       "      <th>year</th>\n",
       "    </tr>\n",
       "  </thead>\n",
       "  <tbody>\n",
       "    <tr>\n",
       "      <th>13500</th>\n",
       "      <td>Abud, Machfud</td>\n",
       "      <td>Darah perjaka (1985)</td>\n",
       "      <td>1985</td>\n",
       "    </tr>\n",
       "    <tr>\n",
       "      <th>13501</th>\n",
       "      <td>Abud, Machfud</td>\n",
       "      <td>Perawan disarang sindikat (1987)</td>\n",
       "      <td>1987</td>\n",
       "    </tr>\n",
       "    <tr>\n",
       "      <th>13502</th>\n",
       "      <td>Abud, Machfud</td>\n",
       "      <td>Siluman kera (1988)</td>\n",
       "      <td>1988</td>\n",
       "    </tr>\n",
       "    <tr>\n",
       "      <th>13503</th>\n",
       "      <td>Abud, Machfud</td>\n",
       "      <td>Tarzan raja rimba (1989)</td>\n",
       "      <td>1989</td>\n",
       "    </tr>\n",
       "    <tr>\n",
       "      <th>13504</th>\n",
       "      <td>Abud, Mariano</td>\n",
       "      <td>Un Bu?uel mexican (1997)</td>\n",
       "      <td>1997</td>\n",
       "    </tr>\n",
       "  </tbody>\n",
       "</table>\n",
       "</div>"
      ],
      "text/plain": [
       "               actor                             movie  year\n",
       "13500  Abud, Machfud              Darah perjaka (1985)  1985\n",
       "13501  Abud, Machfud  Perawan disarang sindikat (1987)  1987\n",
       "13502  Abud, Machfud               Siluman kera (1988)  1988\n",
       "13503  Abud, Machfud          Tarzan raja rimba (1989)  1989\n",
       "13504  Abud, Mariano          Un Bu?uel mexican (1997)  1997"
      ]
     },
     "execution_count": 7,
     "metadata": {},
     "output_type": "execute_result"
    }
   ],
   "source": [
    "df[13500:13505]"
   ]
  },
  {
   "cell_type": "code",
   "execution_count": 10,
   "id": "cb0eb39c",
   "metadata": {},
   "outputs": [
    {
     "name": "stdout",
     "output_type": "stream",
     "text": [
      "Number of actors is: 2364796 \n",
      "Number of movies is: 745941 \n",
      "Total nodes will be: 3110737\n",
      "Number of edges is will be: 8104335\n"
     ]
    }
   ],
   "source": [
    "actors = df.actor.unique()\n",
    "movies = df.movie.unique()\n",
    "print(f\"Number of actors is: {len(actors)} \\nNumber of movies is: {len(movies)} \\nTotal nodes will be: {actors.size + movies.size}\")\n",
    "print(f\"Number of edges is will be: {len(edges)}\")\n"
   ]
  },
  {
   "cell_type": "code",
   "execution_count": 11,
   "id": "800f0d3d",
   "metadata": {},
   "outputs": [],
   "source": [
    "movies_dict = df.drop(columns='actor').drop_duplicates().set_index('movie').to_dict('index')\n",
    "movies_tuples_list = [(k, v) for k, v in movies_dict.items()] #ugly but convenient for what networkx expects"
   ]
  },
  {
   "cell_type": "code",
   "execution_count": 12,
   "id": "6753db53",
   "metadata": {},
   "outputs": [
    {
     "data": {
      "text/plain": [
       "[('Nykytaiteen museo (1986)', {'year': 1986}),\n",
       " ('Suuri illusioni (1985)', {'year': 1985}),\n",
       " ('E.R. Sluts (2003) (V)', {'year': 2003}),\n",
       " ('American Pimp (1999)', {'year': 1999}),\n",
       " ('Beats, Rhymes & Life: The Travels of a Tribe Called Quest (2011)',\n",
       "  {'year': 2011}),\n",
       " ('Gangsta Rap: The Glockumentary (2007)', {'year': 2007}),\n",
       " ('Get It Where You Fit in 1 (2003) (V)', {'year': 2003}),\n",
       " ('Ghetto Physics (2010)', {'year': 2010}),\n",
       " ('Ghostride the Whip (2008) (V)', {'year': 2008}),\n",
       " ('Hip Hop Uncensored Vol. 4: Miami Vice (2002) (V)', {'year': 2002}),\n",
       " ('Menace II Society (1993)', {'year': 1993}),\n",
       " ('Ozone West 3 (2009) (V)', {'year': 2009}),\n",
       " ('Pimpalation: Return of the Trill (2006)', {'year': 2006}),\n",
       " ('Planet Rock: The Story of Hip-Hop and the Crack Generation (2011) (TV)',\n",
       "  {'year': 2011}),\n",
       " ('Porndogs: The Adventures of Sadie (2009)', {'year': 2009}),\n",
       " ('Rhyme & Reason (1997)', {'year': 1997}),\n",
       " ('Scarface: Greatest Hits on DVD (2003) (V)', {'year': 2003}),\n",
       " ('Stop Pepper Palmer (2014)', {'year': 2014}),\n",
       " ('Tight (2010) (V)', {'year': 2010}),\n",
       " ('Townbiz (2010)', {'year': 2010}),\n",
       " ('Uprising: Hip Hop and the LA Riots (2012)', {'year': 2012}),\n",
       " ('West Coast Theory (2009) (V)', {'year': 2009}),\n",
       " ('Fatherhood 101 (2013)', {'year': 2013}),\n",
       " ('For Thy Love 2 (2009)', {'year': 2009}),\n",
       " ('Night of the Jackals (2009) (V)', {'year': 2009}),\n",
       " ('Michel na Balada (2011) (V)', {'year': 2011}),\n",
       " ('Michel Tel?: Sunset (2013) (V)', {'year': 2013}),\n",
       " ('Show da Virada (2011) (TV)', {'year': 2011}),\n",
       " ('Teleton 2010 (2010) (TV)', {'year': 2010}),\n",
       " ('Teleton 2009 (2009) (TV)', {'year': 2009}),\n",
       " ('Teleton 2012 (2012) (TV)', {'year': 2012}),\n",
       " ('When the Man Went South (2014)', {'year': 2014}),\n",
       " ('The Gift (2010/I)', {'year': 2010}),\n",
       " ('Mixing Nia (1998)', {'year': 1998}),\n",
       " ('Rock Steady (2002)', {'year': 2002}),\n",
       " ('W8 (Weight) (2012)', {'year': 2012}),\n",
       " ('The Replacements (2000)', {'year': 2000}),\n",
       " ('Bait Shop (2008) (V)', {'year': 2008}),\n",
       " ('My Song for You (2010)', {'year': 2010}),\n",
       " ('Babado Novo: Ver-te Mar (2007) (V)', {'year': 2007}),\n",
       " ('Claudia Leitte: Ao Vivo em Copacabana (2008) (V)', {'year': 2008}),\n",
       " ('Roupa Ac?stico 2 (2006) (V)', {'year': 2006}),\n",
       " ('Uau! Babado Novo Ao Vivo em Salvador (2004) (V)', {'year': 2004}),\n",
       " ('Welcome to Slab City (2012)', {'year': 2012}),\n",
       " ('Natas es Satan (1977)', {'year': 1977}),\n",
       " ('All Out War (2013)', {'year': 2013}),\n",
       " ('B-Girl (2009)', {'year': 2009}),\n",
       " ('Battle of the Year (2013)', {'year': 2013}),\n",
       " (\"Breakin' Till Dawn (2011)\", {'year': 2011}),\n",
       " (\"DJ Dizzy's Dance Hizzy (2005) (V)\", {'year': 2005}),\n",
       " ('Kickin It Old Skool (2007)', {'year': 2007}),\n",
       " ('Lemonade Mouth (2011) (TV)', {'year': 2011}),\n",
       " ('The Ho Down (2010)', {'year': 2010}),\n",
       " ('The LXD: The Secrets of the Ra (2011)', {'year': 2011}),\n",
       " ('?Ja me maaten...! (2000)', {'year': 2000}),\n",
       " ('Ambos mundos (2007) (V)', {'year': 2007}),\n",
       " ('Angels with Dirty Faces (1938)', {'year': 1938}),\n",
       " ('Crime School (1938)', {'year': 1938}),\n",
       " (\"Hell's Kitchen (1939)\", {'year': 1939}),\n",
       " ('They Made Me a Criminal (1939)', {'year': 1939}),\n",
       " ('Barrio Gangsters (2009)', {'year': 2009}),\n",
       " ('90 Jahre Burgenland (2011) (TV)', {'year': 2011}),\n",
       " ('La guitarra muda (1953)', {'year': 1953}),\n",
       " ('Alma gitana (1996)', {'year': 1996}),\n",
       " ('De todo coraz?n (2000) (TV)', {'year': 2000}),\n",
       " ('Festival de Benidorm 2004 (2004) (TV)', {'year': 2004}),\n",
       " ('Gala de la hispanidad 2000 (2000) (TV)', {'year': 2000}),\n",
       " ('Gala de presentaci?n de la temporada 2000/2001 (2000) (TV)',\n",
       "  {'year': 2000}),\n",
       " ('Gala de verano (2000) (TV)', {'year': 2000}),\n",
       " ('La chica del verano (2000) (TV)', {'year': 2000}),\n",
       " ('Miss Espa?a 2002 (2002) (TV)', {'year': 2002}),\n",
       " ('O que dis que din (2003)', {'year': 2003}),\n",
       " ('Premios Amigo 2000 (2000) (TV)', {'year': 2000}),\n",
       " ('Rosa y amigos (2002) (TV)', {'year': 2002}),\n",
       " ('Sevilla es feria (2000) (TV)', {'year': 2000}),\n",
       " ('Veo, veo internacional (2004) (TV)', {'year': 2004}),\n",
       " ('Depravada (2006) (V)', {'year': 2006}),\n",
       " ('Especial humor: Vaya... y vuelta (1996) (TV)', {'year': 1996}),\n",
       " ('La noche de los inocentes (1997) (TV)', {'year': 1997}),\n",
       " ('Muchas gracias 1996 (1996) (TV)', {'year': 1996}),\n",
       " ('Pelotazo nacional (1993)', {'year': 1993}),\n",
       " ('Los Tarantos (1963)', {'year': 1963}),\n",
       " ('Entre las patas de los caballos (2000)', {'year': 2000}),\n",
       " ('Torrente 2: Misi?n en Marbella (2001)', {'year': 2001}),\n",
       " ('Los almendros - Plaza nueva - (2000)', {'year': 2000}),\n",
       " ('De la calle (2001)', {'year': 2001}),\n",
       " ('La contrabandista (1982)', {'year': 1982}),\n",
       " ('Operaci?n narc?ticos (1991)', {'year': 1991}),\n",
       " ('The Brotherhood (2013)', {'year': 2013}),\n",
       " ('OP Pro 88 - Barra, Rio (1988)', {'year': 1988}),\n",
       " ('Mahogany Sunrise (2013)', {'year': 2013}),\n",
       " (\"Everybody's Business (1993)\", {'year': 1993}),\n",
       " ('102 PS (2009)', {'year': 2009}),\n",
       " ('Troop 491: Adventures of the Muddy Lions (2013)', {'year': 2013}),\n",
       " (\"Heron's Story (2008)\", {'year': 2008}),\n",
       " ('Around the Beatles (1964) (TV)', {'year': 1964}),\n",
       " ('Been Down So Long It Looks Like Up to Me (1971)', {'year': 1971}),\n",
       " ('I Wanna Hold Your Hand (1978)', {'year': 1978}),\n",
       " (\"It's What's Happening, Baby! (1965) (TV)\", {'year': 1965}),\n",
       " (\"Sweet Talkin' Guys (1991) (TV)\", {'year': 1991}),\n",
       " (\"That's the Way of the World (1975)\", {'year': 1975}),\n",
       " ('The Beatles at Shea Stadium (1966) (TV)', {'year': 1966}),\n",
       " ('The Beatles: The First U.S. Visit (1991) (V)', {'year': 1991}),\n",
       " ('The Day the Music Died (1977)', {'year': 1977}),\n",
       " (\"What's Happening! The Beatles in the U.S.A. (1964) (TV)\", {'year': 1964}),\n",
       " ('Violencia urbana (1996)', {'year': 1996}),\n",
       " ('Drug Demon Romance (2012)', {'year': 2012}),\n",
       " (\"Don't Bite the Apple (2011)\", {'year': 2011}),\n",
       " ('Nothing Like the Holidays (2008)', {'year': 2008}),\n",
       " ('Ransum Games (2014)', {'year': 2014}),\n",
       " ('Subtle Seduction (2008)', {'year': 2008}),\n",
       " ('The Godfather of Green Bay (2005)', {'year': 2005}),\n",
       " ('Caceria de judiciales (1997)', {'year': 1997}),\n",
       " ('El secuestro de un periodista (1992)', {'year': 1992}),\n",
       " ('Violencia en la sierra (1995)', {'year': 1995}),\n",
       " (\"Manito: Brother's Sacrifice (2013)\", {'year': 2013}),\n",
       " (\"Rebecca's Window (2006)\", {'year': 2006}),\n",
       " ('Jackass 3D (2010)', {'year': 2010}),\n",
       " ('Nom T?w (2009)', {'year': 2009}),\n",
       " ('Grey Britain (2009)', {'year': 2009}),\n",
       " ('Half Hearted (2010)', {'year': 2010}),\n",
       " ('Sign Language (2010/II)', {'year': 2010}),\n",
       " ('A Journey from the N-Side: An Unscripted Profile of a Jazz/Poet (2010) (V)',\n",
       "  {'year': 2010}),\n",
       " ('The Enemies You Keep (2012)', {'year': 2012}),\n",
       " ('Gospel Truth (2011)', {'year': 2011}),\n",
       " ('Reflections of Evil (2002)', {'year': 2002}),\n",
       " ('JFH Brawl (2007) (V)', {'year': 2007}),\n",
       " ('Justice-For-Hire (2005)', {'year': 2005}),\n",
       " ('La estatua (1961)', {'year': 1961}),\n",
       " ('Going to the Dogs (1986) (TV)', {'year': 1986}),\n",
       " ('Subprime Children (2012)', {'year': 2012}),\n",
       " ('Step Fast (1994)', {'year': 1994}),\n",
       " ('The Crime City Diaries: Entry 1 - Crooked (2012)', {'year': 2012}),\n",
       " ('Fire Down Below (1957)', {'year': 1957}),\n",
       " ('Boudewijn B?ch - De dichter, de dodo en het demasqu? (2008) (TV)',\n",
       "  {'year': 2008}),\n",
       " ('Zonde (2010)', {'year': 2010}),\n",
       " ('De gebroken kruik (1958) (TV)', {'year': 1958}),\n",
       " ('De zaak M.P. (1960)', {'year': 1960}),\n",
       " ('Dorp aan de rivier (1958)', {'year': 1958}),\n",
       " ('Gijsbrecht van Aemstel (1957) (TV)', {'year': 1957}),\n",
       " ('Traan (1962) (TV)', {'year': 1962}),\n",
       " ('Moord in extase (1984)', {'year': 1984}),\n",
       " ('48 minuten (2013)', {'year': 2013}),\n",
       " (\"Jack l'?ventreur (1971)\", {'year': 1971}),\n",
       " ('UFC 55: Fury (2005) (TV)', {'year': 2005}),\n",
       " ('Contested (2012)', {'year': 2012}),\n",
       " ('Twister: A Musical Catastrophe (2000) (V)', {'year': 2000}),\n",
       " ('I Got Soul (2013)', {'year': 2013}),\n",
       " ('MTV Video Music Awards 1985 (1985) (TV)', {'year': 1985}),\n",
       " ('MTV Video Music Awards 1986 (1986) (TV)', {'year': 1986}),\n",
       " ('Leprechaun 3 (1995) (V)', {'year': 1995}),\n",
       " ('Motown Mafia: The Story of Eddie Jackson and Courtney Brown (2011)',\n",
       "  {'year': 2011}),\n",
       " (\"Pele's Appeal (1990)\", {'year': 1990}),\n",
       " ('Transformers: Revenge of the Fallen (2009)', {'year': 2009}),\n",
       " ('Skate - O Esporte Emo??o (1987)', {'year': 1987}),\n",
       " (\"'N Sync - Most Requested Hit Videos (2002) (V)\", {'year': 2002}),\n",
       " ('101 Biggest Celebrity Oops (2004) (TV)', {'year': 2004}),\n",
       " ('1999 Blockbuster Entertainment Awards (1999) (TV)', {'year': 1999}),\n",
       " ('2000 MTV Movie Awards (2000) (TV)', {'year': 2000}),\n",
       " (\"American Bandstand's 50th Anniversary Celebration (2002) (TV)\",\n",
       "  {'year': 2002}),\n",
       " ('Bubblegum Babylon (2002) (TV)', {'year': 2002}),\n",
       " (\"L'Oreal Summer Music Mania (1999) (TV)\", {'year': 1999}),\n",
       " (\"Macy's Thanksgiving Day Parade (1998) (TV)\", {'year': 1998}),\n",
       " ('MTV Snowed In 2000 (2000) (TV)', {'year': 2000}),\n",
       " ('MTV Video Music Awards 1999 (1999) (TV)', {'year': 1999}),\n",
       " ('MTV Video Music Awards 2001 (2001) (TV)', {'year': 2001}),\n",
       " ('MTV Video Music Awards 2002 (2002) (TV)', {'year': 2002}),\n",
       " (\"New Year's Rockin' Eve 2001 (2000) (TV)\", {'year': 2000}),\n",
       " (\"Nickelodeon Kids' Choice Awards (2001) (TV)\", {'year': 2001}),\n",
       " ('SNL: 25 Years of Music (1999) (TV)', {'year': 1999}),\n",
       " ('Summer Music Mania 2000 (2000) (TV)', {'year': 2000}),\n",
       " ('Super Bowl XXXV (2001) (TV)', {'year': 2001}),\n",
       " ('Super Bowl XXXV Halftime Show (2001) (TV)', {'year': 2001}),\n",
       " ('The 1998 Billboard Music Awards (1998) (TV)', {'year': 1998}),\n",
       " ('The 1999 Billboard Music Awards (1999) (TV)', {'year': 1999}),\n",
       " ('The 2001 Billboard Music Awards (2001) (TV)', {'year': 2001}),\n",
       " ('The 25th Annual American Music Awards (1998) (TV)', {'year': 1998}),\n",
       " ('The 26th Annual American Music Awards (1999) (TV)', {'year': 1999}),\n",
       " ('The 27th Annual American Music Awards (2000) (TV)', {'year': 2000}),\n",
       " (\"The 27th Annual People's Choice Awards (2001) (TV)\", {'year': 2001}),\n",
       " ('The 28th Annual American Music Awards (2001) (TV)', {'year': 2001}),\n",
       " (\"The 28th Annual People's Choice Awards (2002) (TV)\", {'year': 2002}),\n",
       " ('The 40th Anniversary American Music Awards (2012) (TV)', {'year': 2012}),\n",
       " ('The 72nd Annual Academy Awards (2000) (TV)', {'year': 2000}),\n",
       " ('The Teen Choice Awards 2002 (2002) (TV)', {'year': 2002}),\n",
       " ('Walt Disney World Very Merry Christmas Parade (1999) (TV)', {'year': 1999}),\n",
       " ('For the Birds (2013)', {'year': 2013}),\n",
       " ('Inescapable Dream (2012)', {'year': 2012}),\n",
       " ('24 instantes (2004)', {'year': 2004}),\n",
       " ('One Gong (2013)', {'year': 2013}),\n",
       " ('The Shore (2013)', {'year': 2013}),\n",
       " (\"It's a Good Life (2013)\", {'year': 2013}),\n",
       " ('Kayan Beauties (2012)', {'year': 2012}),\n",
       " ('Hanabi Shisou (2013)', {'year': 2013}),\n",
       " ('Counting My Days (2010)', {'year': 2010}),\n",
       " ('R?wnonoc (2011)', {'year': 2011}),\n",
       " ('While the Train Runs (2013)', {'year': 2013}),\n",
       " ('People in White (2011) (V)', {'year': 2011}),\n",
       " ('Melody of Funhouse (2013)', {'year': 2013}),\n",
       " ('Mowly (2011)', {'year': 2011}),\n",
       " ('Big Weekend (2011)', {'year': 2011}),\n",
       " ('Shourya (2013)', {'year': 2013}),\n",
       " ('Maayan El Pescador (2011) (V)', {'year': 2011}),\n",
       " ('Blue Gateway of Happiness (2012)', {'year': 2012}),\n",
       " ('Life of Festival (2012)', {'year': 2012}),\n",
       " ('Le?ador Y La Mujer Am?rica (2013)', {'year': 2013}),\n",
       " ('Three from the Block (2013)', {'year': 2013}),\n",
       " ('Bikini Bloodbath Christmas (2009) (V)', {'year': 2009}),\n",
       " ('London Betty (2009)', {'year': 2009}),\n",
       " (\"Rudyard Kipling's Mark of the Beast (2012)\", {'year': 2012}),\n",
       " ('Quiescence (2011) (V)', {'year': 2011}),\n",
       " ('The Thief and the Wise Man (2010)', {'year': 2010}),\n",
       " (\"Don't Leave Me (2013)\", {'year': 2013}),\n",
       " ('Belva Nera (2013)', {'year': 2013}),\n",
       " ('Magnetic Personality (2013)', {'year': 2013}),\n",
       " ('Peak of Terror (2013)', {'year': 2013}),\n",
       " ('The Furious Force of Rhymes (2010)', {'year': 2010}),\n",
       " ('Bad Ideas (2012)', {'year': 2012}),\n",
       " ('The Blind Photographer (2011)', {'year': 2011}),\n",
       " ('Cannibal Maid and Killer Nurse (2011)', {'year': 2011}),\n",
       " ('Safari Jadeyi (2013)', {'year': 2013}),\n",
       " ('With or Without You (2010)', {'year': 2010}),\n",
       " ('Rosy Theatre, Kanapur (2012)', {'year': 2012}),\n",
       " ('Meet Me on the Hill (2011)', {'year': 2011}),\n",
       " (\"I Think It'll Fit (2006) (V)\", {'year': 2006}),\n",
       " ('It Might Be Hot! (2006) (V)', {'year': 2006}),\n",
       " (\"Tina's World (2009)\", {'year': 2009}),\n",
       " ('Courier Culture (2012) (V)', {'year': 2012}),\n",
       " ('The Genderfellator (2011)', {'year': 2011}),\n",
       " ('The Quincy Rose Show (2011)', {'year': 2011}),\n",
       " ('American Slaves (2007) (V)', {'year': 2007}),\n",
       " ('The Wheel of Life (2012)', {'year': 2012}),\n",
       " ('Ellas (2012)', {'year': 2012}),\n",
       " ('38 Special: Live at Sturgis (1999) (V)', {'year': 1999}),\n",
       " ('CMT Road Pranks (2011) (TV)', {'year': 2011}),\n",
       " ('One Less Tear (2003) (V)', {'year': 2003}),\n",
       " ('Naya Zamana Nai Kranti (1990)', {'year': 1990}),\n",
       " ('Journey to Nyae Nyae (2004) (V)', {'year': 2004}),\n",
       " ('Power Surge (2004)', {'year': 2004}),\n",
       " ('A Tribe Called Quest: The Video Anthology (2002) (V)', {'year': 2002}),\n",
       " (\"Who's the Man? (1993)\", {'year': 1993}),\n",
       " ('Herzausreisser - Neues vom Wienerlied (2008)', {'year': 2008}),\n",
       " ('Con la primera al 2001 (2000) (TV)', {'year': 2000}),\n",
       " ('El genio de Eugenio (2001) (TV)', {'year': 2001}),\n",
       " ('Love Hollywood Style (2006)', {'year': 2006}),\n",
       " ('10,000 Maniacs Time Capsule (1990) (V)', {'year': 1990}),\n",
       " ('Coruja (2001)', {'year': 2001}),\n",
       " ('Life on the 101 Ranch, Bliss Oklahoma (1914)', {'year': 1914}),\n",
       " ('Rash (2005)', {'year': 2005}),\n",
       " ('Austin Prowler (1999) (V)', {'year': 1999}),\n",
       " (\"10cc: Japan Tour '93 (1993) (TV)\", {'year': 1993}),\n",
       " ('80s Rewind Festival 2010 (2011) (TV)', {'year': 2011}),\n",
       " ('Stuck in the Middle (2003) (V)', {'year': 2003}),\n",
       " ('Big Apple (2002)', {'year': 2002}),\n",
       " ('The Restaurant (2011/I)', {'year': 2011}),\n",
       " ('The Umbrella (2010)', {'year': 2010}),\n",
       " ('Young Americans (2004)', {'year': 2004}),\n",
       " ('Zoolander (2001)', {'year': 2001}),\n",
       " (\"11th. Naval District 'United States Coast Guard Band' (1944)\",\n",
       "  {'year': 1944}),\n",
       " ('Shake, Rattle & Roll (2007)', {'year': 2007}),\n",
       " ('DGK: Parental Advisory (2012)', {'year': 2012}),\n",
       " ('Electric Daisy Carnival Experience (2011)', {'year': 2011}),\n",
       " ('KoRn the Path of Totality Tour (2012) (TV)', {'year': 2012}),\n",
       " ('AFI: I Heard a Voice (2006) (V)', {'year': 2006}),\n",
       " ('Inland Empire (2006)', {'year': 2006}),\n",
       " ('Live Freaky Die Freaky (2006)', {'year': 2006}),\n",
       " (\"Mary Jane's Not a Virgin Anymore (1998)\", {'year': 1998}),\n",
       " (\"Wednesday 13's Weirdo a Go-Go (2008) (V)\", {'year': 2008}),\n",
       " ('Wild Wheels (1969)', {'year': 1969}),\n",
       " ('A Sesame Street Christmas Carol (2006) (V)', {'year': 2006}),\n",
       " ('Elmo Saves Christmas (1996) (V)', {'year': 1996}),\n",
       " ('Halbe Treppe (2002)', {'year': 2002}),\n",
       " ('Ihr Brief zur Hochzeit (2012)', {'year': 2012}),\n",
       " ('Whisky mit Wodka (2009)', {'year': 2009}),\n",
       " ('D-Day, 6th June 1944: The Official Story (1994) (TV)', {'year': 1994}),\n",
       " ('C.B. Hustlers (1976)', {'year': 1976}),\n",
       " ('Rest in Peace, Cuervo Jones (2002) (V)', {'year': 2002}),\n",
       " ('8 Wheels of Death (2010)', {'year': 2010}),\n",
       " ('Reminiscing in Tempo (2006)', {'year': 2006}),\n",
       " ('British Summer Time Hyde Park (2013) (TV)', {'year': 2013}),\n",
       " ('Beneath the Surface (2005)', {'year': 2005}),\n",
       " ('Hamina Tattoo (2004) (TV)', {'year': 2004}),\n",
       " ('Ma 6-T va crack-er (1997)', {'year': 1997}),\n",
       " ('A Family Underground (2009)', {'year': 2009}),\n",
       " ('American Psycho Tour (2012)', {'year': 2012}),\n",
       " ('Backyard Wrestling 2: There Goes the Neighborhood (2004) (VG)',\n",
       "  {'year': 2004}),\n",
       " ('Big Money Hustlas (2000) (V)', {'year': 2000}),\n",
       " ('Big Money Rustlas (2010)', {'year': 2010}),\n",
       " ('Born Twiztid: Beyond the Freekshow (2002) (V)', {'year': 2002}),\n",
       " ('Bowling Balls (2004) (V)', {'year': 2004}),\n",
       " ('Death of an Indie label (2011)', {'year': 2011}),\n",
       " ('Death Racers (2008) (V)', {'year': 2008}),\n",
       " (\"ECW Hardcore Heaven '97 (1997) (V)\", {'year': 1997}),\n",
       " ('Fall Brawl (2000) (TV)', {'year': 2000}),\n",
       " ('Hatchet Attacks: Live from Red Rocks (2008) (V)', {'year': 2008}),\n",
       " ('Insane Clown Posse: Bootlegged in L.A. (2003) (V)', {'year': 2003}),\n",
       " ('JCW SLAM TV, Volume 1 (2007) (V)', {'year': 2007}),\n",
       " ('Juggalo Championshxt Wrestling Vol. 2 (2000) (V)', {'year': 2000}),\n",
       " ('Juggalo Championshxt Wrestling Volume 1 (2000) (V)', {'year': 2000}),\n",
       " ('Juggalo Championshxt Wrestling Volume 3 (2003) (V)', {'year': 2003}),\n",
       " ('Psychopathic: The Videos (2007) (V)', {'year': 2007}),\n",
       " (\"Road Warriors: The Life and Death of Wrestling's Most Dominant Tag Team (2005) (V)\",\n",
       "  {'year': 2005}),\n",
       " ('Shockumentary (1997)', {'year': 1997}),\n",
       " ('Summerslam (1998) (TV)', {'year': 1998}),\n",
       " ('The Chronicles of the Dark Carnival (2006) (TV)', {'year': 2006}),\n",
       " ('The Hitchcock of HipHop (2008) (V)', {'year': 2008}),\n",
       " ('The Purple Show (2003) (V)', {'year': 2003}),\n",
       " ('The Rise & Fall of ECW (2004) (V)', {'year': 2004}),\n",
       " ('Vanilla Ice Archive (2012)', {'year': 2012}),\n",
       " ('Vanilla Ice Live at the Iowa State Fair (2011) (V)', {'year': 2011}),\n",
       " ('WCW Road Wild (1999) (TV)', {'year': 1999}),\n",
       " (\"WWE: Greatest Stars of the '90s (2009) (V)\", {'year': 2009}),\n",
       " ('2010 VH1 Hip Hop Honors: The Dirty South (2010) (TV)', {'year': 2010}),\n",
       " ('MTV Video Music Awards 1990 (1990) (TV)', {'year': 1990}),\n",
       " (\"Rap's Most Wanted (1991) (V)\", {'year': 1991}),\n",
       " ('Battle of the Bands (1993) (TV)', {'year': 1993}),\n",
       " ('AVRO 85 jaar muziekinspiratie (2008) (V)', {'year': 2008}),\n",
       " ('Bomb It (2007)', {'year': 2007}),\n",
       " ('Just to Get a Rep (2004)', {'year': 2004}),\n",
       " ('Outside In: The Story of Art in the Streets (2011)', {'year': 2011}),\n",
       " ('Nice Shoes... Wanna Fuck? (2012) (V)', {'year': 2012}),\n",
       " ('Taboo 22 (2006) (V)', {'year': 2006}),\n",
       " (\"This Ain't Cops XXX (2010) (V)\", {'year': 2010}),\n",
       " ('Neu Wave Hookers (2006) (V)', {'year': 2006}),\n",
       " ('The Eurovision Song Contest (1991) (TV)', {'year': 1991}),\n",
       " ('Atemlos vor Liebe (1970)', {'year': 1970}),\n",
       " ('Desperados del ring, Vol. 3 (2005) (V)', {'year': 2005}),\n",
       " ('City Year New York: Putting Idealism to Work (2005)', {'year': 2005}),\n",
       " ('Gala FAO 1999 (1999) (TV)', {'year': 1999}),\n",
       " ('MTV Video Music Brasil 2002 (2002) (TV)', {'year': 2002}),\n",
       " ('MTV Video Music Brasil 2006 (2006) (TV)', {'year': 2006}),\n",
       " ('Um Show de Ver?o (2004)', {'year': 2004}),\n",
       " ('Strengin puutarhassa (2009)', {'year': 2009}),\n",
       " ('Why Not DC? One Nation Under a Groove (2006) (V)', {'year': 2006}),\n",
       " ('Premiya Muz-TV 2010 (2010) (TV)', {'year': 2010}),\n",
       " ('Premiya Muz-TV 2011 (2011) (TV)', {'year': 2011}),\n",
       " ('Premiya Muz-TV 2012 (2012) (TV)', {'year': 2012}),\n",
       " ('Snova zhzhet Novyy god 2012 (2011) (TV)', {'year': 2011}),\n",
       " ('Zolotoy grammofon 2010 (2010) (TV)', {'year': 2010}),\n",
       " ('50 Cent: The New Breed (2003) (V)', {'year': 2003}),\n",
       " (\"A Portrait of an Artist: The Making of 'Get Rich or Die Tryin' (2006) (V)\",\n",
       "  {'year': 2006}),\n",
       " ('The ARAW Values Advertising Awards (2007) (TV)', {'year': 2007}),\n",
       " ('Space Nuts (2003) (V)', {'year': 2003}),\n",
       " ('FNS 27HRS Television 26 (2012) (TV)', {'year': 2012}),\n",
       " ('Funny or Spank: Hotel for 24 Hours (2009) (TV)', {'year': 2009}),\n",
       " ('Zettai ni waratte wa ikenai Air Port 24 ji! (2011) (TV)', {'year': 2011}),\n",
       " ('Zettai ni waratte wa ikenai Nekketsu Ky?shi 24 ji (2012) (TV)',\n",
       "  {'year': 2012}),\n",
       " ('Zettai ni waratte wa ikenai Shinbunsha 24ji (2008) (TV)', {'year': 2008}),\n",
       " ('Zed (2009)', {'year': 2009}),\n",
       " ('Wizkid: Live in London (2012) (TV)', {'year': 2012}),\n",
       " ('Camjackers (2006)', {'year': 2006}),\n",
       " ('Sad Clown Bad Dub 4 (2003) (V)', {'year': 2003}),\n",
       " ('Speed Dragon (2013)', {'year': 2013}),\n",
       " ('This Is the Life (2008)', {'year': 2008}),\n",
       " ('Thunder in Carolina (1960)', {'year': 1960}),\n",
       " ('Blau Jeans (2009)', {'year': 2009}),\n",
       " ('Lacoma (2009/I)', {'year': 2009}),\n",
       " ('The Guardians (2010)', {'year': 2010}),\n",
       " ('Seven Songs for Malcolm X (1993)', {'year': 1993}),\n",
       " ('Die s??esten Fr?chte (1954)', {'year': 1954}),\n",
       " ('2004 Radio Music Awards (2004) (TV)', {'year': 2004}),\n",
       " ('3 Doors Down: Away from the Sun (2002) (V)', {'year': 2002}),\n",
       " ('3 Doors Down: Away from the Sun, Live from Houston, Texas (2005) (V)',\n",
       "  {'year': 2005}),\n",
       " (\"JCPenney Jam: The Concert for America's Kids (2006) (TV)\", {'year': 2006}),\n",
       " (\"New Year's Rockin' Eve 2006 (2005) (TV)\", {'year': 2005}),\n",
       " (\"Now That's What I Call Music!: The Best Videos of 2003! (2003) (V)\",\n",
       "  {'year': 2003}),\n",
       " (\"Primetime New Year's Rockin' Eve 2004 (2003) (TV)\", {'year': 2003}),\n",
       " ('Summer Music Mania 2004 (2004) (TV)', {'year': 2004}),\n",
       " ('Super Bowl Saturday Night Special (2005) (TV)', {'year': 2005}),\n",
       " ('The 2003 Billboard Music Awards (2003) (TV)', {'year': 2003}),\n",
       " ('The 31st Annual American Music Awards (2003) (TV)', {'year': 2003}),\n",
       " ('TMF Awards 2004 (2004) (TV)', {'year': 2004}),\n",
       " ('Amadeus Austrian Music Awards 2012 (2012) (TV)', {'year': 2012}),\n",
       " ('Ito ang aming daigdig (1955)', {'year': 1955}),\n",
       " ('Narren nach Noten (1969) (TV)', {'year': 1969}),\n",
       " ('Die Todesarena (1953)', {'year': 1953}),\n",
       " ('Dornwittchen und Schneer?schen (1970)', {'year': 1970}),\n",
       " ('Thunderdome: A Decade (2002) (V)', {'year': 2002}),\n",
       " ('An All-Colored Vaudeville Show (1935)', {'year': 1935}),\n",
       " ('Dixieland Jamboree (1946)', {'year': 1946}),\n",
       " ('Starnacht am W?rthersee (2000) (TV)', {'year': 2000}),\n",
       " ('2007 MTV Los Premios (2007) (TV)', {'year': 2007}),\n",
       " ('2013 MTV Video Music Awards (2013) (TV)', {'year': 2013}),\n",
       " ('All That Rocks (2006) (TV)', {'year': 2006}),\n",
       " ('Fuse Fangoria Chainsaw Awards (2006) (TV)', {'year': 2006}),\n",
       " ('I Heart Radio Music Festival: Night One (2013) (TV)', {'year': 2013}),\n",
       " ('MTV Australia Video Music Awards 2007 (2007) (TV)', {'year': 2007}),\n",
       " ('MTV Europe Music Awards 2008 (2008) (TV)', {'year': 2008}),\n",
       " ('MTV Video Music Awards 2011 Pre-Show (2011) (TV)', {'year': 2011}),\n",
       " ('Premiya Muz-TV 2008 (2008) (TV)', {'year': 2008}),\n",
       " ('The Immortal City (1954)', {'year': 1954}),\n",
       " ('Truffles for Mrs. Lovejoy (2000)', {'year': 2000}),\n",
       " (\"L'erba proibita (2002)\", {'year': 2002}),\n",
       " ('Live 8 (2005) (TV)', {'year': 2005}),\n",
       " ('Boardinghouse (1982)', {'year': 1982}),\n",
       " ('Hannah and Her Sisters (1986)', {'year': 1986}),\n",
       " ('MTV Video Music Awards 2009 (2009) (TV)', {'year': 2009}),\n",
       " ('MTV Video Music Awards 2010 (2010) (TV)', {'year': 2010}),\n",
       " ('MTV Video Music Brasil 2010 (2010) (TV)', {'year': 2010}),\n",
       " ('mtvU Woodie Awards 2009 (2009) (TV)', {'year': 2009}),\n",
       " ('The Warped Tour Documentary (2009) (V)', {'year': 2009}),\n",
       " ('?sterreich rockt den Song Contest (2012) (TV)', {'year': 2012}),\n",
       " (\"Wrastlin' (2006) (TV)\", {'year': 2006}),\n",
       " ('Honey (2003)', {'year': 2003}),\n",
       " ('Asad wa arbaa qutat (2007)', {'year': 2007}),\n",
       " ('The Eurovision Song Contest (2007) (TV)', {'year': 2007}),\n",
       " ('La tourn?e des grands Ducs (1953)', {'year': 1953}),\n",
       " ('The House on Sorority Row (1983)', {'year': 1983}),\n",
       " ('Negro Buenos Aires (2010)', {'year': 2010}),\n",
       " ('Da Block Party (2004) (V)', {'year': 2004}),\n",
       " ('Doggystyle (2001) (V)', {'year': 2001}),\n",
       " (\"Don't Shoot! I'm the Guitar Man (2014)\", {'year': 2014}),\n",
       " ('Girls Gone Wild: Doggy Style (2002) (V)', {'year': 2002}),\n",
       " (\"Layzie Bone & Mo' Thugs Records Presents: 100% Pure Thug Tour (2006) (V)\",\n",
       "  {'year': 2006}),\n",
       " ('Tupac: Resurrection (2003)', {'year': 2003}),\n",
       " ('Winner Takes All (1998) (TV)', {'year': 1998}),\n",
       " ('The Beat (2003)', {'year': 2003}),\n",
       " ('Killa Season (2006) (V)', {'year': 2006}),\n",
       " ('Hollywood: The Movie (1996) (V)', {'year': 1996}),\n",
       " ('American Rap Stars (2002) (V)', {'year': 2002}),\n",
       " ('Book of Love: The Definitive Reason Why Men Are Dogs (2002)',\n",
       "  {'year': 2002}),\n",
       " ('Miss March (2009)', {'year': 2009}),\n",
       " ('Number One with a Bullet (2008)', {'year': 2008}),\n",
       " ('One World Hip Hop Championships 2 (2009) (TV)', {'year': 2009}),\n",
       " ('Rhyme and Punishment (2011)', {'year': 2011}),\n",
       " ('Tha Eastsidaz (2005)', {'year': 2005}),\n",
       " ('The Second Half (2009)', {'year': 2009}),\n",
       " ('Thicker Than Water (1999)', {'year': 1999}),\n",
       " (\"Who's Making Tha Rules (2005)\", {'year': 2005}),\n",
       " ('Buddyhead Presents: Punk Is Dead (2005) (V)', {'year': 2005}),\n",
       " ('Through the Eastern Gate (2007)', {'year': 2007}),\n",
       " ('Boston Beatdown: See the World Through Our Eyes - Volume II (2004) (V)',\n",
       "  {'year': 2004}),\n",
       " ('Release (1998/I)', {'year': 1998}),\n",
       " ('Kes (1969)', {'year': 1969}),\n",
       " ('Dream Reaper (2006)', {'year': 2006}),\n",
       " ('Svetlo pro Svetlusku (2011) (TV)', {'year': 2011}),\n",
       " ('Hip Hop: The New World Order (2000) (V)', {'year': 2000}),\n",
       " ('Schatten der Manege (1931)', {'year': 1931}),\n",
       " ('Noi duri (1960)', {'year': 1960}),\n",
       " ('Gro?reinemachen (1935)', {'year': 1935}),\n",
       " ('The 5 Browns: Live in Concert (2010)', {'year': 2010}),\n",
       " ('Paris ist eine Reise wert (1966) (TV)', {'year': 1966}),\n",
       " ('Song.null.vier (2004) (TV)', {'year': 2004}),\n",
       " ('Paused in Time (2009)', {'year': 2009}),\n",
       " ('James Prescott and the Legend of Parker Rose (2002)', {'year': 2002}),\n",
       " ('The Legend of Parker Rose (2001)', {'year': 2001}),\n",
       " ('Prick (2001) (V)', {'year': 2001}),\n",
       " ('Plainsong (1982)', {'year': 1982}),\n",
       " ('Hell Bento: Uncovering the Japanese Underground (1995)', {'year': 1995}),\n",
       " (\"Rock 'n Tokyo (2007)\", {'year': 2007}),\n",
       " ('AND 1 Mix Tape Vol. 5 (2002) (V)', {'year': 2002}),\n",
       " ('101 Sexiest Celebrity Bodies (2005) (TV)', {'year': 2005}),\n",
       " ('13 (2010/I)', {'year': 2010}),\n",
       " ('2003 MTV Movie Awards (2003) (TV)', {'year': 2003}),\n",
       " ('2003 Radio Music Awards (2003) (TV)', {'year': 2003}),\n",
       " ('2009 American Music Awards (2009) (TV)', {'year': 2009}),\n",
       " ('2009 MTV Los Premios (2009) (TV)', {'year': 2009}),\n",
       " ('2012 BET Hip Hop Awards (2012) (TV)', {'year': 2012}),\n",
       " ('2013 NFL Draft (2013) (TV)', {'year': 2013}),\n",
       " ('3rd Annual BET Awards (2003) (TV)', {'year': 2003}),\n",
       " ('50 Cent: Blood on the Sand (2009) (VG)', {'year': 2009}),\n",
       " ('50 Cent: Bulletproof (2005) (VG)', {'year': 2005}),\n",
       " ('50 Cent: Bulletproof - Inside the Hood (2005) (TV)', {'year': 2005}),\n",
       " ('50 Cent: Refuse 2 Die (2005) (V)', {'year': 2005}),\n",
       " ('50 Cent: The Massacre - Special Edition (2005) (V)', {'year': 2005}),\n",
       " ('A Night for Vets: An MTV Concert for the Brave (2008) (TV)',\n",
       "  {'year': 2008}),\n",
       " ('All Things Fall Apart (2011)', {'year': 2011}),\n",
       " ('American Music Awards 2012 (2012) (TV)', {'year': 2012}),\n",
       " ('BBQ Pool Party (2005) (TV)', {'year': 2005}),\n",
       " ('Beef (2003)', {'year': 2003}),\n",
       " ('Beef II (2004) (V)', {'year': 2004}),\n",
       " ('Beef III (2005) (V)', {'year': 2005}),\n",
       " ('Before I Self Destruct (2009) (V)', {'year': 2009}),\n",
       " ('Behind the Scenes: World Music Awards 2007 (2007) (TV)', {'year': 2007}),\n",
       " ('BET Awards 2007 (2007) (TV)', {'year': 2007}),\n",
       " ('BET Source Hip Hop Awards (2004) (TV)', {'year': 2004}),\n",
       " ('Black and Blue: Legends of the Hip-Hop Cop (2006) (V)', {'year': 2006}),\n",
       " ('Blood Out (2011) (V)', {'year': 2011}),\n",
       " ('Boogie special: 50 Cent (2003) (TV)', {'year': 2003}),\n",
       " ('Brain Fart (2005) (TV)', {'year': 2005}),\n",
       " ('Brit Awards 2004 (2004) (TV)', {'year': 2004}),\n",
       " ('Call of Duty: Modern Warfare 2 (2009) (VG)', {'year': 2009}),\n",
       " ('Caught in the Crossfire (2010)', {'year': 2010}),\n",
       " ('Dead Man Running (2009)', {'year': 2009}),\n",
       " ('E! Buzz with Carla B (2011)', {'year': 2011}),\n",
       " ('Elvis: Viva Las Vegas (2007) (TV)', {'year': 2007}),\n",
       " ('Escape Plan (2013)', {'year': 2013}),\n",
       " ('Fashion Rocks (2007) (TV)', {'year': 2007}),\n",
       " ('Fire with Fire (2012/II)', {'year': 2012}),\n",
       " ('Forbes Celebrity 100: Who Made Bank? (2006) (TV)', {'year': 2006}),\n",
       " ('Freelancers (2012)', {'year': 2012}),\n",
       " ('Fromage 2003 (2003) (TV)', {'year': 2003}),\n",
       " (\"Get Rich or Die Tryin' (2005)\", {'year': 2005}),\n",
       " ('Groupie Love (2004) (V)', {'year': 2004}),\n",
       " ('Gun (2010)', {'year': 2010}),\n",
       " ('Hip Hop Babylon 2 (2003) (TV)', {'year': 2003}),\n",
       " ('Hip Hop Uncensored Vol. 5: The Greatest Shows on Earth (2003) (V)',\n",
       "  {'year': 2003}),\n",
       " ('Home of the Brave (2006)', {'year': 2006}),\n",
       " ('How to Make Money Selling Drugs (2012)', {'year': 2012}),\n",
       " (\"Keenan Cahill's story (2012)\", {'year': 2012}),\n",
       " ('Last Vegas (2013)', {'year': 2013}),\n",
       " ('Letter to the President (2005) (V)', {'year': 2005}),\n",
       " ('Limelight (2011)', {'year': 2011}),\n",
       " ('Live! (2007)', {'year': 2007}),\n",
       " ('Lockdown, USA (2006)', {'year': 2006}),\n",
       " ('MOBO Awards 2003 (2003) (TV)', {'year': 2003}),\n",
       " ('Money, Power, Respect: Hip Hop Billion Dollar Industry (2012)',\n",
       "  {'year': 2012}),\n",
       " ('Morning Glory (2010)', {'year': 2010}),\n",
       " ('MTV Bash: Carson Daly (2003) (TV)', {'year': 2003}),\n",
       " ('MTV Does Miami (2003) (TV)', {'year': 2003}),\n",
       " ('MTV Europe Music Awards 2002 (2002) (TV)', {'year': 2002}),\n",
       " ('MTV Europe Music Awards 2003 (2003) (TV)', {'year': 2003}),\n",
       " ('MTV Movie Awards 2005 Pre-Show (2005) (TV)', {'year': 2005}),\n",
       " ('MTV Spring Break: Cancun 2005 (2005) (TV)', {'year': 2005}),\n",
       " ('MTV Video Music Awards 2003 (2003) (TV)', {'year': 2003}),\n",
       " ('MTV Video Music Awards 2005 (2005) (TV)', {'year': 2005}),\n",
       " ('MTV Video Music Awards 2006 (2006) (TV)', {'year': 2006}),\n",
       " ('MTV Video Music Awards 2007 (2007) (TV)', {'year': 2007}),\n",
       " ('MTV Video Music Awards Opening Act (2003) (TV)', {'year': 2003}),\n",
       " ('MTV VMA Pre Show Royale (2007) (TV)', {'year': 2007}),\n",
       " ('MySpace Live: 50 Cent at the Hammerstein Ballroom (2007) (TV)',\n",
       "  {'year': 2007}),\n",
       " (\"New Year's Eve with Carson Daly (2008) (TV)\", {'year': 2008}),\n",
       " ('Notarized: Year End Video Countdown (2004) (TV)', {'year': 2004}),\n",
       " ('Onyx: 15 Years of Videos, History & Violence (2008) (V)', {'year': 2008}),\n",
       " ('Premiya Muz-TV 2006 (2006) (TV)', {'year': 2006}),\n",
       " ('Rap Therapy (2009)', {'year': 2009}),\n",
       " ('Righteous Kill (2008)', {'year': 2008}),\n",
       " (\"Righteous Kill - The Investigation: An In-Depth Look at 'Righteous Kill' (2009) (V)\",\n",
       "  {'year': 2009}),\n",
       " ('Setup (2011/I)', {'year': 2011}),\n",
       " ('Stars on Trial (2005) (TV)', {'year': 2005}),\n",
       " ('Streets of Blood (2009) (V)', {'year': 2009}),\n",
       " ('SXSW Flashback 2013 (2013) (TV)', {'year': 2013}),\n",
       " ('The 2005 Billboard Music Awards (2005) (TV)', {'year': 2005}),\n",
       " ('The 2007 World Music Awards (2007) (TV)', {'year': 2007}),\n",
       " ('The 46th Annual Grammy Awards (2004) (TV)', {'year': 2004}),\n",
       " ('The 6th Annual CNN Heroes: An All-Star Tribute (2012) (TV)',\n",
       "  {'year': 2012}),\n",
       " ('The Best of the World Music Awards (2010) (TV)', {'year': 2010}),\n",
       " ('The Best of: BlacksInActionTV.Com (2010)', {'year': 2010}),\n",
       " ('The Big Fat Quiz of the Year (2010) (TV)', {'year': 2010}),\n",
       " ('The Come Up (2006) (V)', {'year': 2006}),\n",
       " ('The Duchess in Hull (2008) (TV)', {'year': 2008}),\n",
       " ('The Evolution of Eminem (2004) (TV)', {'year': 2004}),\n",
       " ('The Frozen Ground (2013)', {'year': 2013}),\n",
       " ('The Game: Documentary (2005) (V)', {'year': 2005}),\n",
       " ('The Infamous Times, Volume I: The Original 50 Cent (2005) (V)',\n",
       "  {'year': 2005}),\n",
       " ('The MC: Why We Do It (2005) (V)', {'year': 2005}),\n",
       " ('The Prince (2014)', {'year': 2014}),\n",
       " ('The Shady National Convention (2004) (TV)', {'year': 2004}),\n",
       " ('The Simpsons: Celebrity Friends (2010) (TV)', {'year': 2010}),\n",
       " ('The World Awaits: De La Hoya vs. Mayweather (2007) (TV)', {'year': 2007}),\n",
       " ('Total Finale Live (2008) (TV)', {'year': 2008}),\n",
       " ('Twelve (2010)', {'year': 2010}),\n",
       " ('Vengeance (2014/II)', {'year': 2014}),\n",
       " ('VH1 Divas Celebrates Soul (2011) (TV)', {'year': 2011}),\n",
       " ('Vibe Awards (2003) (TV)', {'year': 2003}),\n",
       " ('Voodoo Music Experience 2003 (2003) (TV)', {'year': 2003}),\n",
       " ('Zulu Rocks - R?d l?ber (2007) (TV)', {'year': 2007}),\n",
       " ('Notorious B.I.G. Bigger Than Life (2007)', {'year': 2007}),\n",
       " ('Malcolm X (1972)', {'year': 1972}),\n",
       " ('2006 NHL Awards (2006) (TV)', {'year': 2006}),\n",
       " ('Rise Up: Canadian Pop Music in the 1980s (2009) (TV)', {'year': 2009}),\n",
       " ('Funny Show Part Two: The Video - Movie (2012) (V)', {'year': 2012}),\n",
       " ('Novogodniy ogonyok 2013 (2012) (TV)', {'year': 2012}),\n",
       " ('Premiya Muz-TV 2013 (2013) (TV)', {'year': 2013}),\n",
       " ('Lost in Coney Island (2012)', {'year': 2012}),\n",
       " ('Christmas with the Stars: An International Earthquake Benefit (1989) (TV)',\n",
       "  {'year': 1989}),\n",
       " ('Die Senta Berger Show (1969) (TV)', {'year': 1969}),\n",
       " ('Francis Albert Sinatra Does His Thing (1968) (TV)', {'year': 1968}),\n",
       " (\"It Couldn't Be Done (1970) (TV)\", {'year': 1970}),\n",
       " ('Make Mine Red, White and Blue (1972) (TV)', {'year': 1972}),\n",
       " (\"My Music: Burt Bacharach's Best (2013) (TV)\", {'year': 2013}),\n",
       " ('My Music: Movie Songs (2007) (TV)', {'year': 2007}),\n",
       " ('Polly Bergen Musical Special (1971) (TV)', {'year': 1971}),\n",
       " ('The 14th Annual Grammy Awards (1972) (TV)', {'year': 1972}),\n",
       " ('The 15th Annual Grammy Awards (1973) (TV)', {'year': 1973}),\n",
       " ('The 5th Dimension Traveling Sunshine Show (1971) (TV)', {'year': 1971}),\n",
       " ('The Best on Record (1968) (TV)', {'year': 1968}),\n",
       " ('The Best on Record (1970) (TV)', {'year': 1970}),\n",
       " ('The Mike Douglas Christmas Special (1969) (TV)', {'year': 1969}),\n",
       " ('The Stars and Stripes Show (1976) (TV)', {'year': 1976}),\n",
       " ('The Very Best of the Ed Sullivan Show 2 (1991) (TV)', {'year': 1991}),\n",
       " ('ID&T Presents the Darkraver (2004) (V)', {'year': 2004}),\n",
       " ('2006 MuchMusic Video Awards (2006) (TV)', {'year': 2006}),\n",
       " ('Aux Presents: Shad (2012)', {'year': 2012}),\n",
       " ('The 35th Annual Juno Awards (2006) (TV)', {'year': 2006}),\n",
       " ('The Side Street Project (2008)', {'year': 2008}),\n",
       " ('Hollywood Sex Wars (2011)', {'year': 2011}),\n",
       " ('American Muscle (2013)', {'year': 2013}),\n",
       " ('Little Blue Pill (2010)', {'year': 2010}),\n",
       " ('The Auteur (2008)', {'year': 2008}),\n",
       " ('Filthy Gorgeous: The Trannyshack Story (2005)', {'year': 2005}),\n",
       " ('El rumor de las piedras (2011)', {'year': 2011}),\n",
       " ('La hora cero (2010)', {'year': 2010}),\n",
       " ('Bam Margera Presents: Where the #$&% Is Santa? (2008) (V)', {'year': 2008}),\n",
       " ('Miesten Joulu (2004) (TV)', {'year': 2004}),\n",
       " (\"Rage: Midsummer's Eve (2012)\", {'year': 2012}),\n",
       " ('Timanttikoirien vuosi 1984 (2010)', {'year': 2010}),\n",
       " ('Let Me Be Your Band (2003)', {'year': 2003}),\n",
       " ('Margret D?nser, auf der Suche nach den Besonderen (1981) (TV)',\n",
       "  {'year': 1981}),\n",
       " ('003064.XZ (2012)', {'year': 2012}),\n",
       " ('The Warm War (2011)', {'year': 2011}),\n",
       " ('Lawiswis kawayan (1960)', {'year': 1960}),\n",
       " ('American Hardcore (2006)', {'year': 2006}),\n",
       " ('Right to Royalty (2005) (TV)', {'year': 2005}),\n",
       " ('Cinderella A-Go-Go (1967)', {'year': 1967}),\n",
       " ('Scratch (2001)', {'year': 2001}),\n",
       " ('Sweet Potato Pie (2004) (V)', {'year': 2004}),\n",
       " ('Que sea rock (2006)', {'year': 2006}),\n",
       " ('Ditch Plains (2013)', {'year': 2013}),\n",
       " ('Men of Valor (2004) (VG)', {'year': 2004}),\n",
       " ('June 9 (2008)', {'year': 2008}),\n",
       " ('A Short Film About Chilling .... (1990)', {'year': 1990}),\n",
       " (\"Movin' on Up (2011) (TV)\", {'year': 2011}),\n",
       " ('I ragazzi di Bandiera Gialla (1968)', {'year': 1968}),\n",
       " ('Que la lumi?re soit (1998)', {'year': 1998}),\n",
       " ('The Pill: History of a Boston Club Night (2007)', {'year': 2007}),\n",
       " ('Metal Black (1991) (VG)', {'year': 1991}),\n",
       " ('Home Invasion (2006/I)', {'year': 2006}),\n",
       " ('All Over the World (1967)', {'year': 1967}),\n",
       " ('Shing a Ling Loo, Pretty Girl (1967)', {'year': 1967}),\n",
       " ('Way Out in the Country (1967)', {'year': 1967}),\n",
       " ('Amors baller (2011)', {'year': 2011}),\n",
       " ('20th Century Masters: The Best of 98 Degrees (2005) (V)', {'year': 2005}),\n",
       " ('68th Annual Hollywood Christmas Parade (1999) (TV)', {'year': 1999}),\n",
       " ('98 Degrees: The Collection (2002) (V)', {'year': 2002}),\n",
       " (\"98?: Kickin' It - Unauthorized (1999) (V)\", {'year': 1999}),\n",
       " ('Amy Grant: A Christmas to Remember (1999) (TV)', {'year': 1999}),\n",
       " ('Bop Boys: The Videos (1998) (V)', {'year': 1998}),\n",
       " ('Christmas in Washington (1999) (TV)', {'year': 1999}),\n",
       " (\"Macy's Thanksgiving Day Parade (1999) (TV)\", {'year': 1999}),\n",
       " (\"MTV New Year's Eve 1998 (1998) (TV)\", {'year': 1998}),\n",
       " (\"Nickelodeon Kids' Choice Awards 2000 (2000) (TV)\", {'year': 2000}),\n",
       " (\"Radio City Music Hall's Grand Re-Opening Gala (1999) (TV)\", {'year': 1999}),\n",
       " ('The Teen Choice Awards 1999 (1999) (TV)', {'year': 1999}),\n",
       " ('Entr?es de secours (1983)', {'year': 1983}),\n",
       " (\"Punk's Not Dead (2007)\", {'year': 2007}),\n",
       " ('Urgh! A Music War (1981)', {'year': 1981}),\n",
       " (\"My Music: '60s Pop, Rock & Soul (2011) (TV)\", {'year': 2011}),\n",
       " ('Shockheaded (2002) (V)', {'year': 2002}),\n",
       " ('Fake Movies (2003) (V)', {'year': 2003}),\n",
       " ('Up Late with Liam (2003) (V)', {'year': 2003}),\n",
       " ('Our Most Beautiful Love Stories (Are the Ones We Scripted) (2011)',\n",
       "  {'year': 2011}),\n",
       " ('Divas of Disco (2007) (V)', {'year': 2007}),\n",
       " ('My Music: Funky Soul Superstars (2005) (TV)', {'year': 2005}),\n",
       " ('The 21st Annual Grammy Awards (1979) (TV)', {'year': 1979}),\n",
       " ('Decak iz Junkovca (1995)', {'year': 1995}),\n",
       " ('256 Steps (2012)', {'year': 2012}),\n",
       " ('Singing Blues (2013)', {'year': 2013}),\n",
       " ('Dark Souls (2011) (VG)', {'year': 2011}),\n",
       " (\"Ocean's 7-11 (2008)\", {'year': 2008}),\n",
       " ('The O.R. (2007)', {'year': 2007}),\n",
       " ('Our Green Roadie: Snapshots and Stories Shared (2012)', {'year': 2012}),\n",
       " ('Hopeless Romantic (2011) (V)', {'year': 2011}),\n",
       " ('Watch the Shadows Dance (1987)', {'year': 1987}),\n",
       " (\"Sex Sells: The Making of 'Touch?' (2005)\", {'year': 2005}),\n",
       " ('Lady Blues (1996)', {'year': 1996}),\n",
       " ('Shadow Creature (1995)', {'year': 1995}),\n",
       " (\"Me'Ahorei Hasoragim (1984)\", {'year': 1984}),\n",
       " ('MTV Russia Music Awards 2007 (2007) (TV)', {'year': 2007}),\n",
       " ('MTV Russia Music Awards 2008 (2008) (TV)', {'year': 2008}),\n",
       " ('Novyy god v derevne Glukharevo (2010) (TV)', {'year': 2010}),\n",
       " ('Pesnya goda 2008 (2009) (TV)', {'year': 2009}),\n",
       " ('Pesnya goda 2009 (2010) (TV)', {'year': 2010}),\n",
       " ('Pesnya goda 2010 (2011) (TV)', {'year': 2011}),\n",
       " ('Premiya Muz-TV 2007 (2007) (TV)', {'year': 2007}),\n",
       " ('Premiya Muz-TV 2009 (2009) (TV)', {'year': 2009}),\n",
       " ('Zolotoy grammofon 2009 (2010) (TV)', {'year': 2010}),\n",
       " ('Between the Devil and the Deep Blue Sea (2011)', {'year': 2011}),\n",
       " ('The Real Homeless of Orange County (2012)', {'year': 2012}),\n",
       " ('El Khoroug (2010)', {'year': 2010}),\n",
       " ('Look (2012)', {'year': 2012}),\n",
       " ('ECETI Ranch: A Documentary (2012) (V)', {'year': 2012}),\n",
       " ('Hei dao (1989)', {'year': 1989}),\n",
       " ('... Sings James Bond (2012) (TV)', {'year': 2012}),\n",
       " ('100 Greatest One Hit Wonders (2002) (TV)', {'year': 2002}),\n",
       " ('A-ha: Headlines and Deadlines - The Hits of A-ha (1991) (V)',\n",
       "  {'year': 1991}),\n",
       " ('A-ha: Live at Vallhall - Homecoming (2002) (V)', {'year': 2002}),\n",
       " ('A-ha: Live in South America (1993) (V)', {'year': 1993}),\n",
       " ('Bambi Verleihung 2005 (2005) (TV)', {'year': 2005}),\n",
       " ('Simple Minds und A-ha in Concert - 2009 (2009) (TV)', {'year': 2009}),\n",
       " ('The Big Fat Quiz of the 80s (2012) (TV)', {'year': 2012}),\n",
       " ('The Nature of Existence (2010)', {'year': 2010}),\n",
       " ('The Nature of Existence Companion Series (2011) (V)', {'year': 2011}),\n",
       " ('Miami Shakedown (1993)', {'year': 1993}),\n",
       " ('Go to Hell (1999)', {'year': 1999}),\n",
       " ('5 Sides of a Coin (2003)', {'year': 2003}),\n",
       " ('As I AM: The Life and Times of DJ AM (2013)', {'year': 2013}),\n",
       " ('Hang the DJ (1998)', {'year': 1998}),\n",
       " ('mtvU Woodie Awards 2008 (2008) (TV)', {'year': 2008}),\n",
       " ('Teen Choice Awards 2010 (2010) (TV)', {'year': 2010}),\n",
       " ('Crunch (2010)', {'year': 2010}),\n",
       " ('Puzzled Love (2010)', {'year': 2010}),\n",
       " ('66.6 FM (2012)', {'year': 2012}),\n",
       " (\"Mama's Boy (2012)\", {'year': 2012}),\n",
       " ('Cuarta Sesi?n (2013)', {'year': 2013}),\n",
       " ('Iraida (2010)', {'year': 2010}),\n",
       " ('Raptor Hunter: Winter Edition (2011)', {'year': 2011}),\n",
       " ('Bodoh-bodoh mujur (1981)', {'year': 1981}),\n",
       " ('Revenant (2013/III)', {'year': 2013}),\n",
       " ('The Reinactors (2008)', {'year': 2008}),\n",
       " (\"Hangin' On (2012)\", {'year': 2012}),\n",
       " ('Dance of the Revolt! (2007)', {'year': 2007}),\n",
       " ('Eusebia (2011)', {'year': 2011}),\n",
       " ('Paparazzi Pepe (2010)', {'year': 2010}),\n",
       " ('Suelto para un bocadillo (2012)', {'year': 2012}),\n",
       " ('Let Me Eat Cake (2010) (V)', {'year': 2010}),\n",
       " ('Rebounds (2012)', {'year': 2012}),\n",
       " ('Pokun Roxy (2013)', {'year': 2013}),\n",
       " ('Satu kecupan (2004)', {'year': 2004}),\n",
       " ('Ganid (2012)', {'year': 2012}),\n",
       " ('Once Upon a Secretary (1983) (V)', {'year': 1983}),\n",
       " ('Peau de cochon (2004)', {'year': 2004}),\n",
       " ('Rendez-vous avec Jane (2005) (V)', {'year': 2005}),\n",
       " ('(614) Days of Summer (2013)', {'year': 2013}),\n",
       " ('Runaway, a Twist of Fate (2009) (VG)', {'year': 2009}),\n",
       " ('Street Racer (2008) (V)', {'year': 2008}),\n",
       " ('Early Soldier (2014) (V)', {'year': 2014}),\n",
       " ('The Koala (2008)', {'year': 2008}),\n",
       " ('Archon Defender (2009)', {'year': 2009}),\n",
       " ('Rainbow (2008)', {'year': 2008}),\n",
       " ('Sheltered Life (2006)', {'year': 2006}),\n",
       " ('Blackmen Cruising Crenshaw (1999) (V)', {'year': 1999}),\n",
       " ('Ring Girls (2005) (V)', {'year': 2005}),\n",
       " ('Vara Vikrayam (1939)', {'year': 1939}),\n",
       " ('Xtasy: The Real Story - Part 1 (2006) (V)', {'year': 2006}),\n",
       " ('Xtasy: The Real Story - Part 2 (2008)', {'year': 2008}),\n",
       " ('Squadron 13 (2011)', {'year': 2011}),\n",
       " ('Squadron 13: Infiltration (2012)', {'year': 2012}),\n",
       " ('Pelli Chesi Choodu (1988)', {'year': 1988}),\n",
       " ('3:45 (2013)', {'year': 2013}),\n",
       " ('Alone in This House (2013)', {'year': 2013}),\n",
       " ('And Now Alone (2012)', {'year': 2012}),\n",
       " ('Delilah: Never Forgotten (2012)', {'year': 2012}),\n",
       " ('Fucked Up: From the Beginning (2012)', {'year': 2012}),\n",
       " ('Fucked Up: The Complete Story (2012) (V)', {'year': 2012}),\n",
       " ('Fucked Up: Voices in My Head (2012)', {'year': 2012}),\n",
       " ('Have Faith (2012)', {'year': 2012}),\n",
       " (\"Hey, I'm Going to Give You the Bloopers & Extended Scenes (2013) (V)\",\n",
       "  {'year': 2013}),\n",
       " (\"Hey, I'm Going to Kill You (2013)\", {'year': 2013}),\n",
       " ('Life with Matthew 2: Even More Home Videos (2013) (V)', {'year': 2013}),\n",
       " ('Life with Matthew: The Home Videos (2012) (V)', {'year': 2012}),\n",
       " (\"Matt's Psycho Shorts: Happy HELLoween (2012) (V)\", {'year': 2012}),\n",
       " (\"MDA: Matt's Short Films (2013) (V)\", {'year': 2013}),\n",
       " ('Raisin Bread (2012)', {'year': 2012}),\n",
       " ('Stalking 101: How to Kill a Guy (2012)', {'year': 2012}),\n",
       " ('That Was Easy (2013)', {'year': 2013}),\n",
       " ('The Sketches of Matty Mad Man (2013)', {'year': 2013}),\n",
       " ('The Sketches of Matty Mad Man: Part Dos (2013)', {'year': 2013}),\n",
       " ('Vicky Foxx: Forever in Blue Jeans (2010)', {'year': 2010}),\n",
       " ('Every Boy Needs a Father (2013)', {'year': 2013}),\n",
       " ('In Loving Memory... (2010) (V)', {'year': 2010}),\n",
       " ('Hair on West Texas (2006)', {'year': 2006}),\n",
       " ('Hittikatsomo - 20 bailuhitti? (2006) (V)', {'year': 2006}),\n",
       " ('T?htihetki? kotiteatteriin Vol. 2 (2005) (V)', {'year': 2005}),\n",
       " ('Jaganmohini (1978)', {'year': 1978}),\n",
       " ('Cemetery of Forgotten Dead (2013)', {'year': 2013}),\n",
       " ('Hotel of the Dead (2013)', {'year': 2013}),\n",
       " ('Secret of Slenderman (2013)', {'year': 2013}),\n",
       " ('Der G?rtner (2012)', {'year': 2012}),\n",
       " ('The Legend of Naya - Die Legende von Naya (2009) (V)', {'year': 2009}),\n",
       " ('Rock in a Hard Place (2009) (V)', {'year': 2009}),\n",
       " ('The Cage (2009)', {'year': 2009}),\n",
       " ('Sultan Mahmud Mangkat Dijulang (1961)', {'year': 1961}),\n",
       " ('Musical Novelties (1945)', {'year': 1945}),\n",
       " ('Vitaphone Gambols (1938)', {'year': 1938}),\n",
       " ('Black Gang Bang 9 (1998) (V)', {'year': 1998}),\n",
       " ('Acabou - At? te Esquecer (2009) (V)', {'year': 2009}),\n",
       " ('Gimik: The Reunion (1999)', {'year': 1999}),\n",
       " ('Beat This!: A Hip Hop History (1984) (TV)', {'year': 1984}),\n",
       " ('Wild Style (1983)', {'year': 1983}),\n",
       " ('4 Dollars (2006)', {'year': 2006}),\n",
       " ('Eggnog and Cigars (2007)', {'year': 2007}),\n",
       " ('Shadows of the Mind (2005)', {'year': 2005}),\n",
       " ('Cinta fotokopi (2005)', {'year': 2005}),\n",
       " ('Potret mistik (2005)', {'year': 2005}),\n",
       " ('In Ghost House Inn (2010)', {'year': 2010}),\n",
       " ('1st Annual BET Awards (2001) (TV)', {'year': 2001}),\n",
       " ('2nd Annual BET Awards (2002) (TV)', {'year': 2002}),\n",
       " ('BET Comedy Awards (2004) (TV)', {'year': 2004}),\n",
       " ('Drumline (2002)', {'year': 2002}),\n",
       " ('Made You Look: Top 25 Moments of BET History (2005) (TV)', {'year': 2005}),\n",
       " (\"Slip N' Slide: All Star Weekend 2 (2004) (V)\", {'year': 2004}),\n",
       " ('2nd Coming (2000) (V)', {'year': 2000}),\n",
       " ('Anal Addicts 11 (2003) (V)', {'year': 2003}),\n",
       " ('Bizarre Peroxide Tales (2003) (V)', {'year': 2003}),\n",
       " ('Blackyard Boogie 2 (1997) (V)', {'year': 1997}),\n",
       " (\"Buttman's Bend Over Babes 6 (2003) (V)\", {'year': 2003}),\n",
       " ('Carnal Instincts (1998) (V)', {'year': 1998}),\n",
       " ('Tia Bella: Extreme Close-up 3 (1998) (V)', {'year': 1998}),\n",
       " ('Misty Beethoven: The Musical! (2004) (V)', {'year': 2004}),\n",
       " ('Not Far from Heaven 2 (2004) (V)', {'year': 2004}),\n",
       " ('Leather Bears at Play (1997) (V)', {'year': 1997}),\n",
       " ('Manson Family Movies (1984) (V)', {'year': 1984}),\n",
       " (\"Choke 'em 3 (1998) (V)\", {'year': 1998}),\n",
       " ('Mad (2008)', {'year': 2008}),\n",
       " ('Porn Star Zombies (2009)', {'year': 2009}),\n",
       " (\"Don't Spill the Eggs (2011)\", {'year': 2011}),\n",
       " ('Whales (2010) (V)', {'year': 2010}),\n",
       " ('The Cabinet of Dr. Mabuse (2011)', {'year': 2011}),\n",
       " ('Santanam (1955)', {'year': 1955}),\n",
       " ('Delicious Abortion (2013)', {'year': 2013}),\n",
       " ('The Lascivious Project: The Unauthorized Music Video (2013) (V)',\n",
       "  {'year': 2013}),\n",
       " ('The Legion of Supervillains the Official Music Video (2013)',\n",
       "  {'year': 2013}),\n",
       " ('Pakka Inti Ammayi (1953)', {'year': 1953}),\n",
       " ('Protocolo 48: El experimento final (2012)', {'year': 2012}),\n",
       " ('Graffiti Verit? 9: Soulful Ways - The DJ (2010) (V)', {'year': 2010}),\n",
       " ('Nagal (2013)', {'year': 2013}),\n",
       " ('Film horor (2007)', {'year': 2007}),\n",
       " ('Kutukan arwah santet (2012)', {'year': 2012}),\n",
       " ('Bhedi Trishul (1927)', {'year': 1927}),\n",
       " ('Saundarya Sura (1928)', {'year': 1928}),\n",
       " ('One Shameful Day (2013)', {'year': 2013}),\n",
       " ('One Shameful Day-Margarita Remorse (2013)', {'year': 2013}),\n",
       " ('One Shameful Day-Wax Wiggles (2013)', {'year': 2013}),\n",
       " ('The Roof Gardener (2010)', {'year': 2010}),\n",
       " ('Anugraham (1978)', {'year': 1978}),\n",
       " ('Mahaveera (1988)', {'year': 1988}),\n",
       " ('Mit Jayenge Mitane Wale (1987)', {'year': 1987}),\n",
       " ('Oka Oori Katha (1977)', {'year': 1977}),\n",
       " ('Bumbai (1995)', {'year': 1995}),\n",
       " ('Kodiparakkudu (1989)', {'year': 1989}),\n",
       " ('Cemburu nih yee... (1986)', {'year': 1986}),\n",
       " ('Cinta segi tiga (1983)', {'year': 1983}),\n",
       " ('Dilihat boleh dipegang jangan (1983)', {'year': 1983}),\n",
       " ('Gejolak kawula muda (1985)', {'year': 1985}),\n",
       " ('Kisah anak-anak Adam (1988)', {'year': 1988}),\n",
       " ('Lelaki sejati (1984)', {'year': 1984}),\n",
       " ('Melody cinta (1982)', {'year': 1982}),\n",
       " ('Misteri sumur tua (1987)', {'year': 1987}),\n",
       " ('Musnahkan ilmu santet (1989)', {'year': 1989}),\n",
       " ('Perhitungan terakhir (1983)', {'year': 1983}),\n",
       " (\"Perjuangan dan Do'a (1980)\", {'year': 1980}),\n",
       " ('Raja dangdut (1978)', {'year': 1978}),\n",
       " ('Senggol-senggolan (1980)', {'year': 1980}),\n",
       " ('Sumangali (1940)', {'year': 1940}),\n",
       " (\"A.S.A.P. Japan Tour '90 (1991) (TV)\", {'year': 1991}),\n",
       " (\"D' Lucky Ones! (2006)\", {'year': 2006}),\n",
       " ('Ritechus Cry (2013)', {'year': 2013}),\n",
       " ('Sri Venkateswara Mahatmyam (1960)', {'year': 1960}),\n",
       " ('Chenchu Lakshmi (1958/I)', {'year': 1958}),\n",
       " ('Jayabheri (1959)', {'year': 1959}),\n",
       " ('Keelugurram (1949)', {'year': 1949}),\n",
       " ('Madalasa (1948)', {'year': 1948}),\n",
       " ('Mangalya Balam (1958)', {'year': 1958}),\n",
       " ('Mohini Bhasmasura (1938)', {'year': 1938}),\n",
       " ('Palletoori Pilla (1950)', {'year': 1950}),\n",
       " ('Peddamanushulu (1954)', {'year': 1954}),\n",
       " ('Sarangadhara (1957)', {'year': 1957}),\n",
       " ('Sri Kalahastiswara Mahatyam (1954)', {'year': 1954}),\n",
       " ('Sri Seetha Rama Kalyanam (1961)', {'year': 1961}),\n",
       " ('Vindhyarani (1948)', {'year': 1948}),\n",
       " ('Claudine (2002) (V)', {'year': 2002}),\n",
       " ('Asoy geboy (2008)', {'year': 2008}),\n",
       " ('Enak sama enak (2012)', {'year': 2012}),\n",
       " ('Janda kembang (2009)', {'year': 2009}),\n",
       " ('King (2009)', {'year': 2009}),\n",
       " ('Adj? solidaritet (1985)', {'year': 1985}),\n",
       " ('Cuby + Blizzards: 40 jaar de blues (2006) (V)', {'year': 2006}),\n",
       " ('Paradise Recovered (2010)', {'year': 2010}),\n",
       " ('Senses (2009)', {'year': 2009}),\n",
       " ('Omar (2013)', {'year': 2013}),\n",
       " ('Czeski Friends (2004) (V)', {'year': 2004}),\n",
       " ('B?r B?rson Jr. (1938)', {'year': 1938}),\n",
       " ('Et sp?kelse forelsker seg (1946)', {'year': 1946}),\n",
       " ('Jeppe p? bjerget (1933)', {'year': 1933}),\n",
       " ('Kampen om tungtvannet (1948)', {'year': 1948}),\n",
       " ('Prinsessen som ingen kunne m?lbinde (1932)', {'year': 1932}),\n",
       " ('Alexander den Store (1917)', {'year': 1917}),\n",
       " ('Den store barned?pen (1931)', {'year': 1931}),\n",
       " ('Du har lovet mig en kone! (1935)', {'year': 1935}),\n",
       " ('En glad gutt (1932)', {'year': 1932}),\n",
       " ('Morderen uten ansikt (1936)', {'year': 1936}),\n",
       " ('Troll-Elgen (1927)', {'year': 1927}),\n",
       " ('Ungen (1938)', {'year': 1938}),\n",
       " ('Valf?ngare (1939)', {'year': 1939}),\n",
       " ('Brudebuketten (1953)', {'year': 1953}),\n",
       " ('Den farlige leken (1942)', {'year': 1942}),\n",
       " ('En herre med bart (1942)', {'year': 1942}),\n",
       " ('For?vrig medvirker J. Holst-Jensen (1956)', {'year': 1956}),\n",
       " ('Home (1972) (TV)', {'year': 1972}),\n",
       " ('Kj?re Maren (1976)', {'year': 1976}),\n",
       " ('Kj?rlighet og vennskap (1941)', {'year': 1941}),\n",
       " ('Ombyte f?rn?jer (1939)', {'year': 1939}),\n",
       " ('Os Cafajestes (1962)', {'year': 1962}),\n",
       " ('Peer Gynt (1986) (TV)', {'year': 1986}),\n",
       " ('Picassos ?ventyr (1978)', {'year': 1978}),\n",
       " ('Portrettet (1954)', {'year': 1954}),\n",
       " ('Slik kan det gj?res. Husmorfilmen 1954 (1954)', {'year': 1954}),\n",
       " ('Tre ?nskningar (1960)', {'year': 1960}),\n",
       " ('Uncertain Glory (1944)', {'year': 1944}),\n",
       " ('M?rker?d (1998)', {'year': 1998}),\n",
       " ('Big Wednesday (1978)', {'year': 1978}),\n",
       " ('Discharged (2013/I)', {'year': 2013}),\n",
       " ('Barefoot Adventure (1960)', {'year': 1960}),\n",
       " ('The Chicken in the Case (1921)', {'year': 1921}),\n",
       " (\"The President's Lady (1953)\", {'year': 1953}),\n",
       " ('Kristin Lavransdatter (1995)', {'year': 1995}),\n",
       " ('Faces Overlooked (2010)', {'year': 2010}),\n",
       " ('Hello Hum Lallann Bol Rahe Hain (2010)', {'year': 2010}),\n",
       " ('The Kiss (2003)', {'year': 2003}),\n",
       " ('Alle for to (2013)', {'year': 2013}),\n",
       " ('S?ndagsengler (1996)', {'year': 1996}),\n",
       " ('Louises hus (1977) (TV)', {'year': 1977}),\n",
       " ('Olsen Banden Junior (2001)', {'year': 2001}),\n",
       " ('Parallel Interiors (2010)', {'year': 2010}),\n",
       " ('Ecstasy of Order: The Tetris Masters (2011)', {'year': 2011}),\n",
       " ('The NES Club (2015)', {'year': 2015}),\n",
       " ('Hanin (2013)', {'year': 2013}),\n",
       " ('The 85th Oscars (2013) (TV)', {'year': 2013}),\n",
       " ('The Human Factor: Exacting Revenge of the Fallen (2009) (V)',\n",
       "  {'year': 2009}),\n",
       " ('Biriyani (2013)', {'year': 2013}),\n",
       " ('Le voyage ?tranger (1992)', {'year': 1992}),\n",
       " ('Aadu Puli (2011)', {'year': 2011}),\n",
       " ('Aravaan (2012)', {'year': 2012}),\n",
       " ('Eeram (2009)', {'year': 2009}),\n",
       " ('Gundello Godari (2013)', {'year': 2013}),\n",
       " ('Kochadaiiyaan (2014)', {'year': 2014}),\n",
       " ('Mirugam (2007)', {'year': 2007}),\n",
       " ('Samrajyam (2009)', {'year': 2009}),\n",
       " ('Lovely (2012/I)', {'year': 2012}),\n",
       " ('Prema Kavali (2011)', {'year': 2011}),\n",
       " ('Sukumarudu (2013)', {'year': 2013}),\n",
       " ('Call of Duty: Operation Kingfish (2011)', {'year': 2011}),\n",
       " ('Chamku (2008)', {'year': 2008}),\n",
       " ('Gandhi (1982)', {'year': 1982}),\n",
       " ('Run (2004)', {'year': 2004}),\n",
       " ('Satrangee Parachute (2011)', {'year': 2011}),\n",
       " ('Mugamoodi (2012)', {'year': 2012}),\n",
       " ('Oslo filharmoniske orkester tilbake i Universitetets aula (2012) (TV)',\n",
       "  {'year': 2012}),\n",
       " ('Omringet (1960)', {'year': 1960}),\n",
       " ('Shetlandsgjengen (1954)', {'year': 1954}),\n",
       " ('Kuhu p?genevad hinged (2007)', {'year': 2007}),\n",
       " ('Leiutajatek?la Lotte (2006)', {'year': 2006}),\n",
       " ('Lejos (2012/II)', {'year': 2012}),\n",
       " ('Malev (2005)', {'year': 2005}),\n",
       " ('Nimed marmortahvlil (2002)', {'year': 2002}),\n",
       " ('Yantarnye krylya (2003)', {'year': 2003}),\n",
       " ('Jahan Jaaeyega Hamen Paaeyega (2007)', {'year': 2007}),\n",
       " ('To Meet It with Awe (2011)', {'year': 2011}),\n",
       " ('X05: Afslutningsdebat (2005) (TV)', {'year': 2005}),\n",
       " ('X05: Den f?rste dyst (2005) (TV)', {'year': 2005}),\n",
       " ('?bning af Operaen (2005) (TV)', {'year': 2005}),\n",
       " ('Heksenetter (1954)', {'year': 1954}),\n",
       " ('Chalte Chalte (2003)', {'year': 2003}),\n",
       " ('Unge viljer (1943)', {'year': 1943}),\n",
       " (\"The Powls i (k)nibe - koncertgyseren 'Flaskernes nat' (2003) (V)\",\n",
       "  {'year': 2003}),\n",
       " ('Ti gutter og en gjente (1944)', {'year': 1944}),\n",
       " ('Jeg fandt en sang p? vejen (1977) (TV)', {'year': 1977}),\n",
       " ('N?ste stop paradis (1980)', {'year': 1980}),\n",
       " ('Arbejdet adler (1914)', {'year': 1914}),\n",
       " ('En st?rkere magt (1914)', {'year': 1914}),\n",
       " ('Vi er b?de rigtig og kloge (1975)', {'year': 1975}),\n",
       " ('Lykkens Budbringer (1918)', {'year': 1918}),\n",
       " ('Bananen - Skr?l den f?r din nabo (1990)', {'year': 1990}),\n",
       " ('Rock for Afrika (1985) (TV)', {'year': 1985}),\n",
       " ('Husk lige h?ndtasken - Nyt?rsaften med Ole (2003) (TV)', {'year': 2003}),\n",
       " ('Mgp 2003 - de unges melodi grand prix (2003) (TV)', {'year': 2003}),\n",
       " ('M?gunger (2003)', {'year': 2003}),\n",
       " ('Oskar & Josefine (2005)', {'year': 2005}),\n",
       " ('Johan Falk: Kodnamn: Lisa (2012)', {'year': 2012}),\n",
       " ('Johan Falk: Organizatsija Karayan (2012) (V)', {'year': 2012}),\n",
       " ('Villmarkens lov (1944)', {'year': 1944}),\n",
       " ('Five Pairs of Shoes (2005)', {'year': 2005}),\n",
       " ('Talk Like Whales (1993)', {'year': 1993}),\n",
       " ('H?henfieber (1925)', {'year': 1925}),\n",
       " ('Menschen im Nebel (1924)', {'year': 1924}),\n",
       " ('Horisont (2006)', {'year': 2006}),\n",
       " ('Bert (2006)', {'year': 2006}),\n",
       " ('Winnie og Karina - The Movie (2009)', {'year': 2009}),\n",
       " ('Hellmaster (1992)', {'year': 1992}),\n",
       " ('Begynnelsen p? en historie (1988)', {'year': 1988}),\n",
       " ('Pusher (1996)', {'year': 1996}),\n",
       " ('Green Sails (2000) (TV)', {'year': 2000}),\n",
       " ('Khelaghor (2006)', {'year': 2006}),\n",
       " ('Beast (2011/IV)', {'year': 2011}),\n",
       " ('Anandam (2001)', {'year': 2001}),\n",
       " ('Andala Ramudu (2006)', {'year': 2006}),\n",
       " ('Babul (1986)', {'year': 1986}),\n",
       " ('Kangalal Kaidhu Sei (2004)', {'year': 2004}),\n",
       " ('Karam (2005)', {'year': 2005}),\n",
       " ('Mumbai Mast Kallander (2011)', {'year': 2011}),\n",
       " ('Onnam Ragam (2003)', {'year': 2003}),\n",
       " ('Zinda Laash (1986)', {'year': 1986}),\n",
       " ('Mumbai Meri Jaan (2008)', {'year': 2008}),\n",
       " ('Do Dilon Ke Khel Mein (2010)', {'year': 2010}),\n",
       " ('Bujjigaadu: Made in Chennai (2008)', {'year': 2008}),\n",
       " ('Business Man (2012)', {'year': 2012}),\n",
       " ('Chirutha (2007)', {'year': 2007}),\n",
       " ('Dhoni (2012/I)', {'year': 2012}),\n",
       " ('Gabbar Singh (2012)', {'year': 2012}),\n",
       " ('The Lotus Pond (2010)', {'year': 2010}),\n",
       " ('Antaratama (2008)', {'year': 2008}),\n",
       " ('Baazi (1984)', {'year': 1984}),\n",
       " ('Sitamgar (1985)', {'year': 1985}),\n",
       " ('The Death and Resurrection Show (2013)', {'year': 2013}),\n",
       " ('Bigger Than Life (1956)', {'year': 1956}),\n",
       " ('Mister Scoutmaster (1953)', {'year': 1953}),\n",
       " ('Spin and Marty: The Movie (1955)', {'year': 1955}),\n",
       " ('The Kid from Left Field (1953)', {'year': 1953}),\n",
       " ('A Lion Is in the Streets (1953)', {'year': 1953}),\n",
       " ...]"
      ]
     },
     "execution_count": 12,
     "metadata": {},
     "output_type": "execute_result"
    }
   ],
   "source": [
    "movies_tuples_list"
   ]
  },
  {
   "cell_type": "code",
   "execution_count": 13,
   "id": "195b09e2",
   "metadata": {},
   "outputs": [
    {
     "name": "stdout",
     "output_type": "stream",
     "text": [
      "Number of nodes after adding actors is 2364796\n",
      "Number of nodes after adding movies is 3110737\n"
     ]
    }
   ],
   "source": [
    "oriGinal = nx.Graph()\n",
    "oriGinal.add_nodes_from(actors, bipartite = 0) #attribute bipartite following documentation recommendations. In this case 0 is actors, 1 is movies\n",
    "print(f\"Number of nodes after adding actors is {oriGinal.number_of_nodes()}\")\n",
    "oriGinal.add_nodes_from(movies_tuples_list, bipartite = 1)\n",
    "print(f\"Number of nodes after adding movies is {oriGinal.number_of_nodes()}\") \n",
    "      "
   ]
  },
  {
   "cell_type": "code",
   "execution_count": 60,
   "id": "aae911ac",
   "metadata": {},
   "outputs": [],
   "source": [
    "# alternative to cell above\n",
    "if False:\n",
    "    oriGinal = nx.Graph()\n",
    "    oriGinal.add_nodes_from(actors, bipartite = 0) #attribute bipartite following documentation recommendations. In this case 0 is actors, 1 is movies\n",
    "    num_node_actors = oriGinal.number_of_nodes()\n",
    "    print(f\"Number of nodes after adding actors is {num_node_actors}\")\n",
    "    regens = []\n",
    "    i = 0\n",
    "    dump = None\n",
    "    first = True\n",
    "    second = True\n",
    "    for nd in tqdm(movies_tuples_list):\n",
    "        if nd[0] == 'Foundation of a Movie (2008)':\n",
    "            regens.append(nd)\n",
    "        oriGinal.add_node(nd[0], bipartite = 1, year = nd[1]['year'])\n",
    "        i+=1\n",
    "        if oriGinal.number_of_nodes() == i + num_node_actors -1 and first:\n",
    "            print(f\"Just tried to add {nd}, iteration {i}\")\n",
    "            first = False\n",
    "        if oriGinal.number_of_nodes() == i + num_node_actors - 2 and second:\n",
    "            print(f\"Just tried to add {nd}, iteration {i}\")\n",
    "            second = False\n",
    "        if nd[0] == 'Regen' or nd[0] == 'Re':\n",
    "            print(f\"->{nd}\")\n",
    "        if nd[1]['year'] == 10000:\n",
    "            print(f\"@@ {nd}\")\n",
    "    print(f\"num iterations {i}\")\n",
    "\n",
    "    print(f\"Number of nodes after adding movies is {oriGinal.number_of_nodes()}\") #???????\n",
    "    print(f\"Number of actor nodes is {num_node_actors}, number of iterations is {i}, sum is {num_node_actors + i}\")\n",
    "      "
   ]
  },
  {
   "cell_type": "raw",
   "id": "39460b1c",
   "metadata": {},
   "source": []
  },
  {
   "cell_type": "code",
   "execution_count": 14,
   "id": "9240e196",
   "metadata": {},
   "outputs": [
    {
     "name": "stdout",
     "output_type": "stream",
     "text": [
      "('Foundation of a Movie (2008)', {'year': 2008})\n"
     ]
    }
   ],
   "source": [
    "print(movies_tuples_list[68079])\n"
   ]
  },
  {
   "cell_type": "code",
   "execution_count": 15,
   "id": "c5ff020c",
   "metadata": {},
   "outputs": [
    {
     "name": "stdout",
     "output_type": "stream",
     "text": [
      "8103960\n"
     ]
    }
   ],
   "source": [
    "oriGinal.add_edges_from(edges)\n",
    "print(oriGinal.number_of_edges())"
   ]
  },
  {
   "cell_type": "code",
   "execution_count": 16,
   "id": "1ef23ad7",
   "metadata": {},
   "outputs": [],
   "source": [
    "G = nx.convert_node_labels_to_integers(oriGinal, label_attribute='original_name')"
   ]
  },
  {
   "cell_type": "code",
   "execution_count": 9,
   "id": "c317fac8",
   "metadata": {},
   "outputs": [
    {
     "ename": "NameError",
     "evalue": "name 'G' is not defined",
     "output_type": "error",
     "traceback": [
      "\u001b[0;31m---------------------------------------------------------------------------\u001b[0m",
      "\u001b[0;31mNameError\u001b[0m                                 Traceback (most recent call last)",
      "Input \u001b[0;32mIn [9]\u001b[0m, in \u001b[0;36m<cell line: 1>\u001b[0;34m()\u001b[0m\n\u001b[0;32m----> 1\u001b[0m actor_nodes \u001b[38;5;241m=\u001b[39m {n \u001b[38;5;28;01mfor\u001b[39;00m n, d \u001b[38;5;129;01min\u001b[39;00m \u001b[43mG\u001b[49m\u001b[38;5;241m.\u001b[39mnodes(data\u001b[38;5;241m=\u001b[39m\u001b[38;5;28;01mTrue\u001b[39;00m) \u001b[38;5;28;01mif\u001b[39;00m d[\u001b[38;5;124m\"\u001b[39m\u001b[38;5;124mbipartite\u001b[39m\u001b[38;5;124m\"\u001b[39m] \u001b[38;5;241m==\u001b[39m \u001b[38;5;241m0\u001b[39m}\n\u001b[1;32m      2\u001b[0m movies_nodes \u001b[38;5;241m=\u001b[39m \u001b[38;5;28mset\u001b[39m(G) \u001b[38;5;241m-\u001b[39m actor_nodes\n\u001b[1;32m      3\u001b[0m \u001b[38;5;28mprint\u001b[39m(actor_nodes)\n",
      "\u001b[0;31mNameError\u001b[0m: name 'G' is not defined"
     ]
    }
   ],
   "source": [
    "actor_nodes = {n for n, d in G.nodes(data=True) if d[\"bipartite\"] == 0}\n",
    "movies_nodes = set(G) - actor_nodes\n",
    "print(actor_nodes)"
   ]
  },
  {
   "cell_type": "code",
   "execution_count": 17,
   "id": "4bb7750b",
   "metadata": {},
   "outputs": [
    {
     "name": "stdout",
     "output_type": "stream",
     "text": [
      "{2372152: {}, 2514502: {}}\n"
     ]
    }
   ],
   "source": [
    "print(G[400000])"
   ]
  },
  {
   "cell_type": "code",
   "execution_count": 18,
   "id": "42521641",
   "metadata": {},
   "outputs": [
    {
     "name": "stdout",
     "output_type": "stream",
     "text": [
      "Number of actor nodes: 2364796\n",
      "Number of movies nodes: 745941\n",
      "Total number of nodes: 3110737\n",
      "#Nodes? True\n",
      "#Edges? True\n"
     ]
    }
   ],
   "source": [
    "#TODO asserts\n",
    "print(f\"Number of actor nodes: {len(actor_nodes)}\")\n",
    "print(f\"Number of movies nodes: {len(movies_nodes)}\")\n",
    "print(f\"Total number of nodes: {len(actor_nodes) + len(movies_nodes)}\")\n",
    "\n",
    "print(f\"#Nodes? {oriGinal.number_of_nodes() == G.number_of_nodes()}\")\n",
    "print(f\"#Edges? {oriGinal.number_of_edges() == G.number_of_edges()}\")"
   ]
  },
  {
   "cell_type": "code",
   "execution_count": 19,
   "id": "6aefbfba",
   "metadata": {},
   "outputs": [
    {
     "name": "stdout",
     "output_type": "stream",
     "text": [
      "Graph with 3110737 nodes and 8103960 edges\n"
     ]
    }
   ],
   "source": [
    "print(oriGinal)"
   ]
  },
  {
   "cell_type": "code",
   "execution_count": null,
   "id": "9ea60253",
   "metadata": {},
   "outputs": [],
   "source": []
  },
  {
   "cell_type": "code",
   "execution_count": 22,
   "id": "4af3310d",
   "metadata": {},
   "outputs": [
    {
     "name": "stdout",
     "output_type": "stream",
     "text": [
      "{'Zonde (2010)': {}}\n",
      "{'Drug Demon Romance (2012)': {}}\n",
      "{25695: {}, 207265: {}, 457200: {}, 472789: {}, 1009276: {}, 1140040: {}, 1486377: {}, 1751991: {}, 2036767: {}, 2816091: {}, 2313367: {}}\n",
      "{'bipartite': 1, 'year': 2011, 'original_name': 'To Meet It with Awe (2011)'}\n"
     ]
    }
   ],
   "source": [
    "print(oriGinal[\"'t Hoen, Dani?l\"])\n",
    "print(oriGinal[\"'Kid Niagara' Kallet, Harry\"])\n",
    "\n",
    "print(G[2151046])\n",
    "\n",
    "nodes_data = G.nodes.data(True)\n",
    "print(nodes_data[2365734])"
   ]
  },
  {
   "cell_type": "markdown",
   "id": "a0509c4e",
   "metadata": {},
   "source": []
  },
  {
   "cell_type": "code",
   "execution_count": null,
   "id": "dd999425",
   "metadata": {},
   "outputs": [],
   "source": [
    "original_data = oriGinal.nodes.data(True)\n",
    "print(original_data['To Meet It with Awe (2011)'])"
   ]
  },
  {
   "cell_type": "code",
   "execution_count": null,
   "id": "20cd3699",
   "metadata": {},
   "outputs": [],
   "source": [
    "G.size"
   ]
  },
  {
   "cell_type": "code",
   "execution_count": 23,
   "id": "350b4bc4",
   "metadata": {},
   "outputs": [
    {
     "data": {
      "text/plain": [
       "1883"
      ]
     },
     "execution_count": 23,
     "metadata": {},
     "output_type": "execute_result"
    }
   ],
   "source": [
    "len(degree_hist)"
   ]
  },
  {
   "cell_type": "code",
   "execution_count": 22,
   "id": "ae239de3",
   "metadata": {},
   "outputs": [],
   "source": [
    "degree_hist = nx.degree_histogram(G)"
   ]
  },
  {
   "cell_type": "code",
   "execution_count": 29,
   "id": "af0e2dd3",
   "metadata": {},
   "outputs": [
    {
     "data": {
      "image/png": "[encoded data removed]",
      "text/plain": [
       "<Figure size 576x432 with 1 Axes>"
      ]
     },
     "metadata": {
      "needs_background": "light"
     },
     "output_type": "display_data"
    }
   ],
   "source": [
    "import matplotlib.pyplot as plt\n",
    "from matplotlib.pyplot import figure\n",
    "degree_hist = nx.degree_histogram(G)\n",
    "figure(figsize=(8, 6))\n",
    "x_len = 1883\n",
    "x = range(0,x_len)\n",
    "y = np.array(degree_hist[0:x_len])\n",
    "plt.title(\"Degree distribution for the IMDB actor-movie graph\")\n",
    "plt.scatter(x, y, s=4)\n",
    "plt.yscale('log')\n",
    "plt.show()"
   ]
  },
  {
   "cell_type": "markdown",
   "id": "388abd0b",
   "metadata": {},
   "source": [
    "## Question 1\n",
    "G) Considering only the movies up to year x with x in {1930,1940,1950,1960,1970,1980,1990,2000,2010,2020}, write a function which, given x, computes the average number of movies per actor up to year x. "
   ]
  },
  {
   "cell_type": "code",
   "execution_count": 22,
   "id": "680f831a",
   "metadata": {},
   "outputs": [],
   "source": [
    "def avgMoviesPerActorUpToYear(graph, act_nodes, mv_nodes, year):\n",
    "    '''\n",
    "    Given 'year' returns the average number of movies in which an actor participated in.\n",
    "    Arguments: \n",
    "        graph: the IMDB graph (numerical version)\n",
    "        act_nodes: indices of nodes which are of type actor (kept in memory so that doesn't have to be calculated each time)\n",
    "        mv_nodes: indices of nodes which are of type movie\n",
    "        year: year up to which calculation is made\n",
    "    Returns: \n",
    "        year: year taken into consideration\n",
    "        mean1: mean taking into consideration the whole set of actor nodes (even unborn and dead ones)\n",
    "        mean2: mean taking into consideration only the actors that made at least one movie in the considered period\n",
    "    '''\n",
    "    # get movies nodes up to a certain year\n",
    "    movies_up_to_year = {x for x,y in graph.nodes(data=True) if y['bipartite'] == 1 and y['year'] <= year}\n",
    "    # \n",
    "    nodes_subset = movies_up_to_year.union(act_nodes) \n",
    "    # We have two ways of interpreting the question. One is to consider actors even when they've zero movies, the \n",
    "    # other is to consider actors only when they have a non zero counter. Regardless, this is considered later\n",
    "    subgraph = graph.subgraph(nodes_subset)\n",
    "    assert subgraph.number_of_nodes() == len(nodes_subset)\n",
    "    \n",
    "    subgraph_actor_nodes = {n for n, d in subgraph.nodes(data=True) if d[\"bipartite\"] == 0} #in this case it's not necessary because actors are first nodes (in order), but what I said is not a given\n",
    "    \n",
    "    degrees = subgraph.degree(nbunch = subgraph_actor_nodes)\n",
    "    deg_data = pd.DataFrame(degrees)\n",
    "    #print(deg_data[1])\n",
    "    sol = (year, deg_data[1].mean(), deg_data[1].replace(0, np.NaN).mean()) #convenient for output later\n",
    "    #print(f\"Mean: {sol[1]}\")\n",
    "    #print(f\"Mean removing zeros: {sol[2]}\")\n",
    "    return sol\n",
    "    \n",
    "    #print(a)"
   ]
  },
  {
   "cell_type": "code",
   "execution_count": 23,
   "id": "b1df33cf",
   "metadata": {},
   "outputs": [
    {
     "name": "stdout",
     "output_type": "stream",
     "text": [
      "(1970, 0.7823960290866527, 6.344669016789203)\n"
     ]
    }
   ],
   "source": [
    "print(avgMoviesPerActorUpToYear(G, actor_nodes, movies_nodes, 1970))"
   ]
  },
  {
   "cell_type": "code",
   "execution_count": 24,
   "id": "4c61dd31",
   "metadata": {},
   "outputs": [
    {
     "data": {
      "application/vnd.jupyter.widget-view+json": {
       "model_id": "012a095295bd4afa86e0d415974aa5f2",
       "version_major": 2,
       "version_minor": 0
      },
      "text/plain": [
       "  0%|          | 0/10 [00:00<?, ?it/s]"
      ]
     },
     "metadata": {},
     "output_type": "display_data"
    }
   ],
   "source": [
    "q1_results = []\n",
    "for year in tqdm(range(1930, 2021, 10)):\n",
    "    q1_results.append(avgMoviesPerActorUpToYear(G, actor_nodes, movies_nodes, year))\n"
   ]
  },
  {
   "cell_type": "code",
   "execution_count": 34,
   "id": "527a848f",
   "metadata": {},
   "outputs": [
    {
     "name": "stdout",
     "output_type": "stream",
     "text": [
      "   Year  Average 1  Average 2\n",
      "0  1930   0.163273   6.789769\n",
      "1  1940   0.300382   7.355874\n",
      "2  1950   0.426567   7.533169\n",
      "3  1960   0.583358   7.018147\n",
      "4  1970   0.782396   6.344669\n",
      "5  1980   1.029404   5.626963\n",
      "6  1990   1.349234   4.924729\n",
      "7  2000   1.813019   4.356106\n",
      "8  2010   2.912012   3.624233\n",
      "9  2020   3.426922   3.426922\n"
     ]
    },
    {
     "data": {
      "text/plain": [
       "<AxesSubplot:title={'center':'Average number of movies per year'}, xlabel='Year'>"
      ]
     },
     "execution_count": 34,
     "metadata": {},
     "output_type": "execute_result"
    },
    {
     "data": {
      "image/png": "[encoded data removed]",
      "text/plain": [
       "<Figure size 720x576 with 1 Axes>"
      ]
     },
     "metadata": {
      "needs_background": "light"
     },
     "output_type": "display_data"
    }
   ],
   "source": [
    "q1_df = pd.DataFrame(q1_results).rename(columns={0: \"Year\", 1: \"Average 1\", 2: \"Average 2\"})\n",
    "print(q1_df)\n",
    "q1_df.plot.bar(x=\"Year\", y=[\"Average 1\", \"Average 2\"], title=\"Average number of movies per year\", figsize=(10,8))\n"
   ]
  },
  {
   "cell_type": "markdown",
   "id": "8af29272",
   "metadata": {},
   "source": [
    "## Question 2\n",
    "3) Considering only the movies up to year x with x in {1930,1940,1950,1960,1970,1980,1990,2000,2010,2020} and restricting to the largest connected component of the graph. Approximate the closeness centrality for each node. Who are the top-10 actors?"
   ]
  },
  {
   "cell_type": "markdown",
   "id": "799715ee",
   "metadata": {},
   "source": [
    "[Fast Approximation of Centrality (D. Eppstein, J. Wang)](https://www.ics.uci.edu/~eppstein/pubs/EppWan-SODA-01.pdf)\n",
    "```\n",
    "*Pseudocode\n",
    "1. Let k be the number of iterations needed to obtain the desired error bound\n",
    "2. In iteration i, pick vertex v_i uniformly at random from G and solve the SSSP problem with v_i as a source. \n",
    "3. Let (1) be the centrality estimator for vertex u\n",
    "```\n",
    "Where  \n",
    "(1)  $\\hat{c}_u = \\frac{1}{\\sum_{i=1}^k \\frac{n*d(v_i, u)}{k(n-1)}}$"
   ]
  },
  {
   "cell_type": "code",
   "execution_count": 19,
   "id": "351181e2",
   "metadata": {},
   "outputs": [],
   "source": [
    "def closenessCentralityUpToYear(graph, act_nodes, year, k = None, epsilon = None):\n",
    "    '''\n",
    "    Approximates closeness centrality of graph\n",
    "    Arguments:\n",
    "        graph: input graph (numerical values of nodes)\n",
    "        act_nodes: indices of nodes that are of type actor\n",
    "        year: year up to which the centrality is wanted\n",
    "        [k]: number of iterations, compulsory if epsilon is not specified\n",
    "        [epsilon]: error bound for the centrality estimate (Azuma-Hoeffding epsilon)\n",
    "    Returns:\n",
    "        distances_df: dataframe containing the distances of the sampled nodes, and the calculated centrality\n",
    "        epsilon: epsilon of input (can be None)\n",
    "        k: k of input\n",
    "    \n",
    "    '''\n",
    "    movies_up_to_year = {x for x,y in graph.nodes(data=True) if y['bipartite'] == 1 and y['year'] <= year}\n",
    "    nodes_subset = movies_up_to_year.union(act_nodes) \n",
    "    cc_subgraph = graph.subgraph(nodes_subset)\n",
    "    largest_cc = max(nx.connected_components(cc_subgraph), key=len) # get largest CC \n",
    "    cc_subgraph = graph.subgraph(largest_cc)\n",
    "    assert cc_subgraph.number_of_nodes() == len(largest_cc)\n",
    "    \n",
    "    if epsilon is not None:\n",
    "        import math\n",
    "        k = math.ceil(math.log(cc_subgraph.number_of_nodes())/math.pow(epsilon, 2)) #FIXME: this calculation has to be done on the subgraph\n",
    "        print(f\"Corresponding to epsilon={epsilon} k was calculated as k={k}\")\n",
    "    else: \n",
    "        if k is None: \n",
    "            raise Exception(\"If no epsilon is specified, it is compulsory to specify k (num samples)\")\n",
    "    \n",
    "    print(f\"Value of k is {k} and largest cc size is {len(largest_cc)}\") \n",
    "\n",
    "    # 2. sample k nodes \n",
    "    starting_nodes = random.sample(list(largest_cc), k)\n",
    "    sssp_s = list(map(lambda x: nx.single_source_shortest_path_length(cc_subgraph, x), tqdm(starting_nodes))) # call single_source_shourtest_path_length(cc, sample) for each sample in samples\n",
    "    '''\n",
    "    #I wanted to do a dictionary but we actually don't really care about who generates a sample \n",
    "    sssp_s_dict = {}\n",
    "    for starting_node in tqdm(starting_nodes): \n",
    "        sssp_s_dict[starting_node] = nx.single_source_shortest_path_length(cc_subgraph, starting_node)'''\n",
    "    \n",
    "    n = len(largest_cc)\n",
    "    distances_df = pd.DataFrame(sssp_s).T\n",
    "    distances_df['centrality'] = distances_df.mean(numeric_only=True, axis=1).apply(lambda x: 1/(x*(n/(n-1))))\n",
    "    \n",
    "    \n",
    "    return (distances_df, epsilon, k)\n"
   ]
  },
  {
   "cell_type": "code",
   "execution_count": 20,
   "id": "b306ba98",
   "metadata": {},
   "outputs": [],
   "source": [
    "def topNActorsGivenCentralities(centralities_df, N = 10):\n",
    "    '''\n",
    "        Given dataframe with a column \"centrality\" returns the top 10 actors (needed because centrality is calculated for movies, too)\n",
    "        Arguments: \n",
    "            centralities_df: dataframe that has to have a column named 'centrality'\n",
    "            N: lenth of the ranking\n",
    "        Returns:\n",
    "            central_actors: top N actors given centralities\n",
    "    '''\n",
    "    # This method looks at the centralities, and simply excludes movies from the ranking, if present\n",
    "    sorted_centralities = centralities_df.sort_values('centrality', ascending=False)['centrality']\n",
    "    print(type(sorted_centralities))\n",
    "\n",
    "    central_actors = []\n",
    "    i = 0\n",
    "    for index, centr in sorted_centralities.items():\n",
    "        #print(f\"Index {index}, centr: {centr}\")\n",
    "        if G.nodes(data=True)[index]['bipartite'] == 0:\n",
    "            i+=1\n",
    "            central_actors.append(G.nodes(data=True)[index]['original_name'])\n",
    "            if i == 10:\n",
    "                break\n",
    "\n",
    "    return central_actors"
   ]
  },
  {
   "cell_type": "code",
   "execution_count": 21,
   "id": "08832053",
   "metadata": {},
   "outputs": [
    {
     "name": "stdout",
     "output_type": "stream",
     "text": [
      "Corresponding to epsilon=0.05 k was calculated as k=4681\n",
      "Value of k is 4681 and largest cc size is 120720\n"
     ]
    },
    {
     "data": {
      "application/vnd.jupyter.widget-view+json": {
       "model_id": "f69d046633b541838a60aab56a1511ed",
       "version_major": 2,
       "version_minor": 0
      },
      "text/plain": [
       "  0%|          | 0/4681 [00:00<?, ?it/s]"
      ]
     },
     "metadata": {},
     "output_type": "display_data"
    },
    {
     "name": "stdout",
     "output_type": "stream",
     "text": [
      "<class 'pandas.core.series.Series'>\n",
      "Corresponding to epsilon=0.07777777777777778 k was calculated as k=2002\n",
      "Value of k is 2002 and largest cc size is 180786\n"
     ]
    },
    {
     "data": {
      "application/vnd.jupyter.widget-view+json": {
       "model_id": "dd08a0a0164e499a83765e863c22f9e6",
       "version_major": 2,
       "version_minor": 0
      },
      "text/plain": [
       "  0%|          | 0/2002 [00:00<?, ?it/s]"
      ]
     },
     "metadata": {},
     "output_type": "display_data"
    },
    {
     "name": "stdout",
     "output_type": "stream",
     "text": [
      "<class 'pandas.core.series.Series'>\n",
      "Corresponding to epsilon=0.10555555555555556 k was calculated as k=1110\n",
      "Value of k is 1110 and largest cc size is 234381\n"
     ]
    },
    {
     "data": {
      "application/vnd.jupyter.widget-view+json": {
       "model_id": "0a2145a1ceff4c6aa9e150033924d768",
       "version_major": 2,
       "version_minor": 0
      },
      "text/plain": [
       "  0%|          | 0/1110 [00:00<?, ?it/s]"
      ]
     },
     "metadata": {},
     "output_type": "display_data"
    },
    {
     "name": "stdout",
     "output_type": "stream",
     "text": [
      "<class 'pandas.core.series.Series'>\n",
      "Corresponding to epsilon=0.13333333333333333 k was calculated as k=714\n",
      "Value of k is 714 and largest cc size is 320719\n"
     ]
    },
    {
     "data": {
      "application/vnd.jupyter.widget-view+json": {
       "model_id": "baa854d8dd8840ccb44dab1495c342e8",
       "version_major": 2,
       "version_minor": 0
      },
      "text/plain": [
       "  0%|          | 0/714 [00:00<?, ?it/s]"
      ]
     },
     "metadata": {},
     "output_type": "display_data"
    },
    {
     "name": "stdout",
     "output_type": "stream",
     "text": [
      "<class 'pandas.core.series.Series'>\n",
      "Corresponding to epsilon=0.1611111111111111 k was calculated as k=502\n",
      "Value of k is 502 and largest cc size is 451610\n"
     ]
    },
    {
     "data": {
      "application/vnd.jupyter.widget-view+json": {
       "model_id": "cf171909f6364304905079620a4a904f",
       "version_major": 2,
       "version_minor": 0
      },
      "text/plain": [
       "  0%|          | 0/502 [00:00<?, ?it/s]"
      ]
     },
     "metadata": {},
     "output_type": "display_data"
    },
    {
     "name": "stdout",
     "output_type": "stream",
     "text": [
      "<class 'pandas.core.series.Series'>\n",
      "Corresponding to epsilon=0.18888888888888888 k was calculated as k=375\n",
      "Value of k is 375 and largest cc size is 632247\n"
     ]
    },
    {
     "data": {
      "application/vnd.jupyter.widget-view+json": {
       "model_id": "d60269d7fd374011a4feea40aeeae998",
       "version_major": 2,
       "version_minor": 0
      },
      "text/plain": [
       "  0%|          | 0/375 [00:00<?, ?it/s]"
      ]
     },
     "metadata": {},
     "output_type": "display_data"
    },
    {
     "name": "stdout",
     "output_type": "stream",
     "text": [
      "<class 'pandas.core.series.Series'>\n",
      "Corresponding to epsilon=0.21666666666666667 k was calculated as k=292\n",
      "Value of k is 292 and largest cc size is 896126\n"
     ]
    },
    {
     "data": {
      "application/vnd.jupyter.widget-view+json": {
       "model_id": "0a7fbe916e5441a2b66fc6155249df07",
       "version_major": 2,
       "version_minor": 0
      },
      "text/plain": [
       "  0%|          | 0/292 [00:00<?, ?it/s]"
      ]
     },
     "metadata": {},
     "output_type": "display_data"
    },
    {
     "name": "stdout",
     "output_type": "stream",
     "text": [
      "<class 'pandas.core.series.Series'>\n",
      "Corresponding to epsilon=0.2444444444444444 k was calculated as k=236\n",
      "Value of k is 236 and largest cc size is 1303550\n"
     ]
    },
    {
     "data": {
      "application/vnd.jupyter.widget-view+json": {
       "model_id": "781c9f6ad96443319dedfa7672664846",
       "version_major": 2,
       "version_minor": 0
      },
      "text/plain": [
       "  0%|          | 0/236 [00:00<?, ?it/s]"
      ]
     },
     "metadata": {},
     "output_type": "display_data"
    },
    {
     "name": "stdout",
     "output_type": "stream",
     "text": [
      "<class 'pandas.core.series.Series'>\n",
      "Corresponding to epsilon=0.2722222222222222 k was calculated as k=199\n",
      "Value of k is 199 and largest cc size is 2380266\n"
     ]
    },
    {
     "data": {
      "application/vnd.jupyter.widget-view+json": {
       "model_id": "8705a5a18aa24ccaaed8778f446f7a76",
       "version_major": 2,
       "version_minor": 0
      },
      "text/plain": [
       "  0%|          | 0/199 [00:00<?, ?it/s]"
      ]
     },
     "metadata": {},
     "output_type": "display_data"
    },
    {
     "name": "stdout",
     "output_type": "stream",
     "text": [
      "<class 'pandas.core.series.Series'>\n",
      "Corresponding to epsilon=0.3 k was calculated as k=166\n",
      "Value of k is 166 and largest cc size is 2926072\n"
     ]
    },
    {
     "data": {
      "application/vnd.jupyter.widget-view+json": {
       "model_id": "c0d01db4d0f2498698246b695c2613be",
       "version_major": 2,
       "version_minor": 0
      },
      "text/plain": [
       "  0%|          | 0/166 [00:00<?, ?it/s]"
      ]
     },
     "metadata": {},
     "output_type": "display_data"
    },
    {
     "name": "stdout",
     "output_type": "stream",
     "text": [
      "<class 'pandas.core.series.Series'>\n"
     ]
    }
   ],
   "source": [
    "data = {}\n",
    "for year, epsilon in zip(list(range(1930, 2021, 10)), np.linspace(0.05, 0.30, 10)):\n",
    "    data[year] = {}\n",
    "    centralities, eps, kappa = closenessCentralityUpToYear(G, actor_nodes, year, epsilon=epsilon)\n",
    "    data[year]['epsilon'] = epsilon\n",
    "    data[year]['year'] = year\n",
    "    data[year]['centralities'] = centralities\n",
    "    data[year]['num_samples'] = kappa\n",
    "    data[year]['top_ten_actors'] = topNActorsGivenCentralities(centralities, N = 10)\n"
   ]
  },
  {
   "cell_type": "code",
   "execution_count": 23,
   "id": "f2ba353d",
   "metadata": {},
   "outputs": [],
   "source": [
    "import pickle \n",
    "with open('centrality_data.pickle', 'wb') as file:\n",
    "    pickle.dump(data, file, protocol=pickle.HIGHEST_PROTOCOL)"
   ]
  },
  {
   "cell_type": "code",
   "execution_count": 42,
   "id": "d64376c7",
   "metadata": {},
   "outputs": [
    {
     "name": "stdout",
     "output_type": "stream",
     "text": [
      "['Bracey, Sidney', 'Fawcett, George', 'Beery, Noah (I)', 'Siegmann, George', 'Marshall, Tully', 'De Brulier, Nigel', 'Holmes, Stuart', 'Swickard, Josef', 'McDowell, Claire', 'Pitts, Zasu']\n",
      "['Steers, Larry', 'Bracey, Sidney', 'White, Leo (I)', 'Lucas, Wilfred', 'Semels, Harry (I)', 'Corrado, Gino', 'Mulhall, Jack', 'Brady, Ed (III)', 'Hoyt, Arthur', \"O'Malley, Pat (I)\"]\n",
      "['Steers, Larry', 'Corrado, Gino', 'Flowers, Bess', 'Semels, Harry (I)', 'Harris, Sam (II)', 'White, Leo (I)', 'Holmes, Stuart', 'Blue, Monte', \"O'Malley, Pat (I)\", 'Hagney, Frank']\n",
      "['Flowers, Bess', 'Harris, Sam (II)', 'Steers, Larry', 'Corrado, Gino', 'Farnum, Franklyn', 'Chefe, Jack', 'Auer, Mischa', 'Miller, Harold (I)', \"O'Brien, William H.\", 'Holmes, Stuart']\n",
      "['Harris, Sam (II)', 'Flowers, Bess', 'Tamiroff, Akim', 'Welles, Orson', 'Farnum, Franklyn', 'Miller, Harold (I)', 'Frees, Paul', 'Sayre, Jeffrey', 'Stevens, Bert (I)', 'Quinn, Anthony (I)']\n",
      "['Flowers, Bess', 'Harris, Sam (II)', 'Welles, Orson', 'Miller, Harold (I)', 'Tamiroff, Akim', 'Farnum, Franklyn', 'Sayre, Jeffrey', 'Niven, David (I)', 'Quinn, Anthony (I)', 'Holmes, Stuart']\n",
      "['Welles, Orson', 'Hitler, Adolf', 'Carradine, John', 'Quinn, Anthony (I)', 'Flowers, Bess', 'Douglas, Kirk (I)', 'Sinatra, Frank', 'Fonda, Henry', 'Wayne, John (I)', 'Harris, Sam (II)']\n",
      "['Steiger, Rod', 'Sutherland, Donald (I)', 'Lee, Christopher (I)', 'Hitler, Adolf', 'Welles, Orson', 'Caine, Michael (I)', 'Loren, Sophia', 'Schell, Maximilian', 'York, Michael (I)', 'Hopper, Dennis']\n",
      "['Reagan, Ronald (I)', 'Hitler, Adolf', 'Madonna', 'De Niro, Robert', 'Schwarzenegger, Arnold', 'Kidman, Nicole', 'Pitt, Brad', 'Hanks, Tom', 'Caine, Michael (I)', 'Hopper, Dennis']\n",
      "['Jackson, Samuel L.', 'Hitler, Adolf', 'Depp, Johnny', 'Sheen, Martin', 'De Niro, Robert', 'Willis, Bruce', 'Madonna', 'Lee, Christopher (I)', 'Clooney, George', 'Hanks, Tom']\n"
     ]
    }
   ],
   "source": [
    "data_tuples = []\n",
    "cc_sizes = [120720, 180786, 234381, 320719, 451610, 632247, 896126, 1303550, 2380266, 2926072]\n",
    "it_s = [2.28, 1.36, 1.01, 1.37, 1.90, 2.60, 3.57, 4.85, 8.09, 9.44]\n",
    "i = 0\n",
    "for item in data:\n",
    "    record = (data[item]['year'], data[item]['epsilon'], data[item]['num_samples'], cc_sizes[i], it_s[i])\n",
    "    i+=1\n",
    "    data_tuples.append(record)\n",
    "    print(data[item]['top_ten_actors'])"
   ]
  },
  {
   "cell_type": "code",
   "execution_count": 44,
   "id": "7dc10243",
   "metadata": {},
   "outputs": [
    {
     "data": {
      "text/plain": [
       "<AxesSubplot:title={'center':'Iterations per second*'}, xlabel='Year'>"
      ]
     },
     "execution_count": 44,
     "metadata": {},
     "output_type": "execute_result"
    },
    {
     "data": {
      "image/png": "[encoded data removed]",
      "text/plain": [
       "<Figure size 432x216 with 1 Axes>"
      ]
     },
     "metadata": {
      "needs_background": "light"
     },
     "output_type": "display_data"
    },
    {
     "data": {
      "image/png": "[encoded data removed]",
      "text/plain": [
       "<Figure size 432x216 with 1 Axes>"
      ]
     },
     "metadata": {
      "needs_background": "light"
     },
     "output_type": "display_data"
    },
    {
     "data": {
      "image/png": "[encoded data removed]",
      "text/plain": [
       "<Figure size 432x216 with 1 Axes>"
      ]
     },
     "metadata": {
      "needs_background": "light"
     },
     "output_type": "display_data"
    },
    {
     "data": {
      "image/png": "[encoded data removed]",
      "text/plain": [
       "<Figure size 432x216 with 1 Axes>"
      ]
     },
     "metadata": {
      "needs_background": "light"
     },
     "output_type": "display_data"
    }
   ],
   "source": [
    "data_df = pd.DataFrame(data_tuples).rename(columns={0: \"Year\", 1: \"Epsilon\", 2: \"Num. Samples\", 3: \"Largest CC size\", 4: \"it/s\"})\n",
    "data_df.plot.line(x=\"Year\", y=[\"Epsilon\"], title=\"Epsilon per selected year\", figsize=(6,3), style='.-')\n",
    "data_df.plot.line(x=\"Year\", y=[\"Num. Samples\"], title=\"Num. samples per selected year\", figsize=(6,3), style='.-')\n",
    "data_df.plot.line(x=\"Year\", y=[\"Largest CC size\"], title=\"Largest CC size per selected year\", figsize=(6,3), style='.-')\n",
    "data_df.plot.line(x=\"Year\", y=[\"it/s\"], title=\"Iterations per second*\", figsize=(6,3), style='.-')\n"
   ]
  },
  {
   "cell_type": "code",
   "execution_count": 40,
   "id": "e5093758",
   "metadata": {},
   "outputs": [
    {
     "name": "stdout",
     "output_type": "stream",
     "text": [
      "4.14 ns ± 0.0225 ns per loop (mean ± std. dev. of 7 runs, 100,000,000 loops each)\n"
     ]
    }
   ],
   "source": [
    "start = time.time()\n",
    "centralities = closenessCentralityUpToYear(G, actor_nodes, 1930, epsilon=0.2)\n",
    "end = time.time()\n",
    "print(f\"Elapsed: {end - start}\")\n"
   ]
  },
  {
   "cell_type": "code",
   "execution_count": 37,
   "id": "22c262a0",
   "metadata": {},
   "outputs": [
    {
     "name": "stdout",
     "output_type": "stream",
     "text": [
      "<class 'pandas.core.series.Series'>\n",
      "Index 1770044, centr: 0.2192973099654731\n",
      "Index 2369141, centr: 0.21739037683533854\n",
      "Index 1310353, centr: 0.21739037683533854\n",
      "Index 279530, centr: 0.21739037683533854\n",
      "Index 69410, centr: 0.2155163218626201\n",
      "Index 1214825, centr: 0.2155163218626201\n",
      "Index 1075162, centr: 0.2155163218626201\n",
      "Index 2389455, centr: 0.2155163218626201\n",
      "Index 796332, centr: 0.21367430201764048\n",
      "Index 564256, centr: 0.21367430201764048\n",
      "Index 1434803, centr: 0.21367430201764048\n",
      "Index 1262030, centr: 0.21367430201764048\n",
      "['Flowers, Bess', 'Steers, Larry', 'Corrado, Gino', 'Bacon, Irving', 'Sarno, Hector', 'Phelps, Lee (I)', 'Lewis, Mitchell (I)', 'Harris, Sam (II)', 'Vogan, Emmett', 'Shumway, Lee']\n"
     ]
    }
   ],
   "source": [
    "print(topNActorsGivenCentralities(centralities, N=10))"
   ]
  },
  {
   "cell_type": "code",
   "execution_count": null,
   "id": "a9d81230",
   "metadata": {},
   "outputs": [],
   "source": [
    "centralities"
   ]
  },
  {
   "cell_type": "code",
   "execution_count": null,
   "id": "6ef7bae7",
   "metadata": {},
   "outputs": [],
   "source": [
    "nx_centr"
   ]
  },
  {
   "cell_type": "code",
   "execution_count": 65,
   "id": "b0cdacc0",
   "metadata": {},
   "outputs": [
    {
     "name": "stdout",
     "output_type": "stream",
     "text": [
      "          0   1   2   3   4   5   6   7   8   9  10  11  12  13  14  \\\n",
      "169727   18  17  17  17  16  17  16  16  15  17  17  15  17  15  14   \n",
      "1677454  18  17  17  17  16  17  16  16  15  17  17  15  17  15  14   \n",
      "1682097  18  17  17  17  16  17  16  16  15  17  17  15  17  15  14   \n",
      "143486   18  17  17  17  16  17  16  16  15  17  17  15  17  15  14   \n",
      "2309179  18  17  17  17  16  17  16  16  15  17  17  15  17  15  14   \n",
      "...      ..  ..  ..  ..  ..  ..  ..  ..  ..  ..  ..  ..  ..  ..  ..   \n",
      "1146815   6   3   5   5   6   7   2   4   5   5   5   3   5   3   4   \n",
      "2420989   7   4   6   4   5   6   3   3   4   4   4   2   6   4   5   \n",
      "2389455   7   4   6   6   5   6   3   3   6   2   4   2   6   2   5   \n",
      "2368131   7   4   6   4   5   6   3   3   4   4   4   2   6   4   5   \n",
      "2369141   5   4   6   4   5   6   3   3   4   4   4   2   6   4   5   \n",
      "\n",
      "         centrality  \n",
      "169727     0.061475  \n",
      "1677454    0.061475  \n",
      "1682097    0.061475  \n",
      "143486     0.061475  \n",
      "2309179    0.061475  \n",
      "...             ...  \n",
      "1146815    0.220588  \n",
      "2420989    0.223880  \n",
      "2389455    0.223880  \n",
      "2368131    0.223880  \n",
      "2369141    0.230769  \n",
      "\n",
      "[456348 rows x 16 columns]\n"
     ]
    }
   ],
   "source": [
    "topTenGivenCentralities(centralities)"
   ]
  },
  {
   "cell_type": "code",
   "execution_count": 142,
   "id": "472f32da",
   "metadata": {},
   "outputs": [],
   "source": [
    "#distances_df = pd.DataFrame(sssp).T\n",
    "#n = 5\n",
    "#distances_df['centrality'] = distances_df.mean(numeric_only=True, axis=1).apply(lambda x: 1/(x*(n/(n-1))))\n",
    "                                                                         "
   ]
  },
  {
   "cell_type": "code",
   "execution_count": 143,
   "id": "b42a4793",
   "metadata": {},
   "outputs": [
    {
     "data": {
      "text/html": [
       "<div>\n",
       "<style scoped>\n",
       "    .dataframe tbody tr th:only-of-type {\n",
       "        vertical-align: middle;\n",
       "    }\n",
       "\n",
       "    .dataframe tbody tr th {\n",
       "        vertical-align: top;\n",
       "    }\n",
       "\n",
       "    .dataframe thead th {\n",
       "        text-align: right;\n",
       "    }\n",
       "</style>\n",
       "<table border=\"1\" class=\"dataframe\">\n",
       "  <thead>\n",
       "    <tr style=\"text-align: right;\">\n",
       "      <th></th>\n",
       "      <th>0</th>\n",
       "      <th>1</th>\n",
       "      <th>2</th>\n",
       "      <th>avg</th>\n",
       "      <th>centrality</th>\n",
       "    </tr>\n",
       "  </thead>\n",
       "  <tbody>\n",
       "    <tr>\n",
       "      <th>1130121</th>\n",
       "      <td>0</td>\n",
       "      <td>5</td>\n",
       "      <td>8</td>\n",
       "      <td>0.174545</td>\n",
       "      <td>0.242893</td>\n",
       "    </tr>\n",
       "    <tr>\n",
       "      <th>2421064</th>\n",
       "      <td>1</td>\n",
       "      <td>4</td>\n",
       "      <td>7</td>\n",
       "      <td>0.188235</td>\n",
       "      <td>0.262548</td>\n",
       "    </tr>\n",
       "    <tr>\n",
       "      <th>1442048</th>\n",
       "      <td>2</td>\n",
       "      <td>3</td>\n",
       "      <td>6</td>\n",
       "      <td>0.204255</td>\n",
       "      <td>0.285606</td>\n",
       "    </tr>\n",
       "    <tr>\n",
       "      <th>249220</th>\n",
       "      <td>2</td>\n",
       "      <td>5</td>\n",
       "      <td>8</td>\n",
       "      <td>0.152381</td>\n",
       "      <td>0.211188</td>\n",
       "    </tr>\n",
       "    <tr>\n",
       "      <th>885125</th>\n",
       "      <td>2</td>\n",
       "      <td>5</td>\n",
       "      <td>8</td>\n",
       "      <td>0.152381</td>\n",
       "      <td>0.211188</td>\n",
       "    </tr>\n",
       "    <tr>\n",
       "      <th>...</th>\n",
       "      <td>...</td>\n",
       "      <td>...</td>\n",
       "      <td>...</td>\n",
       "      <td>...</td>\n",
       "      <td>...</td>\n",
       "    </tr>\n",
       "    <tr>\n",
       "      <th>652618</th>\n",
       "      <td>16</td>\n",
       "      <td>17</td>\n",
       "      <td>18</td>\n",
       "      <td>0.046377</td>\n",
       "      <td>0.062688</td>\n",
       "    </tr>\n",
       "    <tr>\n",
       "      <th>1054028</th>\n",
       "      <td>16</td>\n",
       "      <td>17</td>\n",
       "      <td>18</td>\n",
       "      <td>0.046377</td>\n",
       "      <td>0.062688</td>\n",
       "    </tr>\n",
       "    <tr>\n",
       "      <th>1049459</th>\n",
       "      <td>16</td>\n",
       "      <td>17</td>\n",
       "      <td>18</td>\n",
       "      <td>0.046377</td>\n",
       "      <td>0.062688</td>\n",
       "    </tr>\n",
       "    <tr>\n",
       "      <th>143486</th>\n",
       "      <td>16</td>\n",
       "      <td>17</td>\n",
       "      <td>18</td>\n",
       "      <td>0.046377</td>\n",
       "      <td>0.062688</td>\n",
       "    </tr>\n",
       "    <tr>\n",
       "      <th>169727</th>\n",
       "      <td>16</td>\n",
       "      <td>17</td>\n",
       "      <td>18</td>\n",
       "      <td>0.046377</td>\n",
       "      <td>0.062688</td>\n",
       "    </tr>\n",
       "  </tbody>\n",
       "</table>\n",
       "<p>456348 rows × 5 columns</p>\n",
       "</div>"
      ],
      "text/plain": [
       "          0   1   2       avg  centrality\n",
       "1130121   0   5   8  0.174545    0.242893\n",
       "2421064   1   4   7  0.188235    0.262548\n",
       "1442048   2   3   6  0.204255    0.285606\n",
       "249220    2   5   8  0.152381    0.211188\n",
       "885125    2   5   8  0.152381    0.211188\n",
       "...      ..  ..  ..       ...         ...\n",
       "652618   16  17  18  0.046377    0.062688\n",
       "1054028  16  17  18  0.046377    0.062688\n",
       "1049459  16  17  18  0.046377    0.062688\n",
       "143486   16  17  18  0.046377    0.062688\n",
       "169727   16  17  18  0.046377    0.062688\n",
       "\n",
       "[456348 rows x 5 columns]"
      ]
     },
     "execution_count": 143,
     "metadata": {},
     "output_type": "execute_result"
    }
   ],
   "source": [
    "distances_df"
   ]
  },
  {
   "cell_type": "markdown",
   "id": "8bbaa87d",
   "metadata": {},
   "source": [
    "## Question 3\n",
    "III) Which is the pair of movies that share the largest number of actors?\n",
    "\n",
    "Main idea to solve this would be to do an intersection of the edges of each of the movies.\n",
    "\n",
    "Doing the intersections of all sets can become very expensive timewise. \n",
    "\n",
    "Given an unordered set of sets $\\hat{S} = \\{S_1, .., S_N\\}$ for any $N\\in\\mathbb{N}$ s.t. $|S_i| \\leq M$ for any $i=1,..,N$ and $M \\in\\mathbb{N}$; finding the max intersection would cost $\\mathcal{O}(N)$, and $\\mathcal{O}(\\min{\\{|U_i|,|U_j|\\}})$ (python documentation), reaching $\\mathcal{O}(N*M)$. \n",
    "\n",
    "In this case I use the following simple observations: \n",
    "- For any two given sets $S_i \\neq S_j$ (for $i\\neq j = 1, .., N$) it is true that $|S_i \\cap S_j| \\leq \\min \\{|S_i|, |S_j|\\}$\n",
    "- Let $m$ be the maximum intersection found until a certain iteration. Then if $U_i$ (or $U_j$) is s.t. $|U_i|<m$ (or $|U_j|<m$) then necessarily $|U_i \\cap U_j| < m$, i.e. it is not necessary to do the intersection to infer that the cardinality of that intersection would now surpass the current max. Therefore, it's possible to only check the cardinality and skip the calculation of the intersections.\n",
    "\n",
    "With this heuristic, although the formal complexity would be essentially the same, in practice a lot of the intersections are skipped. "
   ]
  },
  {
   "cell_type": "code",
   "execution_count": 22,
   "id": "f146fa86",
   "metadata": {},
   "outputs": [],
   "source": [
    "def moviesWithMaxCommonNumActors(graph, mv_nodes):\n",
    "    '''\n",
    "    Calculates the couple of movies with the most common actors\n",
    "    Arguments: \n",
    "        graph: IMDB graph with integer values\n",
    "        mv_nodes: list of indices of the movies that are of type 'movie'\n",
    "    Returns: \n",
    "        (movies1, movie2): solution of the problem\n",
    "    Prints: \n",
    "        Number of common 'actors' between the two movies\n",
    "        \n",
    "    '''\n",
    "    mv_act = nx.to_dict_of_lists(graph)\n",
    "    print(mv_act[1])\n",
    "    current_solution = (None, None)\n",
    "    current_max = 0\n",
    "    for movie in tqdm(mv_nodes):\n",
    "        if len(mv_act[movie]) >= current_max:\n",
    "            for second_movie in mv_nodes:\n",
    "                if len(mv_act[second_movie]) >= current_max and movie != second_movie:\n",
    "                    temp = len(set(mv_act[movie]).intersection(set(mv_act[second_movie])))\n",
    "                    if current_max < temp:\n",
    "                        current_solution = (movie, second_movie)\n",
    "                        current_max = temp\n",
    "                        \n",
    "    print(f\"Max: {current_max}\")\n",
    "    nodes_dt = G.nodes.data(True)\n",
    "    \n",
    "    return (nodes_dt[current_solution[0]]['original_name'], nodes_dt[current_solution[1]]['original_name'])"
   ]
  },
  {
   "cell_type": "code",
   "execution_count": 23,
   "id": "154ee5dd",
   "metadata": {},
   "outputs": [
    {
     "name": "stdout",
     "output_type": "stream",
     "text": [
      "[2364798]\n"
     ]
    },
    {
     "data": {
      "application/vnd.jupyter.widget-view+json": {
       "model_id": "12ace4058ab04ea3980e6c1469348bab",
       "version_major": 2,
       "version_minor": 0
      },
      "text/plain": [
       "  0%|          | 0/745941 [00:00<?, ?it/s]"
      ]
     },
     "metadata": {},
     "output_type": "display_data"
    },
    {
     "name": "stdout",
     "output_type": "stream",
     "text": [
      "Current max: 194\n",
      "('Kingdom Hearts II (2005) (VG)', 'Kingdom Hearts II: Final Mix+ (2007) (VG)')\n"
     ]
    }
   ],
   "source": [
    "result = moviesWithMaxCommonNumActors(G, list(movies_nodes)) #2151046\n",
    "print(result)"
   ]
  },
  {
   "cell_type": "code",
   "execution_count": 253,
   "id": "4f800c1a",
   "metadata": {},
   "outputs": [
    {
     "data": {
      "text/plain": [
       "(2384688, 2384689)"
      ]
     },
     "execution_count": 253,
     "metadata": {},
     "output_type": "execute_result"
    }
   ],
   "source": [
    "result"
   ]
  },
  {
   "cell_type": "code",
   "execution_count": 302,
   "id": "0182546e",
   "metadata": {},
   "outputs": [
    {
     "data": {
      "text/plain": [
       "AtlasView({7273: {}, 16140: {}, 27859: {}, 43138: {}, 45675: {}, 86123: {}, 111089: {}, 111114: {}, 112199: {}, 114441: {}, 126321: {}, 154713: {}, 158359: {}, 180610: {}, 188640: {}, 188935: {}, 190455: {}, 214999: {}, 220945: {}, 255630: {}, 259215: {}, 282296: {}, 285442: {}, 296874: {}, 334020: {}, 351536: {}, 361683: {}, 365989: {}, 383626: {}, 385666: {}, 399801: {}, 400863: {}, 415400: {}, 428456: {}, 432956: {}, 439521: {}, 453750: {}, 453944: {}, 456198: {}, 459964: {}, 460109: {}, 461304: {}, 467468: {}, 483998: {}, 485120: {}, 512300: {}, 513680: {}, 514089: {}, 535324: {}, 561524: {}, 569644: {}, 572970: {}, 596641: {}, 596780: {}, 597895: {}, 609500: {}, 629751: {}, 632931: {}, 632973: {}, 634510: {}, 635833: {}, 637352: {}, 637533: {}, 667110: {}, 669345: {}, 678955: {}, 681488: {}, 684511: {}, 685402: {}, 715117: {}, 727762: {}, 730088: {}, 738800: {}, 747808: {}, 766154: {}, 777569: {}, 780580: {}, 853394: {}, 858841: {}, 862219: {}, 863011: {}, 877573: {}, 877684: {}, 877728: {}, 877846: {}, 886918: {}, 896843: {}, 920917: {}, 933031: {}, 933566: {}, 933593: {}, 951276: {}, 951683: {}, 955634: {}, 973913: {}, 973943: {}, 975700: {}, 976316: {}, 976394: {}, 988431: {}, 1009537: {}, 1012822: {}, 1014293: {}, 1015408: {}, 1015444: {}, 1016359: {}, 1016717: {}, 1017641: {}, 1021429: {}, 1028818: {}, 1035846: {}, 1054243: {}, 1079075: {}, 1147939: {}, 1195115: {}, 1198494: {}, 1200012: {}, 1207838: {}, 1210350: {}, 1213608: {}, 1215421: {}, 1216143: {}, 1218921: {}, 1247386: {}, 1257840: {}, 1257886: {}, 1258836: {}, 1294087: {}, 1294114: {}, 1304176: {}, 1309798: {}, 1317492: {}, 1319218: {}, 1325673: {}, 1328719: {}, 1334048: {}, 1334485: {}, 1344719: {}, 1344797: {}, 1345383: {}, 1351854: {}, 1352693: {}, 1353865: {}, 1364789: {}, 1368993: {}, 1378596: {}, 1392388: {}, 1392639: {}, 1400309: {}, 1400387: {}, 1400705: {}, 1443127: {}, 1443148: {}, 1454608: {}, 1454616: {}, 1461617: {}, 1463498: {}, 1492651: {}, 1495604: {}, 1503345: {}, 1503540: {}, 1504037: {}, 1510474: {}, 1529610: {}, 1529785: {}, 1529854: {}, 1529858: {}, 1555720: {}, 1563753: {}, 1563761: {}, 1591824: {}, 1603372: {}, 1614563: {}, 1632420: {}, 1647339: {}, 1679039: {}, 1720926: {}, 1723483: {}, 1723662: {}, 1725835: {}, 1725840: {}, 1731211: {}, 1742083: {}, 1781783: {}, 1829900: {}, 1831606: {}, 1854019: {}, 1861887: {}, 1862466: {}, 1873395: {}, 1875721: {}, 1875912: {}, 1898632: {}, 1904628: {}, 1926426: {}, 1934707: {}, 1937749: {}, 1944090: {}, 1945854: {}, 1946897: {}, 1988333: {}, 1989553: {}, 2002667: {}, 2004415: {}, 2011786: {}, 2011809: {}, 2042719: {}, 2045196: {}, 2065533: {}, 2068168: {}, 2081911: {}, 2085061: {}, 2101552: {}, 2181118: {}, 2186036: {}, 2196755: {}, 2201172: {}, 2218094: {}, 2233176: {}, 2237690: {}, 2248494: {}, 2253376: {}, 2258662: {}, 2258926: {}, 2270791: {}, 2285947: {}, 2294351: {}, 2324580: {}, 2329900: {}, 2334149: {}, 2346581: {}, 2350190: {}, 2352375: {}, 2355952: {}, 2364229: {}})"
      ]
     },
     "execution_count": 302,
     "metadata": {},
     "output_type": "execute_result"
    }
   ],
   "source": [
    "G[2384688]['']"
   ]
  },
  {
   "cell_type": "raw",
   "id": "01c768cc",
   "metadata": {},
   "source": []
  },
  {
   "cell_type": "markdown",
   "id": "facd2453",
   "metadata": {},
   "source": [
    "## Question 4\n",
    "Build also the actor graph, whose nodes are only actors and two actors are connected if they did a movie together. Answer to the following question:\n",
    "\n",
    "Which is the pair of actors who collaborated the most among themselves?"
   ]
  },
  {
   "cell_type": "code",
   "execution_count": 12,
   "id": "3e2c990f",
   "metadata": {},
   "outputs": [],
   "source": [
    "bytm = df.loc[df['actor'] == 'Byron, Tom (I)']\n",
    "nptrs = df.loc[df['actor'] == 'North, Peter (I)']"
   ]
  },
  {
   "cell_type": "code",
   "execution_count": 13,
   "id": "69479f8c",
   "metadata": {},
   "outputs": [],
   "source": [
    "nptrs_set = set(nptrs['movie'])\n",
    "bytm_set = set(bytm['movie'])"
   ]
  },
  {
   "cell_type": "code",
   "execution_count": 14,
   "id": "9785e527",
   "metadata": {},
   "outputs": [
    {
     "name": "stdout",
     "output_type": "stream",
     "text": [
      "1822\n",
      "1882\n",
      "Intersection is 420\n"
     ]
    }
   ],
   "source": [
    "print(len(nptrs_set))\n",
    "print(len(bytm_set))\n",
    "print(f\"Intersection is {len(nptrs_set.intersection(bytm_set))}\")"
   ]
  },
  {
   "cell_type": "code",
   "execution_count": 2,
   "id": "a172b77b",
   "metadata": {},
   "outputs": [],
   "source": [
    "# INIT\n",
    "\n",
    "df = pd.read_csv('imdb_dataset.tsv', sep='\\t', header=None, dtype=str)\n",
    "edges = df.to_records(index=False)\n",
    "df[2] = df[1].str.extract(r'(\\(\\d{4})', expand=True)#.str.replace(\"(\", \"\").fillna(0).astype(int) #FIXME fillna is pretty ugly rn\n",
    "df[2] = df[2].str.replace(\"(\", \"\", regex=False).fillna(0).astype(int)\n",
    "df = df.rename(columns={0: \"actor\", 1: \"movie\", 2: \"year\"})\n",
    "df.loc[df['movie'] == 'Re']\n",
    "df['movie'] = df['movie'].replace(['Re'],'Re ')\n",
    "df['movie'] = df['movie'].replace(['Regen'], 'Regen ')\n"
   ]
  },
  {
   "cell_type": "code",
   "execution_count": null,
   "id": "c0fff646",
   "metadata": {},
   "outputs": [],
   "source": [
    "df = initDF()\n",
    "#actor_graph_dict = df.groupby('movie')['actor'].apply(list).to_dict()"
   ]
  },
  {
   "cell_type": "code",
   "execution_count": 3,
   "id": "bd45386a",
   "metadata": {},
   "outputs": [],
   "source": []
  },
  {
   "cell_type": "code",
   "execution_count": 4,
   "id": "5964fa77",
   "metadata": {},
   "outputs": [],
   "source": [
    "actors = df.actor.unique()\n",
    "actor_graph = nx.Graph()\n",
    "actor_graph.add_nodes_from(actors)"
   ]
  },
  {
   "cell_type": "code",
   "execution_count": null,
   "id": "8ca6fa67",
   "metadata": {},
   "outputs": [],
   "source": []
  },
  {
   "cell_type": "code",
   "execution_count": 18,
   "id": "e8e840ed",
   "metadata": {},
   "outputs": [],
   "source": [
    "def constructGraphAndFindMaxCollaborationGivenActorsGraph(imdb_df_f):\n",
    "    '''\n",
    "    Given IMDB dataset creates actor graph (weighted) and calculates the maximum number of collaborations\n",
    "    Arguments:\n",
    "        imdb_df_f: pandas dataframe of columns (actor, movie) \n",
    "    Returns:\n",
    "        actor_graph: actor graph constructed\n",
    "        mass: the maximum number of collaboration found\n",
    "        sol: tuple of the two actors that collaborated the most\n",
    "    '''\n",
    "    actor_graph_dict = imdb_df_f.groupby('movie')['actor'].apply(list).to_dict()\n",
    "    mass = 0\n",
    "    sol = (None, None)\n",
    "    i = 0\n",
    "    for movie in tqdm(actor_graph_dict):\n",
    "        current_actors_list = actor_graph_dict[movie]\n",
    "        if i == 3:\n",
    "            break\n",
    "        i+=1\n",
    "        for i in range(len(current_actors_list)):\n",
    "            for j in range(i+1, len(current_actors_list)):\n",
    "                if current_actors_list[i] != current_actors_list[j]: \n",
    "                    if not actor_graph.has_edge(current_actors_list[i], current_actors_list[j]):\n",
    "                        actor_graph.add_edge(current_actors_list[i], current_actors_list[j], weight=1)\n",
    "                    else:\n",
    "                        actor_graph[current_actors_list[i]][current_actors_list[j]]['weight'] += 1\n",
    "                        if actor_graph[current_actors_list[i]][current_actors_list[j]]['weight'] > mass:\n",
    "                            mass = actor_graph[current_actors_list[i]][current_actors_list[j]]['weight']\n",
    "                            sol = (current_actors_list[i], current_actors_list[j])\n",
    "    return (actor_graph, mass, sol)\n",
    "actor_graph, maximum, solution = constructGraphAndFindMaxCollaborationGivenActorsGraph(df)"
   ]
  },
  {
   "cell_type": "code",
   "execution_count": 5,
   "id": "06779fe4",
   "metadata": {},
   "outputs": [
    {
     "data": {
      "application/vnd.jupyter.widget-view+json": {
       "model_id": "b55aec1aefa84263bae3e5603582f18e",
       "version_major": 2,
       "version_minor": 0
      },
      "text/plain": [
       "  0%|          | 0/745941 [00:00<?, ?it/s]"
      ]
     },
     "metadata": {},
     "output_type": "display_data"
    },
    {
     "name": "stdout",
     "output_type": "stream",
     "text": [
      "Current max: 2, ('Duffy, Joe (II)', 'MacCarthy-Morrogh, James')\n",
      "Current max: 3, ('Boreanaz, David', 'Hallett, Andy')\n",
      "Current max: 4, ('Boreanaz, David', 'Manners, Kelly A.')\n",
      "Current max: 5, ('Boreanaz, David', 'Richards, J. August')\n",
      "Current max: 6, ('Brendon, Nicholas', 'Marsters, James')\n",
      "Current max: 7, ('Brendon, Nicholas', 'Marsters, James')\n",
      "Current max: 8, ('Bass, Lance', 'Chasez, J.C.')\n",
      "Current max: 9, ('Bass, Lance', 'Chasez, J.C.')\n",
      "Current max: 10, ('Tedeschi, Tony', 'Valentino (III)')\n",
      "Current max: 11, ('Tedeschi, Tony', 'Valentino (III)')\n",
      "Current max: 12, ('Tedeschi, Tony', 'Valentino (III)')\n",
      "Current max: 13, ('Tedeschi, Tony', 'Valentino (III)')\n",
      "Current max: 14, ('Hefner, Hugh M.', 'Lee, Christopher (I)')\n",
      "Current max: 15, ('Hefner, Hugh M.', 'Lee, Christopher (I)')\n",
      "Current max: 16, ('Hefner, Hugh M.', 'Lee, Christopher (I)')\n",
      "Current max: 17, ('Hefner, Hugh M.', 'Lee, Christopher (I)')\n",
      "Current max: 18, ('Hefner, Hugh M.', 'Lee, Christopher (I)')\n",
      "Current max: 19, ('Hefner, Hugh M.', 'Lee, Christopher (I)')\n",
      "Current max: 20, ('Hefner, Hugh M.', 'Lee, Christopher (I)')\n",
      "Current max: 21, ('Enberg, Dick', 'Olsen, Merlin')\n",
      "Current max: 22, ('Fontana, Rod', 'Tedeschi, Tony')\n",
      "Current max: 23, ('Fontana, Rod', 'Tedeschi, Tony')\n",
      "Current max: 24, ('Margrethe II', 'Queen Anne-Marie')\n",
      "Current max: 25, ('Margrethe II', 'Queen Anne-Marie')\n",
      "Current max: 26, ('Margrethe II', 'Queen Anne-Marie')\n",
      "Current max: 27, ('Margrethe II', 'Queen Anne-Marie')\n",
      "Current max: 28, ('Margrethe II', 'Queen Anne-Marie')\n",
      "Current max: 29, ('Margrethe II', 'Queen Anne-Marie')\n",
      "Current max: 30, ('Margrethe II', 'Queen Anne-Marie')\n",
      "Current max: 31, ('Margrethe II', 'Queen Anne-Marie')\n",
      "Current max: 32, ('Margrethe II', 'Queen Anne-Marie')\n",
      "Current max: 33, ('Margrethe II', 'Queen Anne-Marie')\n",
      "Current max: 34, ('Lyons, Eddie (I)', 'Moran, Lee (I)')\n",
      "Current max: 35, ('Lyons, Eddie (I)', 'Moran, Lee (I)')\n",
      "Current max: 36, ('Lyons, Eddie (I)', 'Moran, Lee (I)')\n",
      "Current max: 37, ('Lyons, Eddie (I)', 'Moran, Lee (I)')\n",
      "Current max: 38, ('Byron, Tom (I)', 'Wallice, Marc')\n",
      "Current max: 39, ('Byron, Tom (I)', 'Wallice, Marc')\n",
      "Current max: 40, ('Byron, Tom (I)', 'Wallice, Marc')\n",
      "Current max: 41, ('Byron, Tom (I)', 'Wallice, Marc')\n",
      "Current max: 42, ('Byron, Tom (I)', 'Wallice, Marc')\n",
      "Current max: 43, ('Byron, Tom (I)', 'Wallice, Marc')\n",
      "Current max: 44, ('Byron, Tom (I)', 'Wallice, Marc')\n",
      "Current max: 45, ('Byron, Tom (I)', 'Wallice, Marc')\n",
      "Current max: 46, ('Byron, Tom (I)', 'Wallice, Marc')\n",
      "Current max: 47, ('Byron, Tom (I)', 'Wallice, Marc')\n",
      "Current max: 48, ('Byron, Tom (I)', 'Wallice, Marc')\n",
      "Current max: 49, ('Byron, Tom (I)', 'Wallice, Marc')\n",
      "Current max: 50, ('Byron, Tom (I)', 'Wallice, Marc')\n",
      "Current max: 51, ('Byron, Tom (I)', 'Wallice, Marc')\n",
      "Current max: 52, ('Byron, Tom (I)', 'Wallice, Marc')\n",
      "Current max: 53, ('Byron, Tom (I)', 'Wallice, Marc')\n",
      "Current max: 54, ('Boy, T.T.', 'Byron, Tom (I)')\n",
      "Current max: 55, ('Byron, Tom (I)', 'Wallice, Marc')\n",
      "Current max: 56, ('Byron, Tom (I)', 'Wallice, Marc')\n",
      "Current max: 57, ('Byron, Tom (I)', 'Wallice, Marc')\n",
      "Current max: 58, ('Byron, Tom (I)', 'Wallice, Marc')\n",
      "Current max: 59, ('Byron, Tom (I)', 'Wallice, Marc')\n",
      "Current max: 60, ('Byron, Tom (I)', 'Wallice, Marc')\n",
      "Current max: 61, ('Byron, Tom (I)', 'Wallice, Marc')\n",
      "Current max: 62, ('Byron, Tom (I)', 'Wallice, Marc')\n",
      "Current max: 63, ('Byron, Tom (I)', 'Wallice, Marc')\n",
      "Current max: 64, ('Byron, Tom (I)', 'Wallice, Marc')\n",
      "Current max: 65, ('Byron, Tom (I)', 'Wallice, Marc')\n",
      "Current max: 66, ('Byron, Tom (I)', 'Wallice, Marc')\n",
      "Current max: 67, ('Byron, Tom (I)', 'Wallice, Marc')\n",
      "Current max: 68, ('Byron, Tom (I)', 'Wallice, Marc')\n",
      "Current max: 69, ('Byron, Tom (I)', 'Wallice, Marc')\n",
      "Current max: 70, ('Byron, Tom (I)', 'Wallice, Marc')\n",
      "Current max: 71, ('Byron, Tom (I)', 'Wallice, Marc')\n",
      "Current max: 72, ('Byron, Tom (I)', 'Wallice, Marc')\n",
      "Current max: 73, ('Byron, Tom (I)', 'Wallice, Marc')\n",
      "Current max: 74, ('Byron, Tom (I)', 'Wallice, Marc')\n",
      "Current max: 75, ('Byron, Tom (I)', 'Wallice, Marc')\n",
      "Current max: 76, ('Byron, Tom (I)', 'Wallice, Marc')\n",
      "Current max: 77, ('Byron, Tom (I)', 'Wallice, Marc')\n",
      "Current max: 78, ('Byron, Tom (I)', 'Wallice, Marc')\n",
      "Current max: 79, ('Byron, Tom (I)', 'Wallice, Marc')\n",
      "Current max: 80, ('Byron, Tom (I)', 'Wallice, Marc')\n",
      "Current max: 81, ('Byron, Tom (I)', 'Wallice, Marc')\n",
      "Current max: 82, ('Byron, Tom (I)', 'Wallice, Marc')\n",
      "Current max: 83, ('Byron, Tom (I)', 'Wallice, Marc')\n",
      "Current max: 84, ('Byron, Tom (I)', 'Wallice, Marc')\n",
      "Current max: 85, ('Byron, Tom (I)', 'Wallice, Marc')\n",
      "Current max: 86, ('Byron, Tom (I)', 'Wallice, Marc')\n",
      "Current max: 87, ('Byron, Tom (I)', 'Wallice, Marc')\n",
      "Current max: 88, ('Byron, Tom (I)', 'Wallice, Marc')\n",
      "Current max: 89, ('Byron, Tom (I)', 'Wallice, Marc')\n",
      "Current max: 90, ('Byron, Tom (I)', 'Wallice, Marc')\n",
      "Current max: 91, ('Byron, Tom (I)', 'Wallice, Marc')\n",
      "Current max: 92, ('Byron, Tom (I)', 'Wallice, Marc')\n",
      "Current max: 93, ('Byron, Tom (I)', 'Wallice, Marc')\n",
      "Current max: 94, ('Byron, Tom (I)', 'Wallice, Marc')\n",
      "Current max: 95, ('Byron, Tom (I)', 'Wallice, Marc')\n",
      "Current max: 96, ('Byron, Tom (I)', 'Wallice, Marc')\n",
      "Current max: 97, ('Byron, Tom (I)', 'Wallice, Marc')\n",
      "Current max: 98, ('Byron, Tom (I)', 'Wallice, Marc')\n",
      "Current max: 99, ('Byron, Tom (I)', 'Wallice, Marc')\n",
      "Current max: 100, ('Byron, Tom (I)', 'Wallice, Marc')\n",
      "Current max: 101, ('Byron, Tom (I)', 'Wallice, Marc')\n",
      "Current max: 102, ('Byron, Tom (I)', 'Wallice, Marc')\n",
      "Current max: 103, ('Byron, Tom (I)', 'Wallice, Marc')\n",
      "Current max: 104, ('Byron, Tom (I)', 'Wallice, Marc')\n",
      "Current max: 105, ('Byron, Tom (I)', 'Wallice, Marc')\n",
      "Current max: 106, ('Byron, Tom (I)', 'Wallice, Marc')\n",
      "Current max: 107, ('Byron, Tom (I)', 'Wallice, Marc')\n",
      "Current max: 108, ('Byron, Tom (I)', 'Wallice, Marc')\n",
      "Current max: 109, ('Byron, Tom (I)', 'Wallice, Marc')\n",
      "Current max: 110, ('Byron, Tom (I)', 'Wallice, Marc')\n",
      "Current max: 111, ('Byron, Tom (I)', 'Wallice, Marc')\n",
      "Current max: 112, ('Byron, Tom (I)', 'Wallice, Marc')\n",
      "Current max: 113, ('Byron, Tom (I)', 'Wallice, Marc')\n",
      "Current max: 114, ('Byron, Tom (I)', 'Wallice, Marc')\n",
      "Current max: 115, ('Byron, Tom (I)', 'Wallice, Marc')\n",
      "Current max: 116, ('Byron, Tom (I)', 'Wallice, Marc')\n",
      "Current max: 117, ('Byron, Tom (I)', 'Wallice, Marc')\n",
      "Current max: 118, ('Byron, Tom (I)', 'Wallice, Marc')\n",
      "Current max: 119, ('Byron, Tom (I)', 'Wallice, Marc')\n",
      "Current max: 120, ('Byron, Tom (I)', 'Wallice, Marc')\n",
      "Current max: 121, ('Byron, Tom (I)', 'Wallice, Marc')\n",
      "Current max: 122, ('Byron, Tom (I)', 'Wallice, Marc')\n",
      "Current max: 123, ('Byron, Tom (I)', 'Wallice, Marc')\n",
      "Current max: 124, ('Byron, Tom (I)', 'Wallice, Marc')\n",
      "Current max: 125, ('Byron, Tom (I)', 'Wallice, Marc')\n",
      "Current max: 126, ('Byron, Tom (I)', 'Wallice, Marc')\n",
      "Current max: 127, ('Byron, Tom (I)', 'Wallice, Marc')\n",
      "Current max: 128, ('Byron, Tom (I)', 'Wallice, Marc')\n",
      "Current max: 129, ('Byron, Tom (I)', 'Wallice, Marc')\n",
      "Current max: 130, ('Byron, Tom (I)', 'Wallice, Marc')\n",
      "Current max: 131, ('Byron, Tom (I)', 'Wallice, Marc')\n",
      "Current max: 132, ('Byron, Tom (I)', 'Wallice, Marc')\n",
      "Current max: 133, ('Byron, Tom (I)', 'Wallice, Marc')\n",
      "Current max: 134, ('Byron, Tom (I)', 'Wallice, Marc')\n",
      "Current max: 135, ('Byron, Tom (I)', 'Wallice, Marc')\n",
      "Current max: 136, ('Pete, Mr.', 'Wood, Mark (IV)')\n",
      "Current max: 137, ('Pete, Mr.', 'Wood, Mark (IV)')\n",
      "Current max: 138, ('Pete, Mr.', 'Wood, Mark (IV)')\n",
      "Current max: 139, ('Pete, Mr.', 'Wood, Mark (IV)')\n",
      "Current max: 140, ('Byron, Tom (I)', 'Wallice, Marc')\n",
      "Current max: 141, ('Byron, Tom (I)', 'Wallice, Marc')\n",
      "Current max: 142, ('Byron, Tom (I)', 'Wallice, Marc')\n",
      "Current max: 143, ('Byron, Tom (I)', 'Wallice, Marc')\n",
      "Current max: 144, ('Byron, Tom (I)', 'Wallice, Marc')\n",
      "Current max: 145, ('Byron, Tom (I)', 'Wallice, Marc')\n",
      "Current max: 146, ('Byron, Tom (I)', 'Wallice, Marc')\n",
      "Current max: 147, ('Byron, Tom (I)', 'Wallice, Marc')\n",
      "Current max: 148, ('Byron, Tom (I)', 'Wallice, Marc')\n",
      "Current max: 149, ('Byron, Tom (I)', 'Wallice, Marc')\n",
      "Current max: 150, ('Byron, Tom (I)', 'Wallice, Marc')\n",
      "Current max: 151, ('Byron, Tom (I)', 'Wallice, Marc')\n",
      "Current max: 152, ('Byron, Tom (I)', 'Wallice, Marc')\n",
      "Current max: 153, ('Byron, Tom (I)', 'Wallice, Marc')\n"
     ]
    },
    {
     "name": "stdout",
     "output_type": "stream",
     "text": [
      "Current max: 154, ('Byron, Tom (I)', 'Wallice, Marc')\n",
      "Current max: 155, ('Byron, Tom (I)', 'Wallice, Marc')\n",
      "Current max: 156, ('Byron, Tom (I)', 'Wallice, Marc')\n",
      "Current max: 157, ('Byron, Tom (I)', 'Wallice, Marc')\n",
      "Current max: 158, ('Byron, Tom (I)', 'Wallice, Marc')\n",
      "Current max: 159, ('Byron, Tom (I)', 'Wallice, Marc')\n",
      "Current max: 160, ('Byron, Tom (I)', 'Wallice, Marc')\n",
      "Current max: 161, ('Byron, Tom (I)', 'Wallice, Marc')\n",
      "Current max: 162, ('Byron, Tom (I)', 'Wallice, Marc')\n",
      "Current max: 163, ('Byron, Tom (I)', 'Wallice, Marc')\n",
      "Current max: 164, ('Byron, Tom (I)', 'Wallice, Marc')\n",
      "Current max: 165, ('Byron, Tom (I)', 'Wallice, Marc')\n",
      "Current max: 166, ('Byron, Tom (I)', 'Wallice, Marc')\n",
      "Current max: 167, ('Byron, Tom (I)', 'Wallice, Marc')\n",
      "Current max: 168, ('Byron, Tom (I)', 'Wallice, Marc')\n",
      "Current max: 169, ('Byron, Tom (I)', 'Wallice, Marc')\n",
      "Current max: 170, ('Byron, Tom (I)', 'Wallice, Marc')\n",
      "Current max: 171, ('Byron, Tom (I)', 'Wallice, Marc')\n",
      "Current max: 172, ('Byron, Tom (I)', 'Wallice, Marc')\n",
      "Current max: 173, ('Byron, Tom (I)', 'Wallice, Marc')\n",
      "Current max: 174, ('Byron, Tom (I)', 'Wallice, Marc')\n",
      "Current max: 175, ('Byron, Tom (I)', 'Wallice, Marc')\n",
      "Current max: 176, ('Byron, Tom (I)', 'Wallice, Marc')\n",
      "Current max: 177, ('Byron, Tom (I)', 'Wallice, Marc')\n",
      "Current max: 178, ('Byron, Tom (I)', 'Wallice, Marc')\n",
      "Current max: 179, ('Byron, Tom (I)', 'Wallice, Marc')\n",
      "Current max: 180, ('Byron, Tom (I)', 'Wallice, Marc')\n",
      "Current max: 181, ('Byron, Tom (I)', 'Wallice, Marc')\n",
      "Current max: 182, ('Byron, Tom (I)', 'Wallice, Marc')\n",
      "Current max: 183, ('Byron, Tom (I)', 'Wallice, Marc')\n",
      "Current max: 184, ('Byron, Tom (I)', 'Wallice, Marc')\n",
      "Current max: 185, ('Byron, Tom (I)', 'Wallice, Marc')\n",
      "Current max: 186, ('Byron, Tom (I)', 'Wallice, Marc')\n",
      "Current max: 187, ('Byron, Tom (I)', 'Wallice, Marc')\n",
      "Current max: 188, ('Byron, Tom (I)', 'Wallice, Marc')\n",
      "Current max: 189, ('Byron, Tom (I)', 'Wallice, Marc')\n",
      "Current max: 190, ('Byron, Tom (I)', 'Wallice, Marc')\n",
      "Current max: 191, ('Byron, Tom (I)', 'Wallice, Marc')\n",
      "Current max: 192, ('Byron, Tom (I)', 'Wallice, Marc')\n",
      "Current max: 193, ('Byron, Tom (I)', 'Wallice, Marc')\n",
      "Current max: 194, ('Byron, Tom (I)', 'Wallice, Marc')\n",
      "Current max: 195, ('Byron, Tom (I)', 'Wallice, Marc')\n",
      "Current max: 196, ('Byron, Tom (I)', 'Wallice, Marc')\n",
      "Current max: 197, ('Byron, Tom (I)', 'Wallice, Marc')\n",
      "Current max: 198, ('Byron, Tom (I)', 'Wallice, Marc')\n",
      "Current max: 199, ('Byron, Tom (I)', 'Wallice, Marc')\n",
      "Current max: 200, ('Byron, Tom (I)', 'Wallice, Marc')\n",
      "Current max: 201, ('Byron, Tom (I)', 'Wallice, Marc')\n",
      "Current max: 202, ('Byron, Tom (I)', 'Wallice, Marc')\n",
      "Current max: 203, ('Byron, Tom (I)', 'Wallice, Marc')\n",
      "Current max: 204, ('Byron, Tom (I)', 'Wallice, Marc')\n",
      "Current max: 205, ('Byron, Tom (I)', 'Wallice, Marc')\n",
      "Current max: 206, ('Byron, Tom (I)', 'Wallice, Marc')\n",
      "Current max: 207, ('Byron, Tom (I)', 'Wallice, Marc')\n",
      "Current max: 208, ('Byron, Tom (I)', 'Wallice, Marc')\n",
      "Current max: 209, ('Byron, Tom (I)', 'Wallice, Marc')\n",
      "Current max: 210, ('Byron, Tom (I)', 'Wallice, Marc')\n",
      "Current max: 211, ('Byron, Tom (I)', 'Wallice, Marc')\n",
      "Current max: 212, ('Byron, Tom (I)', 'Wallice, Marc')\n",
      "Current max: 213, ('Byron, Tom (I)', 'Wallice, Marc')\n",
      "Current max: 214, ('Byron, Tom (I)', 'Wallice, Marc')\n",
      "Current max: 215, ('Byron, Tom (I)', 'Wallice, Marc')\n",
      "Current max: 216, ('Byron, Tom (I)', 'Wallice, Marc')\n",
      "Current max: 217, ('Byron, Tom (I)', 'Wallice, Marc')\n",
      "Current max: 218, ('Byron, Tom (I)', 'Wallice, Marc')\n",
      "Current max: 219, ('Byron, Tom (I)', 'Wallice, Marc')\n",
      "Current max: 220, ('Byron, Tom (I)', 'Wallice, Marc')\n",
      "Current max: 221, ('Byron, Tom (I)', 'Wallice, Marc')\n",
      "Current max: 222, ('Byron, Tom (I)', 'Wallice, Marc')\n",
      "Current max: 223, ('Byron, Tom (I)', 'Wallice, Marc')\n",
      "Current max: 224, ('Byron, Tom (I)', 'Wallice, Marc')\n",
      "Current max: 225, ('Byron, Tom (I)', 'Wallice, Marc')\n",
      "Current max: 226, ('Byron, Tom (I)', 'Wallice, Marc')\n",
      "Current max: 227, ('Byron, Tom (I)', 'Wallice, Marc')\n",
      "Current max: 228, ('Byron, Tom (I)', 'Wallice, Marc')\n",
      "Current max: 229, ('Byron, Tom (I)', 'Wallice, Marc')\n",
      "Current max: 230, ('Byron, Tom (I)', 'Wallice, Marc')\n",
      "Current max: 231, ('Byron, Tom (I)', 'Wallice, Marc')\n",
      "Current max: 232, ('Byron, Tom (I)', 'Wallice, Marc')\n",
      "Current max: 233, ('Byron, Tom (I)', 'Wallice, Marc')\n",
      "Current max: 234, ('Byron, Tom (I)', 'Wallice, Marc')\n",
      "Current max: 235, ('Strong, John (I)', 'Wood, Mark (IV)')\n",
      "Current max: 236, ('Strong, John (I)', 'Wood, Mark (IV)')\n",
      "Current max: 237, ('Strong, John (I)', 'Wood, Mark (IV)')\n",
      "Current max: 238, ('Strong, John (I)', 'Wood, Mark (IV)')\n",
      "Current max: 239, ('Strong, John (I)', 'Wood, Mark (IV)')\n",
      "Current max: 240, ('Strong, John (I)', 'Wood, Mark (IV)')\n",
      "Current max: 241, ('Strong, John (I)', 'Wood, Mark (IV)')\n",
      "Current max: 242, ('Strong, John (I)', 'Wood, Mark (IV)')\n",
      "Current max: 243, ('Strong, John (I)', 'Wood, Mark (IV)')\n",
      "Current max: 244, ('Strong, John (I)', 'Wood, Mark (IV)')\n",
      "Current max: 245, ('Strong, John (I)', 'Wood, Mark (IV)')\n",
      "Current max: 246, ('Strong, John (I)', 'Wood, Mark (IV)')\n",
      "Current max: 247, ('Pete, Mr.', 'Wood, Mark (IV)')\n",
      "Current max: 248, ('Pete, Mr.', 'Wood, Mark (IV)')\n",
      "Current max: 249, ('Pete, Mr.', 'Wood, Mark (IV)')\n",
      "Current max: 250, ('Pete, Mr.', 'Wood, Mark (IV)')\n",
      "Current max: 251, ('Pete, Mr.', 'Wood, Mark (IV)')\n",
      "Current max: 252, ('Pete, Mr.', 'Wood, Mark (IV)')\n",
      "Current max: 253, ('Byron, Tom (I)', 'North, Peter (I)')\n",
      "Current max: 254, ('Byron, Tom (I)', 'North, Peter (I)')\n",
      "Current max: 255, ('Byron, Tom (I)', 'North, Peter (I)')\n",
      "Current max: 256, ('Byron, Tom (I)', 'North, Peter (I)')\n",
      "Current max: 257, ('Byron, Tom (I)', 'North, Peter (I)')\n",
      "Current max: 258, ('Pete, Mr.', 'Wood, Mark (IV)')\n",
      "Current max: 259, ('Byron, Tom (I)', 'Wallice, Marc')\n",
      "Current max: 260, ('Byron, Tom (I)', 'North, Peter (I)')\n",
      "Current max: 261, ('Byron, Tom (I)', 'Wallice, Marc')\n",
      "Current max: 262, ('Byron, Tom (I)', 'Wallice, Marc')\n",
      "Current max: 263, ('Byron, Tom (I)', 'Wallice, Marc')\n",
      "Current max: 264, ('Byron, Tom (I)', 'Wallice, Marc')\n",
      "Current max: 265, ('Byron, Tom (I)', 'Wallice, Marc')\n",
      "Current max: 266, ('Byron, Tom (I)', 'Wallice, Marc')\n",
      "Current max: 267, ('Byron, Tom (I)', 'North, Peter (I)')\n",
      "Current max: 268, ('Byron, Tom (I)', 'Wallice, Marc')\n",
      "Current max: 269, ('Byron, Tom (I)', 'Wallice, Marc')\n",
      "Current max: 270, ('Byron, Tom (I)', 'Wallice, Marc')\n",
      "Current max: 271, ('Byron, Tom (I)', 'North, Peter (I)')\n",
      "Current max: 272, ('Byron, Tom (I)', 'North, Peter (I)')\n",
      "Current max: 273, ('Byron, Tom (I)', 'North, Peter (I)')\n",
      "Current max: 274, ('Byron, Tom (I)', 'North, Peter (I)')\n",
      "Current max: 275, ('Byron, Tom (I)', 'North, Peter (I)')\n",
      "Current max: 276, ('Byron, Tom (I)', 'North, Peter (I)')\n",
      "Current max: 277, ('Byron, Tom (I)', 'North, Peter (I)')\n",
      "Current max: 278, ('Byron, Tom (I)', 'North, Peter (I)')\n",
      "Current max: 279, ('Byron, Tom (I)', 'North, Peter (I)')\n",
      "Current max: 280, ('Byron, Tom (I)', 'North, Peter (I)')\n",
      "Current max: 281, ('Byron, Tom (I)', 'North, Peter (I)')\n",
      "Current max: 282, ('Byron, Tom (I)', 'North, Peter (I)')\n",
      "Current max: 283, ('Byron, Tom (I)', 'North, Peter (I)')\n",
      "Current max: 284, ('Byron, Tom (I)', 'North, Peter (I)')\n",
      "Current max: 285, ('Byron, Tom (I)', 'North, Peter (I)')\n",
      "Current max: 286, ('Byron, Tom (I)', 'North, Peter (I)')\n",
      "Current max: 287, ('Byron, Tom (I)', 'North, Peter (I)')\n",
      "Current max: 288, ('Byron, Tom (I)', 'North, Peter (I)')\n",
      "Current max: 289, ('Byron, Tom (I)', 'North, Peter (I)')\n",
      "Current max: 290, ('Byron, Tom (I)', 'North, Peter (I)')\n",
      "Current max: 291, ('Byron, Tom (I)', 'North, Peter (I)')\n",
      "Current max: 292, ('Byron, Tom (I)', 'North, Peter (I)')\n",
      "Current max: 293, ('Byron, Tom (I)', 'North, Peter (I)')\n",
      "Current max: 294, ('Byron, Tom (I)', 'North, Peter (I)')\n",
      "Current max: 295, ('Byron, Tom (I)', 'North, Peter (I)')\n",
      "Current max: 296, ('Byron, Tom (I)', 'North, Peter (I)')\n",
      "Current max: 297, ('Byron, Tom (I)', 'North, Peter (I)')\n",
      "Current max: 298, ('Byron, Tom (I)', 'North, Peter (I)')\n",
      "Current max: 299, ('Byron, Tom (I)', 'North, Peter (I)')\n",
      "Current max: 300, ('Byron, Tom (I)', 'North, Peter (I)')\n",
      "Current max: 301, ('Byron, Tom (I)', 'North, Peter (I)')\n",
      "Current max: 302, ('Byron, Tom (I)', 'North, Peter (I)')\n",
      "Current max: 303, ('Byron, Tom (I)', 'North, Peter (I)')\n",
      "Current max: 304, ('Byron, Tom (I)', 'North, Peter (I)')\n",
      "Current max: 305, ('Byron, Tom (I)', 'North, Peter (I)')\n"
     ]
    },
    {
     "name": "stdout",
     "output_type": "stream",
     "text": [
      "Current max: 306, ('Byron, Tom (I)', 'North, Peter (I)')\n",
      "Current max: 307, ('Byron, Tom (I)', 'North, Peter (I)')\n",
      "Current max: 308, ('Byron, Tom (I)', 'North, Peter (I)')\n",
      "Current max: 309, ('Byron, Tom (I)', 'North, Peter (I)')\n",
      "Current max: 310, ('Byron, Tom (I)', 'North, Peter (I)')\n",
      "Current max: 311, ('Byron, Tom (I)', 'North, Peter (I)')\n",
      "Current max: 312, ('Byron, Tom (I)', 'North, Peter (I)')\n",
      "Current max: 313, ('Byron, Tom (I)', 'North, Peter (I)')\n",
      "Current max: 314, ('Byron, Tom (I)', 'North, Peter (I)')\n",
      "Current max: 315, ('Byron, Tom (I)', 'North, Peter (I)')\n",
      "Current max: 316, ('Byron, Tom (I)', 'North, Peter (I)')\n",
      "Current max: 317, ('Byron, Tom (I)', 'North, Peter (I)')\n",
      "Current max: 318, ('Byron, Tom (I)', 'North, Peter (I)')\n",
      "Current max: 319, ('Byron, Tom (I)', 'Wallice, Marc')\n",
      "Current max: 320, ('Byron, Tom (I)', 'North, Peter (I)')\n",
      "Current max: 321, ('Byron, Tom (I)', 'North, Peter (I)')\n",
      "Current max: 322, ('Byron, Tom (I)', 'North, Peter (I)')\n",
      "Current max: 323, ('Byron, Tom (I)', 'North, Peter (I)')\n",
      "Current max: 324, ('Byron, Tom (I)', 'North, Peter (I)')\n",
      "Current max: 325, ('Byron, Tom (I)', 'North, Peter (I)')\n",
      "Current max: 326, ('Byron, Tom (I)', 'North, Peter (I)')\n",
      "Current max: 327, ('Byron, Tom (I)', 'North, Peter (I)')\n",
      "Current max: 328, ('Byron, Tom (I)', 'North, Peter (I)')\n",
      "Current max: 329, ('Byron, Tom (I)', 'North, Peter (I)')\n",
      "Current max: 330, ('Byron, Tom (I)', 'North, Peter (I)')\n",
      "Current max: 331, ('Byron, Tom (I)', 'North, Peter (I)')\n",
      "Current max: 332, ('Byron, Tom (I)', 'North, Peter (I)')\n",
      "Current max: 333, ('Byron, Tom (I)', 'North, Peter (I)')\n",
      "Current max: 334, ('Byron, Tom (I)', 'North, Peter (I)')\n",
      "Current max: 335, ('Byron, Tom (I)', 'North, Peter (I)')\n",
      "Current max: 336, ('Byron, Tom (I)', 'North, Peter (I)')\n",
      "Current max: 337, ('Byron, Tom (I)', 'North, Peter (I)')\n",
      "Current max: 338, ('Byron, Tom (I)', 'North, Peter (I)')\n",
      "Current max: 339, ('Byron, Tom (I)', 'North, Peter (I)')\n",
      "Current max: 340, ('Byron, Tom (I)', 'North, Peter (I)')\n",
      "Current max: 341, ('Byron, Tom (I)', 'North, Peter (I)')\n",
      "Current max: 342, ('Byron, Tom (I)', 'North, Peter (I)')\n",
      "Current max: 343, ('Byron, Tom (I)', 'North, Peter (I)')\n",
      "Current max: 344, ('Byron, Tom (I)', 'North, Peter (I)')\n",
      "Current max: 345, ('Byron, Tom (I)', 'North, Peter (I)')\n",
      "Current max: 346, ('Byron, Tom (I)', 'North, Peter (I)')\n",
      "Current max: 347, ('Byron, Tom (I)', 'North, Peter (I)')\n",
      "Current max: 348, ('Byron, Tom (I)', 'North, Peter (I)')\n",
      "Current max: 349, ('Byron, Tom (I)', 'North, Peter (I)')\n",
      "Current max: 350, ('Byron, Tom (I)', 'North, Peter (I)')\n",
      "Current max: 351, ('Byron, Tom (I)', 'North, Peter (I)')\n",
      "Current max: 352, ('Byron, Tom (I)', 'North, Peter (I)')\n",
      "Current max: 353, ('Byron, Tom (I)', 'North, Peter (I)')\n",
      "Current max: 354, ('Byron, Tom (I)', 'North, Peter (I)')\n",
      "Current max: 355, ('Byron, Tom (I)', 'North, Peter (I)')\n",
      "Current max: 356, ('Byron, Tom (I)', 'North, Peter (I)')\n",
      "Current max: 357, ('Byron, Tom (I)', 'North, Peter (I)')\n",
      "Current max: 358, ('Byron, Tom (I)', 'North, Peter (I)')\n",
      "Current max: 359, ('Byron, Tom (I)', 'North, Peter (I)')\n",
      "Current max: 360, ('Byron, Tom (I)', 'North, Peter (I)')\n",
      "Current max: 361, ('Byron, Tom (I)', 'North, Peter (I)')\n",
      "Current max: 362, ('Byron, Tom (I)', 'North, Peter (I)')\n",
      "Current max: 363, ('Byron, Tom (I)', 'North, Peter (I)')\n",
      "Current max: 364, ('Byron, Tom (I)', 'North, Peter (I)')\n",
      "Current max: 365, ('Byron, Tom (I)', 'North, Peter (I)')\n",
      "Current max: 366, ('Byron, Tom (I)', 'North, Peter (I)')\n",
      "Current max: 367, ('Byron, Tom (I)', 'North, Peter (I)')\n",
      "Current max: 368, ('Byron, Tom (I)', 'North, Peter (I)')\n",
      "Current max: 369, ('Byron, Tom (I)', 'North, Peter (I)')\n",
      "Current max: 370, ('Byron, Tom (I)', 'North, Peter (I)')\n",
      "Current max: 371, ('Byron, Tom (I)', 'North, Peter (I)')\n",
      "Current max: 372, ('Byron, Tom (I)', 'North, Peter (I)')\n",
      "Current max: 373, ('Byron, Tom (I)', 'North, Peter (I)')\n",
      "Current max: 374, ('Byron, Tom (I)', 'North, Peter (I)')\n",
      "Current max: 375, ('Byron, Tom (I)', 'North, Peter (I)')\n",
      "Current max: 376, ('Byron, Tom (I)', 'North, Peter (I)')\n",
      "Current max: 377, ('Byron, Tom (I)', 'North, Peter (I)')\n",
      "Current max: 378, ('Byron, Tom (I)', 'North, Peter (I)')\n",
      "Current max: 379, ('Byron, Tom (I)', 'North, Peter (I)')\n",
      "Current max: 380, ('Byron, Tom (I)', 'North, Peter (I)')\n",
      "Current max: 381, ('Byron, Tom (I)', 'North, Peter (I)')\n",
      "Current max: 382, ('Byron, Tom (I)', 'North, Peter (I)')\n",
      "Current max: 383, ('Byron, Tom (I)', 'North, Peter (I)')\n",
      "Current max: 384, ('Byron, Tom (I)', 'North, Peter (I)')\n",
      "Current max: 385, ('Byron, Tom (I)', 'North, Peter (I)')\n",
      "Current max: 386, ('Byron, Tom (I)', 'North, Peter (I)')\n",
      "Current max: 387, ('Byron, Tom (I)', 'North, Peter (I)')\n",
      "Current max: 388, ('Byron, Tom (I)', 'Wallice, Marc')\n",
      "Current max: 389, ('Byron, Tom (I)', 'Wallice, Marc')\n",
      "Current max: 390, ('Byron, Tom (I)', 'Wallice, Marc')\n",
      "Current max: 391, ('Byron, Tom (I)', 'Wallice, Marc')\n",
      "Current max: 392, ('Byron, Tom (I)', 'North, Peter (I)')\n",
      "Current max: 393, ('Byron, Tom (I)', 'North, Peter (I)')\n",
      "Current max: 394, ('Byron, Tom (I)', 'North, Peter (I)')\n",
      "Current max: 395, ('Byron, Tom (I)', 'North, Peter (I)')\n",
      "Current max: 396, ('Byron, Tom (I)', 'North, Peter (I)')\n",
      "Current max: 397, ('Byron, Tom (I)', 'North, Peter (I)')\n",
      "Current max: 398, ('Byron, Tom (I)', 'North, Peter (I)')\n",
      "Current max: 399, ('Byron, Tom (I)', 'Wallice, Marc')\n",
      "Current max: 400, ('Byron, Tom (I)', 'North, Peter (I)')\n",
      "Current max: 401, ('Byron, Tom (I)', 'North, Peter (I)')\n",
      "Current max: 402, ('Byron, Tom (I)', 'North, Peter (I)')\n",
      "Current max: 403, ('Byron, Tom (I)', 'North, Peter (I)')\n",
      "Current max: 404, ('Byron, Tom (I)', 'North, Peter (I)')\n",
      "Current max: 405, ('Byron, Tom (I)', 'North, Peter (I)')\n",
      "Current max: 406, ('Byron, Tom (I)', 'North, Peter (I)')\n",
      "Current max: 407, ('Byron, Tom (I)', 'North, Peter (I)')\n",
      "Current max: 408, ('Byron, Tom (I)', 'North, Peter (I)')\n",
      "Current max: 409, ('Byron, Tom (I)', 'North, Peter (I)')\n",
      "Current max: 410, ('Byron, Tom (I)', 'North, Peter (I)')\n",
      "Current max: 411, ('Byron, Tom (I)', 'North, Peter (I)')\n",
      "Current max: 412, ('Byron, Tom (I)', 'North, Peter (I)')\n",
      "Current max: 413, ('Byron, Tom (I)', 'North, Peter (I)')\n",
      "Current max: 414, ('Byron, Tom (I)', 'North, Peter (I)')\n",
      "Current max: 415, ('Byron, Tom (I)', 'North, Peter (I)')\n",
      "Current max: 416, ('Byron, Tom (I)', 'North, Peter (I)')\n",
      "Current max: 417, ('Byron, Tom (I)', 'North, Peter (I)')\n",
      "Current max: 418, ('Byron, Tom (I)', 'North, Peter (I)')\n",
      "Current max: 419, ('Byron, Tom (I)', 'North, Peter (I)')\n",
      "Current max: 420, ('Byron, Tom (I)', 'North, Peter (I)')\n",
      "420\n"
     ]
    }
   ],
   "source": [
    "mass = 0\n",
    "sol = (None, None)\n",
    "histogram_dict = {1:0}\n",
    "for movie in tqdm(actor_graph_dict):\n",
    "    current_actors_list = actor_graph_dict[movie]\n",
    "    for i in range(len(current_actors_list)):\n",
    "        for j in range(i+1, len(current_actors_list)):\n",
    "            if current_actors_list[i] != current_actors_list[j]: #remove\n",
    "                if not actor_graph.has_edge(current_actors_list[i], current_actors_list[j]):\n",
    "                    actor_graph.add_edge(current_actors_list[i], current_actors_list[j], weight=1)\n",
    "                    #hist[1] += 1\n",
    "                else:\n",
    "                    actor_graph[current_actors_list[i]][current_actors_list[j]]['weight'] += 1\n",
    "                    if actor_graph[current_actors_list[i]][current_actors_list[j]]['weight'] > mass:\n",
    "                        mass = actor_graph[current_actors_list[i]][current_actors_list[j]]['weight']\n",
    "                        sol = (current_actors_list[i], current_actors_list[j])\n",
    "                        #print(f\"Current max: {mass}, {sol}\")\n",
    "print(mass)"
   ]
  },
  {
   "cell_type": "code",
   "execution_count": 6,
   "id": "7337b0ee",
   "metadata": {},
   "outputs": [
    {
     "name": "stdout",
     "output_type": "stream",
     "text": [
      "420 ('Byron, Tom (I)', 'North, Peter (I)')\n"
     ]
    }
   ],
   "source": [
    "print(mass, sol)\n",
    "import pickle \n",
    "with open('q4_graph.pickle', 'wb') as file:\n",
    "    pickle.dump(actor_graph, file, protocol=pickle.HIGHEST_PROTOCOL)"
   ]
  },
  {
   "cell_type": "code",
   "execution_count": 5,
   "id": "34486e42",
   "metadata": {},
   "outputs": [],
   "source": [
    "import pickle\n",
    "with open('q4_graph.pickle', 'rb') as file:\n",
    "    G = pickle.load(file)"
   ]
  },
  {
   "cell_type": "code",
   "execution_count": 8,
   "id": "501c488c",
   "metadata": {},
   "outputs": [
    {
     "data": {
      "image/png": "[encoded data removed]",
      "text/plain": [
       "<Figure size 576x432 with 1 Axes>"
      ]
     },
     "metadata": {
      "needs_background": "light"
     },
     "output_type": "display_data"
    }
   ],
   "source": [
    "#print(G)\n",
    "import matplotlib.pyplot as plt\n",
    "from matplotlib.pyplot import figure\n",
    "degree_hist = nx.degree_histogram(G)\n",
    "figure(figsize=(8, 6))\n",
    "x_len = 1883\n",
    "x = range(0,x_len)\n",
    "y = np.array(degree_hist[0:x_len])\n",
    "plt.title(\"Degree distribution for the IMDB actor graph\")\n",
    "plt.scatter(x, y, s=4)\n",
    "plt.yscale('log')\n",
    "plt.show()"
   ]
  },
  {
   "cell_type": "code",
   "execution_count": 51,
   "id": "91d46d1e",
   "metadata": {},
   "outputs": [
    {
     "name": "stdout",
     "output_type": "stream",
     "text": [
      "{'weight': 1}\n",
      "{'weight': 1}\n",
      "('$, Homo', 'Anttila, Lauri')\n"
     ]
    }
   ],
   "source": [
    "archi = actor_graph.edges(data=True)\n",
    "i = 0\n",
    "sol = (None, None)\n",
    "for arco in archi:\n",
    "    print(arco[2])\n",
    "    sol = (arco[0], arco[1])\n",
    "    if i == 1: \n",
    "        break\n",
    "    i+=1\n",
    "print(sol)"
   ]
  },
  {
   "cell_type": "code",
   "execution_count": 60,
   "id": "f2e0c47e",
   "metadata": {},
   "outputs": [
    {
     "name": "stdout",
     "output_type": "stream",
     "text": [
      "Iteration: 1000000\n",
      "Iteration: 2000000\n",
      "Iteration: 3000000\n",
      "Iteration: 4000000\n",
      "Iteration: 5000000\n",
      "Iteration: 6000000\n",
      "Iteration: 7000000\n",
      "Iteration: 8000000\n",
      "Iteration: 9000000\n",
      "Iteration: 10000000\n",
      "Iteration: 11000000\n",
      "Iteration: 12000000\n",
      "Iteration: 13000000\n",
      "Iteration: 14000000\n",
      "Iteration: 15000000\n",
      "Iteration: 16000000\n",
      "Iteration: 17000000\n",
      "Iteration: 18000000\n",
      "Iteration: 19000000\n",
      "Iteration: 20000000\n",
      "Iteration: 21000000\n",
      "Iteration: 22000000\n",
      "Iteration: 23000000\n",
      "Iteration: 24000000\n",
      "Iteration: 25000000\n",
      "Iteration: 26000000\n",
      "Iteration: 27000000\n",
      "Iteration: 28000000\n",
      "Iteration: 29000000\n",
      "Iteration: 30000000\n",
      "Iteration: 31000000\n",
      "Iteration: 32000000\n",
      "Iteration: 33000000\n",
      "Iteration: 34000000\n",
      "Iteration: 35000000\n",
      "Iteration: 36000000\n",
      "Iteration: 37000000\n",
      "Iteration: 38000000\n",
      "Iteration: 39000000\n",
      "Iteration: 40000000\n",
      "Iteration: 41000000\n",
      "Iteration: 42000000\n",
      "Iteration: 43000000\n",
      "Iteration: 44000000\n",
      "Iteration: 45000000\n",
      "Iteration: 46000000\n",
      "Iteration: 47000000\n",
      "Iteration: 48000000\n",
      "Iteration: 49000000\n",
      "Iteration: 50000000\n",
      "Iteration: 51000000\n",
      "Iteration: 52000000\n",
      "Iteration: 53000000\n",
      "Iteration: 54000000\n",
      "Iteration: 55000000\n",
      "Iteration: 56000000\n",
      "Iteration: 57000000\n",
      "Iteration: 58000000\n",
      "Iteration: 59000000\n",
      "Iteration: 60000000\n",
      "Iteration: 61000000\n",
      "Iteration: 62000000\n",
      "Iteration: 63000000\n",
      "Iteration: 64000000\n",
      "Iteration: 65000000\n",
      "Iteration: 66000000\n",
      "Iteration: 67000000\n",
      "Iteration: 68000000\n",
      "Iteration: 69000000\n",
      "Iteration: 70000000\n",
      "Iteration: 71000000\n",
      "Iteration: 72000000\n",
      "Iteration: 73000000\n",
      "Iteration: 74000000\n",
      "Iteration: 75000000\n",
      "Iteration: 76000000\n",
      "Iteration: 77000000\n",
      "Iteration: 78000000\n",
      "Iteration: 79000000\n",
      "Iteration: 80000000\n",
      "Iteration: 81000000\n",
      "Iteration: 82000000\n",
      "Iteration: 83000000\n",
      "Iteration: 84000000\n",
      "Iteration: 85000000\n",
      "Iteration: 86000000\n",
      "Iteration: 87000000\n",
      "Iteration: 88000000\n",
      "Iteration: 89000000\n",
      "Iteration: 90000000\n",
      "Iteration: 91000000\n",
      "Iteration: 92000000\n",
      "Iteration: 93000000\n",
      "Iteration: 94000000\n",
      "Iteration: 95000000\n",
      "Iteration: 96000000\n"
     ]
    }
   ],
   "source": [
    "def findMaxCollaborationGivenGraph(gr):\n",
    "    '''\n",
    "    Finds edge with max weight and returns the two nodes it connects. Also calculate the histogram of the weights. \n",
    "    Arguments: \n",
    "        gr: actor graph\n",
    "    Retruns: \n",
    "        massimo: the found maximal edge\n",
    "        sol: tuple representing the two actors with the most collaborations\n",
    "        hist: a list representing the histogram of the edge weights\n",
    "    '''\n",
    "    archi = gr.edges(data=True)\n",
    "    massimo = 0\n",
    "    sol = (None, None)\n",
    "    hist = [0]*500\n",
    "    i = 0\n",
    "    sol = (None, None)\n",
    "    for arco in archi:\n",
    "        curr_weight = arco[2]['weight']\n",
    "        #print(curr_weight)\n",
    "        if massimo < curr_weight:\n",
    "            massimo =  curr_weight\n",
    "            sol = (arco[0], arco[1])\n",
    "            \n",
    "        hist[curr_weight] += 1\n",
    "        i+=1\n",
    "        if i % 1000000 == 0:\n",
    "            print(f\"Iteration: {i}\")\n",
    "    return (massimo, sol, hist)\n",
    "\n",
    "maximum, solution, hist = findMaxCollaborationGivenGraph(actor_graph)\n",
    "pass\n",
    "import pickle \n",
    "with open('q4_hist.pickle', 'wb') as file:\n",
    "    pickle.dump(hist, file, protocol=pickle.HIGHEST_PROTOCOL)"
   ]
  },
  {
   "cell_type": "code",
   "execution_count": 61,
   "id": "d18265ba",
   "metadata": {},
   "outputs": [
    {
     "data": {
      "image/png": "[encoded data removed]",
      "text/plain": [
       "<Figure size 576x432 with 1 Axes>"
      ]
     },
     "metadata": {
      "needs_background": "light"
     },
     "output_type": "display_data"
    }
   ],
   "source": [
    "import matplotlib.pyplot as plt\n",
    "from matplotlib.pyplot import figure\n",
    "\n",
    "figure(figsize=(8, 6))\n",
    "\n",
    "x = range(0,430)\n",
    "y = np.array(hist[0:430])\n",
    "plt.title(\"Distribution of weights (number of collaborations) for each edge\")\n",
    "plt.scatter(x, y, s=4)\n",
    "plt.yscale('log')\n",
    "plt.show()"
   ]
  },
  {
   "cell_type": "markdown",
   "id": "1d898abc",
   "metadata": {},
   "source": [
    "### Notes\n",
    "- [NetworkX docs on bipartite graphs](https://networkx.org/documentation/stable/reference/algorithms/bipartite.html) However, if the input graph is not connected, there are more than one possible colorations. This is the reason why we require the user to pass a container with all nodes of one bipartite node set as an argument to most bipartite functions.\n",
    "- Networkx uses a dictionary of dictionaries of dictionaries, as specified in the docs. NetworkX uses a “dictionary of dictionaries of dictionaries” as the basic network data structure. This allows fast lookup with reasonable storage for large sparse networks. The keys are nodes so G[u] returns an adjacency dictionary keyed by neighbor to the edge attribute dictionary. A view of the adjacency data structure is provided by the dict-like object G.adj as e.g. for node, nbrsdict in G.adj.items():. The expression G[u][v] returns the edge attribute dictionary itself. A dictionary of lists would have also been possible, but not allow fast edge detection nor convenient storage of edge data."
   ]
  },
  {
   "cell_type": "code",
   "execution_count": null,
   "id": "1c9c5a4a",
   "metadata": {},
   "outputs": [],
   "source": []
  }
 ],
 "metadata": {
  "kernelspec": {
   "display_name": "apad",
   "language": "python",
   "name": "apad"
  },
  "language_info": {
   "codemirror_mode": {
    "name": "ipython",
    "version": 3
   },
   "file_extension": ".py",
   "mimetype": "text/x-python",
   "name": "python",
   "nbconvert_exporter": "python",
   "pygments_lexer": "ipython3",
   "version": "3.10.6"
  }
 },
 "nbformat": 4,
 "nbformat_minor": 5
}
