{
 "cells": [
  {
   "cell_type": "code",
   "execution_count": 1,
   "id": "80f9973d",
   "metadata": {},
   "outputs": [],
   "source": [
    "import pandas as pd\n",
    "import networkx as nx\n",
    "from tqdm.notebook import tqdm"
   ]
  },
  {
   "cell_type": "code",
   "execution_count": 2,
   "id": "74d5f880",
   "metadata": {},
   "outputs": [],
   "source": [
    "df = pd.read_csv('imdb_dataset.tsv', sep='\\t', header=None)"
   ]
  },
  {
   "cell_type": "code",
   "execution_count": 3,
   "id": "b6ba9444",
   "metadata": {},
   "outputs": [],
   "source": [
    "edges = df.to_records(index=False)"
   ]
  },
  {
   "cell_type": "code",
   "execution_count": 4,
   "id": "b9b8ce11",
   "metadata": {},
   "outputs": [],
   "source": [
    "#https://pandas.pydata.org/docs/reference/api/pandas.Series.str.extract.html\n",
    "# I think the simple regex is sufficient\n",
    "df[2] = df[1].str.extract(r'(\\d{4})', expand=True)\n",
    "df = df.rename(columns={0: \"actor\", 1: \"movie\", 2: \"year\"})"
   ]
  },
  {
   "cell_type": "code",
   "execution_count": 5,
   "id": "cb0eb39c",
   "metadata": {},
   "outputs": [
    {
     "name": "stdout",
     "output_type": "stream",
     "text": [
      "Number of actors is: 2364796 \n",
      "Number of movies is: 745941 \n",
      "Total nodes will be: 3110737\n",
      "Number of edges is will be: 8104335\n"
     ]
    }
   ],
   "source": [
    "actors = df.actor.unique()\n",
    "movies = df.movie.unique()\n",
    "print(f\"Number of actors is: {actors.size} \\nNumber of movies is: {movies.size} \\nTotal nodes will be: {actors.size + movies.size}\")\n",
    "print(f\"Number of edges is will be: {len(edges)}\")"
   ]
  },
  {
   "cell_type": "code",
   "execution_count": 6,
   "id": "800f0d3d",
   "metadata": {},
   "outputs": [],
   "source": [
    "movies_dict = df.drop(columns='actor').drop_duplicates().set_index('movie').to_dict('index')"
   ]
  },
  {
   "cell_type": "code",
   "execution_count": null,
   "id": "6753db53",
   "metadata": {},
   "outputs": [],
   "source": []
  },
  {
   "cell_type": "code",
   "execution_count": 8,
   "id": "195b09e2",
   "metadata": {},
   "outputs": [
    {
     "name": "stdout",
     "output_type": "stream",
     "text": [
      "Number of nodes after adding actors is 2364796\n",
      "Number of nodes after adding movies is 3110735\n"
     ]
    }
   ],
   "source": [
    "oriGinal = nx.Graph()\n",
    "oriGinal.add_nodes_from(actors, bipartite = 0) #attribute bipartite following documentation recommendations. In this case 0 is actors, 1 is movies\n",
    "print(f\"Number of nodes after adding actors is {oriGinal.number_of_nodes()}\")\n",
    "oriGinal.add_nodes_from(movies_dict, bipartite = 1)\n",
    "print(f\"Number of nodes after adding movies is {oriGinal.number_of_nodes()}\") #???????\n",
    "      "
   ]
  },
  {
   "cell_type": "code",
   "execution_count": 9,
   "id": "c5ff020c",
   "metadata": {},
   "outputs": [],
   "source": [
    "oriGinal.add_edges_from(edges)"
   ]
  },
  {
   "cell_type": "code",
   "execution_count": 20,
   "id": "1ef23ad7",
   "metadata": {},
   "outputs": [
    {
     "ename": "NameError",
     "evalue": "name 'graph' is not defined",
     "output_type": "error",
     "traceback": [
      "\u001b[0;31m---------------------------------------------------------------------------\u001b[0m",
      "\u001b[0;31mNameError\u001b[0m                                 Traceback (most recent call last)",
      "Input \u001b[0;32mIn [20]\u001b[0m, in \u001b[0;36m<cell line: 2>\u001b[0;34m()\u001b[0m\n\u001b[1;32m      1\u001b[0m G \u001b[38;5;241m=\u001b[39m nx\u001b[38;5;241m.\u001b[39mconvert_node_labels_to_integers(oriGinal, label_attribute\u001b[38;5;241m=\u001b[39m\u001b[38;5;124m'\u001b[39m\u001b[38;5;124moriginal_name\u001b[39m\u001b[38;5;124m'\u001b[39m)\n\u001b[0;32m----> 2\u001b[0m actor_nodes \u001b[38;5;241m=\u001b[39m {n \u001b[38;5;28;01mfor\u001b[39;00m n, d \u001b[38;5;129;01min\u001b[39;00m \u001b[43mgraph\u001b[49m\u001b[38;5;241m.\u001b[39mnodes(data\u001b[38;5;241m=\u001b[39m\u001b[38;5;28;01mTrue\u001b[39;00m) \u001b[38;5;28;01mif\u001b[39;00m d[\u001b[38;5;124m\"\u001b[39m\u001b[38;5;124mbipartite\u001b[39m\u001b[38;5;124m\"\u001b[39m] \u001b[38;5;241m==\u001b[39m \u001b[38;5;241m0\u001b[39m}\n\u001b[1;32m      3\u001b[0m movies_nodes \u001b[38;5;241m=\u001b[39m \u001b[38;5;28mset\u001b[39m(B) \u001b[38;5;241m-\u001b[39m actor_nodes\n",
      "\u001b[0;31mNameError\u001b[0m: name 'graph' is not defined"
     ]
    }
   ],
   "source": [
    "G = nx.convert_node_labels_to_integers(oriGinal, label_attribute='original_name')"
   ]
  },
  {
   "cell_type": "code",
   "execution_count": 22,
   "id": "c317fac8",
   "metadata": {},
   "outputs": [],
   "source": [
    "actor_nodes = {n for n, d in G.nodes(data=True) if d[\"bipartite\"] == 0}\n",
    "movies_nodes = set(G) - actor_nodes"
   ]
  },
  {
   "cell_type": "code",
   "execution_count": 27,
   "id": "42521641",
   "metadata": {},
   "outputs": [
    {
     "name": "stdout",
     "output_type": "stream",
     "text": [
      "Number of actor nodes: 2364794\n",
      "Number of movies nodes: 745941\n",
      "Total number of nodes: 3110735\n",
      "#Nodes? True\n",
      "#Edges? True\n"
     ]
    }
   ],
   "source": [
    "#TODO asserts\n",
    "print(f\"Number of actor nodes: {len(actor_nodes)}\")\n",
    "print(f\"Number of movies nodes: {len(movies_nodes)}\")\n",
    "print(f\"Total number of nodes: {len(actor_nodes) + len(movies_nodes)}\")\n",
    "\n",
    "print(f\"#Nodes? {oriGinal.number_of_nodes() == G.number_of_nodes()}\")\n",
    "print(f\"#Edges? {oriGinal.number_of_edges() == G.number_of_edges()}\")"
   ]
  },
  {
   "cell_type": "code",
   "execution_count": 18,
   "id": "9ea60253",
   "metadata": {},
   "outputs": [
    {
     "name": "stdout",
     "output_type": "stream",
     "text": [
      "Aaker, Lee\n"
     ]
    }
   ],
   "source": [
    "names = nx.get_node_attributes(G, \"original_name\")\n",
    "print(names[500])"
   ]
  },
  {
   "cell_type": "code",
   "execution_count": 39,
   "id": "4af3310d",
   "metadata": {},
   "outputs": [
    {
     "name": "stdout",
     "output_type": "stream",
     "text": [
      "{'Zonde (2010)': {}}\n",
      "{'Drug Demon Romance (2012)': {}}\n",
      "{2364839: {}}\n"
     ]
    }
   ],
   "source": [
    "print(oriGinal[\"'t Hoen, Dani?l\"])\n",
    "print(oriGinal[\"'Kid Niagara' Kallet, Harry\"])\n",
    "\n",
    "print(G[40])"
   ]
  },
  {
   "cell_type": "markdown",
   "id": "a0509c4e",
   "metadata": {},
   "source": [
    "Networkx uses a dictionary of dictionaries of dictionaries, as specified in the docs\n",
    "\n",
    "NetworkX uses a “dictionary of dictionaries of dictionaries” as the basic network data structure. This allows fast lookup with reasonable storage for large sparse networks. The keys are nodes so G[u] returns an adjacency dictionary keyed by neighbor to the edge attribute dictionary. A view of the adjacency data structure is provided by the dict-like object G.adj as e.g. for node, nbrsdict in G.adj.items():. The expression G[u][v] returns the edge attribute dictionary itself. A dictionary of lists would have also been possible, but not allow fast edge detection nor convenient storage of edge data."
   ]
  },
  {
   "cell_type": "code",
   "execution_count": 12,
   "id": "dd999425",
   "metadata": {},
   "outputs": [
    {
     "name": "stdout",
     "output_type": "stream",
     "text": [
      "#Nodes? True\n",
      "#Edges? True\n"
     ]
    }
   ],
   "source": []
  },
  {
   "cell_type": "code",
   "execution_count": 13,
   "id": "20cd3699",
   "metadata": {},
   "outputs": [
    {
     "data": {
      "text/plain": [
       "<bound method Graph.size of <networkx.classes.graph.Graph object at 0x2b6e3c520>>"
      ]
     },
     "execution_count": 13,
     "metadata": {},
     "output_type": "execute_result"
    }
   ],
   "source": [
    "G.size"
   ]
  },
  {
   "cell_type": "code",
   "execution_count": 14,
   "id": "350b4bc4",
   "metadata": {},
   "outputs": [
    {
     "data": {
      "text/plain": [
       "AtlasView({2364832: {}})"
      ]
     },
     "execution_count": 14,
     "metadata": {},
     "output_type": "execute_result"
    }
   ],
   "source": [
    "G.adj"
   ]
  },
  {
   "cell_type": "code",
   "execution_count": 15,
   "id": "ae239de3",
   "metadata": {},
   "outputs": [],
   "source": [
    "degree_sequence = sorted((d for n, d in G.degree()), reverse=True)\n",
    "dmax = max(degree_sequence)"
   ]
  },
  {
   "cell_type": "markdown",
   "id": "388abd0b",
   "metadata": {},
   "source": [
    "## Question 1\n",
    "G) Considering only the movies up to year x with x in {1930,1940,1950,1960,1970,1980,1990,2000,2010,2020}, write a function which, given x, computes the average number of movies per actor up to year x. "
   ]
  },
  {
   "cell_type": "code",
   "execution_count": null,
   "id": "680f831a",
   "metadata": {},
   "outputs": [],
   "source": [
    "def avgMoviesPerActorUpToYear(graph, year):\n",
    "    actor_nodes = {n for n, d in graph.nodes(data=True) if d[\"bipartite\"] == 0}\n",
    "    movies_nodes = set(B) - actor_nodes"
   ]
  },
  {
   "cell_type": "markdown",
   "id": "8af29272",
   "metadata": {},
   "source": [
    "## Question 2\n",
    "3) Considering only the movies up to year x with x in {1930,1940,1950,1960,1970,1980,1990,2000,2010,2020} and restricting to the largest connected component of the graph. Approximate the closeness centrality for each node. Who are the top-10 actors?"
   ]
  },
  {
   "cell_type": "code",
   "execution_count": null,
   "id": "351181e2",
   "metadata": {},
   "outputs": [],
   "source": []
  },
  {
   "cell_type": "markdown",
   "id": "8bbaa87d",
   "metadata": {},
   "source": [
    "## Question 3\n",
    "III) Which is the pair of movies that share the largest number of actors?"
   ]
  },
  {
   "cell_type": "code",
   "execution_count": null,
   "id": "f146fa86",
   "metadata": {},
   "outputs": [],
   "source": []
  },
  {
   "cell_type": "markdown",
   "id": "facd2453",
   "metadata": {},
   "source": [
    "## Question 4\n",
    "Build also the actor graph, whose nodes are only actors and two actors are connected if they did a movie together. Answer to the following question:\n",
    "\n",
    "Which is the pair of actors who collaborated the most among themselves?"
   ]
  },
  {
   "cell_type": "code",
   "execution_count": null,
   "id": "2e514054",
   "metadata": {},
   "outputs": [],
   "source": []
  },
  {
   "cell_type": "markdown",
   "id": "1d898abc",
   "metadata": {},
   "source": [
    "### Notes\n",
    "- [NetworkX docs on bipartite graphs](https://networkx.org/documentation/stable/reference/algorithms/bipartite.html) However, if the input graph is not connected, there are more than one possible colorations. This is the reason why we require the user to pass a container with all nodes of one bipartite node set as an argument to most bipartite functions."
   ]
  },
  {
   "cell_type": "code",
   "execution_count": null,
   "id": "1c9c5a4a",
   "metadata": {},
   "outputs": [],
   "source": []
  }
 ],
 "metadata": {
  "kernelspec": {
   "display_name": "apad",
   "language": "python",
   "name": "apad"
  },
  "language_info": {
   "codemirror_mode": {
    "name": "ipython",
    "version": 3
   },
   "file_extension": ".py",
   "mimetype": "text/x-python",
   "name": "python",
   "nbconvert_exporter": "python",
   "pygments_lexer": "ipython3",
   "version": "3.10.6"
  }
 },
 "nbformat": 4,
 "nbformat_minor": 5
}
