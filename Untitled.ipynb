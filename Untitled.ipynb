{
 "cells": [
  {
   "cell_type": "code",
   "execution_count": 8,
   "id": "2c37da40",
   "metadata": {},
   "outputs": [],
   "source": [
    "import pandas as pd\n",
    "import networkx as nx\n",
    "import re\n",
    "# Function to populate a bipartite graph containing actors, movies and their relationships\n",
    "def populateGraph(filename):\n",
    "    df = pd.read_csv(filename, sep=\"\\t\") # dataframe to read the file\n",
    "\n",
    "    graph = nx.Graph() # bipartite graph that will contain actors, movies and their relationships\n",
    "\n",
    "    # dictionaries needed to keep track of the match { actorName : actorGraphID } (same for movies)\n",
    "    actorDic = {}\n",
    "    moviesDic = {}\n",
    "    globalCounter = 0\n",
    "\n",
    "    # for each file row need to extract the actor and movie + year infos and store them as graph nodes\n",
    "    for _, row in df.iterrows(): \n",
    "\n",
    "        actor = row[0]\n",
    "        movieRaw = row[1] # the movie has to be splitted in year and movie name\n",
    "        # extracting the year using a regex, firstly spotting the year region and then the real year\n",
    "        parenthesesString = re.findall(\"\\(\\d{4}.*\\)\", movieRaw) \n",
    "        if(len(parenthesesString) == 1):\n",
    "            year = re.findall(\"\\d{4}\", parenthesesString[0])[0]\n",
    "        else:\n",
    "            year = 0\n",
    "        # adding the actor and movie informations to dictionaries and graph\n",
    "        if(actor not in actorDic):\n",
    "            actorDic[actor] = globalCounter\n",
    "            graph.add_node(globalCounter, bipartite = 0)\n",
    "            globalCounter += 1\n",
    "        if(movieRaw not in moviesDic):\n",
    "            moviesDic[movieRaw] = globalCounter\n",
    "            graph.add_node(globalCounter, year = year, bipartite = 1)\n",
    "            globalCounter += 1\n",
    "        graph.add_edge(actorDic[actor], moviesDic[movieRaw])\n",
    "        \n",
    "    \n",
    "    actorInverseDic =  {v: k for k, v in actorDic.items()}\n",
    "    moviesInverseDic =  {v: k for k, v in moviesDic.items()}\n",
    "    \n",
    "    return (graph, actorDic, actorInverseDic, moviesDic, moviesInverseDic)"
   ]
  },
  {
   "cell_type": "code",
   "execution_count": 9,
   "id": "dbf60677",
   "metadata": {},
   "outputs": [],
   "source": [
    "(G, _, _, _, _) = populateGraph('imdb_dataset.tsv')"
   ]
  },
  {
   "cell_type": "code",
   "execution_count": null,
   "id": "6573e04e",
   "metadata": {},
   "outputs": [],
   "source": []
  }
 ],
 "metadata": {
  "kernelspec": {
   "display_name": "apad",
   "language": "python",
   "name": "apad"
  },
  "language_info": {
   "codemirror_mode": {
    "name": "ipython",
    "version": 3
   },
   "file_extension": ".py",
   "mimetype": "text/x-python",
   "name": "python",
   "nbconvert_exporter": "python",
   "pygments_lexer": "ipython3",
   "version": "3.10.6"
  }
 },
 "nbformat": 4,
 "nbformat_minor": 5
}
